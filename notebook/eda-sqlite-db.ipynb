{
 "cells": [
  {
   "cell_type": "markdown",
   "metadata": {},
   "source": [
    "## EDA using Million Playlist Database in SQLite\n",
    "**Author:** Jamilla Akhund-Zade"
   ]
  },
  {
   "cell_type": "markdown",
   "metadata": {},
   "source": [
    "###Introduction:\n",
    "The Million Playlist Data (MPD) in its raw format is made up of CSVs 0 through 999, each with 1000 playlists. The raw MPD was merged into a single CSV file called 'combined_playlist_v2.csv'. This CSV file has an extra row denoting what CSV file the playlist came from.\n",
    "\n",
    "The columns of the MPD are as follows:\n",
    "\n",
    "1. **pid:** playlist ID within the original CSV\n",
    "2. **pos:** position of song within the playlist\n",
    "3. **artist_name:** name of the artist (string)\n",
    "4. **track_uri:** unique track Spotify Identifier\n",
    "5. **artist_uri:** unique artist Spotify Identifier\n",
    "6. **track_name:** name of the track (string)\n",
    "7. **album_uri:** unique album Spotify Identifier\n",
    "8. **duration_ms:** track duration in ms\n",
    "9. **album_name:** name of album\n",
    "10. **file_name:** identifier of CSV where playlists came from\n",
    "11. **pidfile_name:** unique playlist identifier\n",
    "\n",
    "The MPD is 12GB, which is too large to hold in memory, so I will create an SQLite database so that I can do EDA efficiently, while the data is held out-of-memory. I will use the MacOS built-in SQLite command-line tools:\n",
    "\n",
    "```\n",
    "> sqlite3\n",
    "sqlite> .open mpd.db #open brand-new database\n",
    "sqlite> CREATE TABLE mpd(\n",
    "    pid INTEGER,\n",
    "    pos INTEGER,\n",
    "    artist_name TEXT,\n",
    "    track_uri TEXT,\n",
    "    artist_uri TEXT,\n",
    "    track_name TEXT,\n",
    "    album_uri TEXT,\n",
    "    duration_ms INTEGER,\n",
    "    album_name TEXT,\n",
    "    file_name TEXT,\n",
    "    pidfile_name TEXT\n",
    ");\n",
    "sqlite> .mode csv #set mode to csv\n",
    "sqlite> .import combined_playlist_v2.csv mpd #import csv data to table mpd\n",
    "\n",
    "```"
   ]
  },
  {
   "cell_type": "code",
   "execution_count": 1,
   "metadata": {},
   "outputs": [],
   "source": [
    "#load libraries\n",
    "import pandas as pd\n",
    "import sqlite3"
   ]
  },
  {
   "cell_type": "code",
   "execution_count": 14,
   "metadata": {},
   "outputs": [
    {
     "output_type": "execute_result",
     "data": {
      "text/plain": "   pid  pos              artist_name                             track_uri  \\\n0    0    0         Sleeping At Last  spotify:track:2d7LPtieXdIYzf7yHPooWd   \n1    0    1         Rachael Yamagata  spotify:track:0y4TKcc7p2H6P0GJlt01EI   \n2    0    2  The Cinematic Orchestra  spotify:track:6q4c1vPRZREh7nw3wG7Ixz   \n\n                              artist_uri    track_name  \\\n0  spotify:artist:0MeLMJJcouYXCymQSHPn8g  Chasing Cars   \n1  spotify:artist:7w0qj2HiAPIeUcoPogvOZ6     Elephants   \n2  spotify:artist:32ogthv0BdaSMPml02X9YB     That Home   \n\n                              album_uri  duration_ms  \\\n0  spotify:album:0UIIvTTWNB3gRQWFoxoEDh       242564   \n1  spotify:album:6KzK9fDNmj7GHFbcE4gVJD       253701   \n2  spotify:album:5cPHT4yMCfETLRYAoBFcOZ       103920   \n\n                             album_name file_name pidfile_name  \n0                        Covers, Vol. 2  songs284    0songs284  \n1  Elephants...Teeth Sinking Into Heart  songs284    0songs284  \n2                              Ma Fleur  songs284    0songs284  ",
      "text/html": "<div>\n<style scoped>\n    .dataframe tbody tr th:only-of-type {\n        vertical-align: middle;\n    }\n\n    .dataframe tbody tr th {\n        vertical-align: top;\n    }\n\n    .dataframe thead th {\n        text-align: right;\n    }\n</style>\n<table border=\"1\" class=\"dataframe\">\n  <thead>\n    <tr style=\"text-align: right;\">\n      <th></th>\n      <th>pid</th>\n      <th>pos</th>\n      <th>artist_name</th>\n      <th>track_uri</th>\n      <th>artist_uri</th>\n      <th>track_name</th>\n      <th>album_uri</th>\n      <th>duration_ms</th>\n      <th>album_name</th>\n      <th>file_name</th>\n      <th>pidfile_name</th>\n    </tr>\n  </thead>\n  <tbody>\n    <tr>\n      <th>0</th>\n      <td>0</td>\n      <td>0</td>\n      <td>Sleeping At Last</td>\n      <td>spotify:track:2d7LPtieXdIYzf7yHPooWd</td>\n      <td>spotify:artist:0MeLMJJcouYXCymQSHPn8g</td>\n      <td>Chasing Cars</td>\n      <td>spotify:album:0UIIvTTWNB3gRQWFoxoEDh</td>\n      <td>242564</td>\n      <td>Covers, Vol. 2</td>\n      <td>songs284</td>\n      <td>0songs284</td>\n    </tr>\n    <tr>\n      <th>1</th>\n      <td>0</td>\n      <td>1</td>\n      <td>Rachael Yamagata</td>\n      <td>spotify:track:0y4TKcc7p2H6P0GJlt01EI</td>\n      <td>spotify:artist:7w0qj2HiAPIeUcoPogvOZ6</td>\n      <td>Elephants</td>\n      <td>spotify:album:6KzK9fDNmj7GHFbcE4gVJD</td>\n      <td>253701</td>\n      <td>Elephants...Teeth Sinking Into Heart</td>\n      <td>songs284</td>\n      <td>0songs284</td>\n    </tr>\n    <tr>\n      <th>2</th>\n      <td>0</td>\n      <td>2</td>\n      <td>The Cinematic Orchestra</td>\n      <td>spotify:track:6q4c1vPRZREh7nw3wG7Ixz</td>\n      <td>spotify:artist:32ogthv0BdaSMPml02X9YB</td>\n      <td>That Home</td>\n      <td>spotify:album:5cPHT4yMCfETLRYAoBFcOZ</td>\n      <td>103920</td>\n      <td>Ma Fleur</td>\n      <td>songs284</td>\n      <td>0songs284</td>\n    </tr>\n  </tbody>\n</table>\n</div>"
     },
     "metadata": {},
     "execution_count": 14
    }
   ],
   "source": [
    "#test query\n",
    "con = sqlite3.connect(\"/Users/jamillaakhund-zade/CS109A/Spotify_Project/data/mpd.db\")\n",
    "df = pd.read_sql_query(\"SELECT * FROM mpd LIMIT 3\", con) #select top 3 rows\n",
    "\n",
    "df.head()"
   ]
  },
  {
   "cell_type": "code",
   "execution_count": 17,
   "metadata": {},
   "outputs": [
    {
     "output_type": "stream",
     "name": "stdout",
     "text": "pid              int64\npos              int64\nartist_name     object\ntrack_uri       object\nartist_uri      object\ntrack_name      object\nalbum_uri       object\nduration_ms      int64\nalbum_name      object\nfile_name       object\npidfile_name    object\ndtype: object\n"
    }
   ],
   "source": [
    "print(df.dtypes)"
   ]
  },
  {
   "cell_type": "code",
   "execution_count": null,
   "metadata": {},
   "outputs": [],
   "source": []
  }
 ],
 "metadata": {
  "language_info": {
   "codemirror_mode": {
    "name": "ipython",
    "version": 3
   },
   "file_extension": ".py",
   "mimetype": "text/x-python",
   "name": "python",
   "nbconvert_exporter": "python",
   "pygments_lexer": "ipython3",
   "version": "3.7.4-final"
  },
  "orig_nbformat": 2,
  "kernelspec": {
   "name": "python37464bit109aconda17fbc35b70e04d1eb12e4c88d589c7bd",
   "display_name": "Python 3.7.4 64-bit ('109a': conda)"
  }
 },
 "nbformat": 4,
 "nbformat_minor": 2
}