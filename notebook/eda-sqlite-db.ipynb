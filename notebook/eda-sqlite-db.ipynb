{
 "cells": [
  {
   "cell_type": "markdown",
   "metadata": {},
   "source": [
    "## EDA using Million Playlist Database in SQLite\n",
    "**Author:** Jamilla Akhund-Zade"
   ]
  },
  {
   "cell_type": "markdown",
   "metadata": {},
   "source": [
    "###Introduction:\n",
    "The Million Playlist Data (MPD) in its raw format is made up of CSVs 0 through 999, each with 1000 playlists. The raw MPD was merged into a single CSV file called 'combined_playlist_v2.csv'. This CSV file has an extra row denoting what CSV file the playlist came from.\n",
    "\n",
    "The columns of the MPD are as follows:\n",
    "\n",
    "1. **pid:** playlist ID within the original CSV\n",
    "2. **pos:** position of song within the playlist\n",
    "3. **artist_name:** name of the artist (string)\n",
    "4. **track_uri:** unique track Spotify Identifier\n",
    "5. **artist_uri:** unique artist Spotify Identifier\n",
    "6. **track_name:** name of the track (string)\n",
    "7. **album_uri:** unique album Spotify Identifier\n",
    "8. **duration_ms:** track duration in ms\n",
    "9. **album_name:** name of album\n",
    "10. **file_name:** identifier of CSV where playlists came from\n",
    "11. **pidfile_name:** unique playlist identifier\n",
    "\n",
    "The MPD is 12GB, which is too large to hold in memory, so I will create an SQLite database so that I can do EDA efficiently, while the data is held out-of-memory. I will use the MacOS built-in SQLite command-line tools:\n",
    "\n",
    "```\n",
    "> sqlite3\n",
    "sqlite> .open mpd.db #open brand-new database\n",
    "sqlite> CREATE TABLE mpd(\n",
    "    pid INTEGER,\n",
    "    pos INTEGER,\n",
    "    artist_name TEXT,\n",
    "    track_uri TEXT,\n",
    "    artist_uri TEXT,\n",
    "    track_name TEXT,\n",
    "    album_uri TEXT,\n",
    "    duration_ms INTEGER,\n",
    "    album_name TEXT,\n",
    "    file_name TEXT,\n",
    "    pidfile_name TEXT\n",
    ");\n",
    "sqlite> .mode csv #set mode to csv\n",
    "sqlite> .import combined_playlist_v2.csv mpd #import csv data to table mpd\n",
    "\n",
    "#create artist table\n",
    "CREATE TABLE artists (\n",
    "   id INTEGER NOT NULL PRIMARY KEY,\n",
    "   artist_uri TEXT NOT NULL,\n",
    "   artist_name TEXT NOT NULL\n",
    ");\n",
    "INSERT INTO artists(artist_uri, artist_name) SELECT DISTINCT artist_uri, artist_name FROM mpd;\n",
    "\n",
    "#create album table\n",
    "CREATE TABLE albums (\n",
    "   id INTEGER NOT NULL PRIMARY KEY,\n",
    "   album_uri TEXT NOT NULL,\n",
    "   album_name TEXT NOT NULL\n",
    ");\n",
    "INSERT INTO albums(album_uri, album_name) SELECT DISTINCT album_uri, album_name FROM mpd;\n",
    "\n",
    "#create song table\n",
    "CREATE TABLE songs (\n",
    "   track_id INTEGER NOT NULL PRIMARY KEY,\n",
    "   track_uri TEXT NOT NULL,\n",
    "   track_name TEXT NOT NULL,\n",
    "   duration_ms INTEGER NOT NULL,\n",
    "   artist_uri TEXT NOT NULL,\n",
    "   album_uri TEXT NOT NULL\n",
    ");\n",
    "INSERT INTO songs(track_uri, track_name, duration_ms, artist_uri, album_uri) \n",
    "SELECT DISTINCT track_uri, track_name, duration_ms, artist_uri, album_uri FROM mpd;\n",
    "\n",
    "ALTER TABLE songs RENAME TO old_songs;\n",
    "\n",
    "CREATE TABLE songs AS\n",
    "SELECT track_id, track_uri, track_name, duration_ms, artists.id AS artist_id, albums.id AS album_id\n",
    "FROM old_songs\n",
    "LEFT JOIN artists ON old_songs.artist_uri = artists.artist_uri\n",
    "LEFT JOIN albums ON old_songs.album_uri = albums.album_uri;\n",
    "\n",
    "DROP TABLE old_songs;\n",
    "\n",
    "PRAGMA foreign_keys = ON;\n",
    "ALTER TABLE songs RENAME TO old_songs;\n",
    "CREATE TABLE songs (\n",
    "   track_id INTEGER NOT NULL PRIMARY KEY,\n",
    "   track_uri TEXT NOT NULL,\n",
    "   track_name TEXT NOT NULL,\n",
    "   duration_ms INTEGER NOT NULL,\n",
    "   artist_id INTEGER NOT NULL,\n",
    "   album_id INTEGER NOT NULL,\n",
    "   FOREIGN KEY (artist_id) REFERENCES artists(id),\n",
    "   FOREIGN KEY (album_id) REFERENCES albums(id)  \n",
    ");\n",
    "INSERT INTO songs\n",
    "SELECT * FROM old_songs;\n",
    "\n",
    "DROP TABLE old_songs;\n",
    "\n",
    "PRAGMA foreign_keys = OFF;\n",
    "\n",
    "#create playlist table\n",
    "ALTER TABLE mpd RENAME TO old_mpd;\n",
    "\n",
    "CREATE TABLE mpd AS\n",
    "SELECT pid, pos, songs.track_id AS track_id, file_name, pidfile_name\n",
    "FROM old_mpd\n",
    "LEFT JOIN songs ON old_mpd.track_uri = songs.track_uri;\n",
    "\n",
    "ALTER TABLE mpd RENAME TO temp_mpd;\n",
    "CREATE TABLE mpd (\n",
    "   id INTEGER NOT NULL PRIMARY KEY,\n",
    "   pid INTEGER NOT NULL,\n",
    "   pos INTEGER NOT NULL,\n",
    "   track_id INTEGER NOT NULL,\n",
    "   file_name TEXT NOT NULL,\n",
    "   pidfile_name TEXT NOT NULL,\n",
    "   FOREIGN KEY (track_id) REFERENCES songs(track_id)\n",
    ");\n",
    "INSERT INTO mpd(pid, pos, track_id, file_name, pidfile_name)\n",
    "SELECT pid, pos, track_id, file_name, pidfile_name FROM temp_mpd;\n",
    "\n",
    "DROP TABLE temp_mpd, old_mpd;\n",
    "\n",
    "PRAGMA foreign_keys = OFF;\n",
    "```"
   ]
  },
  {
   "cell_type": "code",
   "execution_count": 1,
   "metadata": {},
   "outputs": [],
   "source": [
    "#load libraries\n",
    "import pandas as pd\n",
    "import sqlite3"
   ]
  },
  {
   "cell_type": "code",
   "execution_count": 2,
   "metadata": {},
   "outputs": [],
   "source": [
    "#connect to sqlite database\n",
    "con = sqlite3.connect(\"/Users/jamillaakhund-zade/CS109A/Spotify_Project/data/mpd.db\")"
   ]
  },
  {
   "cell_type": "code",
   "execution_count": 6,
   "metadata": {},
   "outputs": [
    {
     "output_type": "stream",
     "name": "stdout",
     "text": "Total records: 66346428\n"
    }
   ],
   "source": [
    "#count number of unique records\n",
    "cur = con.cursor() #cursor to hold query results\n",
    "\n",
    "cur.execute('SELECT MAX(id) FROM mpd') \n",
    "#note: this only works accurately since mpd is a static table, where rows are not inserted/deleted\n",
    "print(f'Total records: {cur.fetchone()[0]}')"
   ]
  },
  {
   "cell_type": "code",
   "execution_count": 8,
   "metadata": {},
   "outputs": [
    {
     "output_type": "stream",
     "name": "stdout",
     "text": "unique songs: 2262292\n"
    }
   ],
   "source": [
    "#count distinct songs\n",
    "cur = con.cursor() #cursor to hold query results\n",
    "\n",
    "cur.execute('SELECT MAX(track_id) FROM songs')\n",
    "print(f'unique songs: {cur.fetchone()[0]}')"
   ]
  },
  {
   "cell_type": "code",
   "execution_count": null,
   "metadata": {},
   "outputs": [],
   "source": []
  }
 ],
 "metadata": {
  "language_info": {
   "codemirror_mode": {
    "name": "ipython",
    "version": 3
   },
   "file_extension": ".py",
   "mimetype": "text/x-python",
   "name": "python",
   "nbconvert_exporter": "python",
   "pygments_lexer": "ipython3",
   "version": "3.7.4-final"
  },
  "orig_nbformat": 2,
  "kernelspec": {
   "name": "python37464bit109aconda17fbc35b70e04d1eb12e4c88d589c7bd",
   "display_name": "Python 3.7.4 64-bit ('109a': conda)"
  }
 },
 "nbformat": 4,
 "nbformat_minor": 2
}