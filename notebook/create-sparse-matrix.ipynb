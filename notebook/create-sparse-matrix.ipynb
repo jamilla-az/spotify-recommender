{
 "cells": [
  {
   "cell_type": "markdown",
   "metadata": {},
   "source": [
    "## Playlist x Unique Songs Sparse Matrix\n",
    "\n",
    "For further model building, it will be helpful to have a sparse matrix that encodes our playlists in rows and our unique songs in columns. A one (1) in a particular cell of the matrix means that playlist has that song. A zero (0) means it doesn't. We need to carefully look at sparsity here - a matrix that is too sparse means that using matrix factorization to learn latent variables wouldn't work very well because there aren't enough playlist/song interactions. How much of an impact this has is something that I would like to test by creating matrices of varying sparsity through filtering out playlists with few songs or songs rarely featured. \n",
    "\n",
    "references: https://www.ethanrosenthal.com/2016/10/19/implicit-mf-part-1/, https://jessesw.com/Rec-System/"
   ]
  },
  {
   "cell_type": "code",
   "execution_count": 1,
   "metadata": {},
   "outputs": [],
   "source": [
    "#load libraries\n",
    "import pandas as pd\n",
    "import numpy as np\n",
    "import sqlite3\n",
    "import matplotlib.pyplot as plt\n",
    "import seaborn as sns\n",
    "import scipy.sparse as sparse\n",
    "import random\n",
    "import itertools\n",
    "import copy"
   ]
  },
  {
   "cell_type": "code",
   "execution_count": 2,
   "metadata": {},
   "outputs": [],
   "source": [
    "con = sqlite3.connect(\"/Users/jamillaakhund-zade/CS109A/Spotify_Project/data/mpd.db\")"
   ]
  },
  {
   "cell_type": "code",
   "execution_count": 3,
   "metadata": {},
   "outputs": [
    {
     "output_type": "stream",
     "name": "stdout",
     "text": "Num playlists: 1000000\nNum unique songs: 2262292\nSparsity: 99.997%\n"
    }
   ],
   "source": [
    "#calculate sparsity as 100 - (actual num of playlist-song interactions/all possible playlist-song interactions)\n",
    "\n",
    "n_pls = 1000000 #we know we have 1 million playlists - it's the name of the dataset!\n",
    "\n",
    "cur = con.cursor()\n",
    "cur.execute('SELECT MAX(track_id) FROM songs')\n",
    "n_songs = cur.fetchone()[0] #query songs table for num unique songs\n",
    "\n",
    "cur = con.cursor()\n",
    "cur.execute('SELECT MAX(id) FROM mpd') \n",
    "mpd_shape = cur.fetchone()[0] #get num of playlist x track interactions\n",
    "\n",
    "#calculate matrix sparsity\n",
    "print(f'Num playlists: {n_pls}')\n",
    "print(f'Num unique songs: {n_songs}')\n",
    "print(f'Sparsity: {100 - float(mpd_shape)/float(n_pls*n_songs) * 100:0.3f}%')\n"
   ]
  },
  {
   "cell_type": "markdown",
   "metadata": {},
   "source": [
    "This is very high sparsity! It might be too low for us to make matrix factorization models work. We should try filtering out songs that appear less than N (N is our choice) times across the whole dataset and playlists with too few songs. This might serve to make our matrix more dense. We should be aiming for a sparsity of 99.5% and below (https://jessesw.com/Rec-System/)\n",
    "\n",
    "Out of curiosity, I would like to make a sparse matrix out of the unfiltered data in order to test just how much the matrix factorization model will be impacted by including these short playlists/rare songs. "
   ]
  },
  {
   "cell_type": "code",
   "execution_count": 4,
   "metadata": {},
   "outputs": [
    {
     "output_type": "stream",
     "name": "stdout",
     "text": "(66346428, 2)\n"
    },
    {
     "output_type": "execute_result",
     "data": {
      "text/plain": "   pid  track_id\n0    1         1\n1    1         2\n2    1         3\n3    1         4\n4    1         5",
      "text/html": "<div>\n<style scoped>\n    .dataframe tbody tr th:only-of-type {\n        vertical-align: middle;\n    }\n\n    .dataframe tbody tr th {\n        vertical-align: top;\n    }\n\n    .dataframe thead th {\n        text-align: right;\n    }\n</style>\n<table border=\"1\" class=\"dataframe\">\n  <thead>\n    <tr style=\"text-align: right;\">\n      <th></th>\n      <th>pid</th>\n      <th>track_id</th>\n    </tr>\n  </thead>\n  <tbody>\n    <tr>\n      <th>0</th>\n      <td>1</td>\n      <td>1</td>\n    </tr>\n    <tr>\n      <th>1</th>\n      <td>1</td>\n      <td>2</td>\n    </tr>\n    <tr>\n      <th>2</th>\n      <td>1</td>\n      <td>3</td>\n    </tr>\n    <tr>\n      <th>3</th>\n      <td>1</td>\n      <td>4</td>\n    </tr>\n    <tr>\n      <th>4</th>\n      <td>1</td>\n      <td>5</td>\n    </tr>\n  </tbody>\n</table>\n</div>"
     },
     "metadata": {},
     "execution_count": 4
    }
   ],
   "source": [
    "mpd = pd.read_sql('SELECT pid, track_id FROM mpd', con)\n",
    "print(mpd.shape)\n",
    "mpd.head()"
   ]
  },
  {
   "cell_type": "code",
   "execution_count": 28,
   "metadata": {},
   "outputs": [],
   "source": [
    "#make sparse matrix\n",
    "cols = mpd.pid.astype('category').cat.codes # make category codes/indices for each playlist\n",
    "rows = mpd.track_id.astype('category').cat.codes # make category codes/indices for each song\n",
    "likes = np.ones(mpd.shape[0]) #1s if song is in playlist"
   ]
  },
  {
   "cell_type": "code",
   "execution_count": 29,
   "metadata": {},
   "outputs": [],
   "source": [
    "songs_mat = sparse.csr_matrix((likes, (rows, cols)), dtype=np.float64) #make sparse matrix\n",
    "#print(songs.groupby(by=['pid']).count()['track_id'])"
   ]
  },
  {
   "cell_type": "code",
   "execution_count": 31,
   "metadata": {},
   "outputs": [
    {
     "output_type": "execute_result",
     "data": {
      "text/plain": "<2262292x1000000 sparse matrix of type '<class 'numpy.float64'>'\n\twith 65464776 stored elements in Compressed Sparse Row format>"
     },
     "metadata": {},
     "execution_count": 31
    }
   ],
   "source": [
    "songs_mat\n",
    "\n",
    "#fewer elements in matrix than number of records - this is because duplicate songs in the same playlist are lumped into the same cell - if a song is featured twice in the same playlist, that playlist x song interaction cell will now be 2 instead of 1. "
   ]
  },
  {
   "cell_type": "code",
   "execution_count": 14,
   "metadata": {},
   "outputs": [
    {
     "output_type": "execute_result",
     "data": {
      "text/plain": "<961x1 sparse matrix of type '<class 'numpy.float64'>'\n\twith 20 stored elements in Compressed Sparse Row format>"
     },
     "metadata": {},
     "execution_count": 14
    }
   ],
   "source": [
    "songs_mat.getcol(10)"
   ]
  },
  {
   "cell_type": "code",
   "execution_count": 32,
   "metadata": {},
   "outputs": [],
   "source": [
    "sparse.save_npz('/Users/jamillaakhund-zade/CS109A/Spotify_Project/data/full_item_user_matrix.npz', songs_mat)"
   ]
  },
  {
   "cell_type": "code",
   "execution_count": 33,
   "metadata": {},
   "outputs": [],
   "source": [
    "con.close()"
   ]
  },
  {
   "cell_type": "code",
   "execution_count": 17,
   "metadata": {},
   "outputs": [],
   "source": [
    "def threshold_data_sqlite(path, min_pid_length, min_track_cts):\n",
    "    '''\n",
    "    drops all playlists with length less than min_pid_length and all tracks featured \n",
    "    less than min_track_cts in the data. Does so iteratively until data size remains stable.\n",
    "    Inspired by code from https://www.ethanrosenthal.com/2016/10/19/implicit-mf-part-1/\n",
    "  \n",
    "    uses sqlite commands to do filtering and dropping within the database\n",
    "    '''\n",
    "    #connect to sqlite database\n",
    "    con = sqlite3.connect(path)\n",
    "    #establish cursor\n",
    "    cur = con.cursor()\n",
    "\n",
    "    done = False\n",
    "    while not done:\n",
    "        #starting num rows dropped\n",
    "        start_rows_dropped = con.total_changes #num rows inserted/deleted/modified since database opened\n",
    "\n",
    "        #filter playlists\n",
    "        cur.execute('DELETE FROM mpd WHERE pid IN \\\n",
    "                    (SELECT pid \\\n",
    "                    FROM mpd \\\n",
    "                    GROUP BY pid \\\n",
    "                    HAVING COUNT(track_id) < (?))', (min_pid_length,))\n",
    "\n",
    "        #filter songs\n",
    "        cur.execute('DELETE FROM mpd WHERE track_id IN \\\n",
    "                    (SELECT track_id \\\n",
    "                    FROM mpd \\\n",
    "                    GROUP BY track_id \\\n",
    "                    HAVING COUNT(pid) < (?))', (min_track_cts,))\n",
    "\n",
    "        #ending num rows dropped\n",
    "        end_rows_dropped = con.total_changes\n",
    "\n",
    "        #break out of while loop if no more rows filtered out\n",
    "        if start_rows_dropped == end_rows_dropped:\n",
    "            done = True\n",
    "    \n",
    "    #grab dataframe from filtered table\n",
    "    cur.execute('SELECT pid, track_id FROM mpd')\n",
    "    df = pd.DataFrame(cur.fetchall(), columns = ['pid', 'track_id'])\n",
    "\n",
    "    con.close() #close connection\n",
    "\n",
    "    #calculate sparsity of new table\n",
    "    n_pls = df.pid.unique().shape[0]\n",
    "    n_songs = df.track_id.unique().shape[0]\n",
    "\n",
    "    #calculate new matrix sparsity\n",
    "    print(f'Num playlists: {n_pls}')\n",
    "    print(f'Num unique songs: {n_songs}')\n",
    "    print(f'Sparsity: {100 - float(df.shape[0]) /float(n_pls*n_songs) * 100:0.5f}%')\n",
    "\n",
    "    return df    "
   ]
  },
  {
   "cell_type": "code",
   "execution_count": 18,
   "metadata": {},
   "outputs": [
    {
     "output_type": "stream",
     "name": "stdout",
     "text": "Num playlists: 713814\nNum unique songs: 177584\nSparsity: 99.95661%\n"
    }
   ],
   "source": [
    "path = \"/Users/jamillaakhund-zade/CS109A/Spotify_Project/data/mpd.db\"\n",
    "thresh_df = threshold_data_sqlite(path, 25, 25)"
   ]
  },
  {
   "cell_type": "code",
   "execution_count": 19,
   "metadata": {},
   "outputs": [
    {
     "output_type": "stream",
     "name": "stdout",
     "text": "25\n25\n"
    }
   ],
   "source": [
    "print(thresh_df['pid'].value_counts().min())\n",
    "print(thresh_df['track_id'].value_counts().min())"
   ]
  },
  {
   "cell_type": "code",
   "execution_count": null,
   "metadata": {},
   "outputs": [],
   "source": [
    "def threshold_data(songs, min_pid_length, min_track_cts):\n",
    "  '''drops all playlists with length less than min_pid_length and all tracks featured \n",
    "  less than min_track_cts in the data. Does so iteratively until data size remains stable.\n",
    "  Inspired by code from https://www.ethanrosenthal.com/2016/10/19/implicit-mf-part-1/'''\n",
    "\n",
    "  done = False\n",
    "  while not done:\n",
    "    starting_shape = songs.shape[0] #print starting num rows\n",
    "    #filter playlists\n",
    "    pid_cts = songs['pidfile_name'].value_counts()\n",
    "    drop_idx = songs.loc[songs.pidfile_name.isin(pid_cts[pid_cts < min_pid_length].index)].index\n",
    "    songs.drop(drop_idx, inplace = True)\n",
    "    #filter songs\n",
    "    track_cts = songs['track_uri'].value_counts()\n",
    "    drop_idx = songs.loc[songs.track_uri.isin(track_cts[track_cts < min_track_cts].index)].index\n",
    "    songs.drop(drop_idx, inplace = True)\n",
    "    #print ending num rows\n",
    "    ending_shape = songs.shape[0]\n",
    "    #break out of while loop if no more rows filtered out\n",
    "    if starting_shape == ending_shape:\n",
    "      done = True\n",
    "\n",
    "  n_pls = songs.pidfile_name.unique().shape[0]\n",
    "  n_songs = songs.track_uri.unique().shape[0]\n",
    "\n",
    "  #calculate new matrix sparsity\n",
    "  print(f'Num playlists: {n_pls}')\n",
    "  print(f'Num unique songs: {n_songs}')\n",
    "  print(f'Sparsity: {100 - float(songs.shape[0]) /float(n_pls*n_songs) * 100:0.5f}%')\n"
   ]
  }
 ],
 "metadata": {
  "language_info": {
   "codemirror_mode": {
    "name": "ipython",
    "version": 3
   },
   "file_extension": ".py",
   "mimetype": "text/x-python",
   "name": "python",
   "nbconvert_exporter": "python",
   "pygments_lexer": "ipython3",
   "version": "3.7.4-final"
  },
  "orig_nbformat": 2,
  "kernelspec": {
   "name": "python37464bit109aconda17fbc35b70e04d1eb12e4c88d589c7bd",
   "display_name": "Python 3.7.4 64-bit ('109a': conda)"
  }
 },
 "nbformat": 4,
 "nbformat_minor": 2
}