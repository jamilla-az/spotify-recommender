{
 "cells": [
  {
   "cell_type": "markdown",
   "metadata": {},
   "source": [
    "## Playlist x Unique Songs Sparse Matrix\n",
    "\n",
    "For further model building, it will be helpful to have a sparse matrix that encodes our playlists in rows and our unique songs in columns. A one (1) in a particular cell of the matrix means that playlist has that song. A zero (0) means it doesn't. We need to carefully look at sparsity here - a matrix that is too sparse means that using matrix factorization to learn latent variables wouldn't work very well because there aren't enough playlist/song interactions. How much of an impact this has is something that I would like to test by creating matrices of varying sparsity through filtering out playlists with few songs or songs rarely featured. \n",
    "\n",
    "references: https://www.ethanrosenthal.com/2016/10/19/implicit-mf-part-1/, https://jessesw.com/Rec-System/"
   ]
  },
  {
   "cell_type": "code",
   "execution_count": 1,
   "metadata": {},
   "outputs": [],
   "source": [
    "#load libraries\n",
    "import pandas as pd\n",
    "import numpy as np\n",
    "import sqlite3\n",
    "import matplotlib.pyplot as plt\n",
    "import seaborn as sns\n",
    "import scipy.sparse as sparse\n",
    "import random\n",
    "import itertools\n",
    "import copy"
   ]
  },
  {
   "cell_type": "code",
   "execution_count": 8,
   "metadata": {},
   "outputs": [],
   "source": [
    "con = sqlite3.connect(\"/Users/jamillaakhund-zade/CS109A/Spotify_Project/data/mpd.db\")"
   ]
  },
  {
   "cell_type": "code",
   "execution_count": 12,
   "metadata": {},
   "outputs": [
    {
     "output_type": "stream",
     "name": "stdout",
     "text": "Num playlists: 1000000\nNum unique songs: 2262292\nSparsity: 99.997%\n"
    }
   ],
   "source": [
    "#calculate sparsity as 100 - (actual num of playlist-song interactions/all possible playlist-song interactions)\n",
    "\n",
    "n_pls = 1000000 #we know we have 1 million playlists - it's the name of the dataset!\n",
    "\n",
    "cur = con.cursor()\n",
    "cur.execute('SELECT MAX(track_id) FROM songs')\n",
    "n_songs = cur.fetchone()[0] #query songs table for num unique songs\n",
    "\n",
    "cur = con.cursor()\n",
    "cur.execute('SELECT MAX(id) FROM mpd') \n",
    "mpd_shape = cur.fetchone()[0] #get num of playlist x track interactions\n",
    "\n",
    "#calculate matrix sparsity\n",
    "print(f'Num playlists: {n_pls}')\n",
    "print(f'Num unique songs: {n_songs}')\n",
    "print(f'Sparsity: {100 - float(mpd_shape)/float(n_pls*n_songs) * 100:0.3f}%')\n"
   ]
  },
  {
   "cell_type": "markdown",
   "metadata": {},
   "source": [
    "This is very high sparsity! It might be too low for us to make matrix factorization models work. We should try filtering out songs that appear less than N (N is our choice) times across the whole dataset and playlists with too few songs. This might serve to make our matrix more dense. We should be aiming for a sparsity of 99.5% and below (https://jessesw.com/Rec-System/)\n",
    "\n",
    "Out of curiosity, I would like to make a sparse matrix out of the unfiltered data in order to test just how much the matrix factorization model will be impacted by including these short playlists/rare songs. "
   ]
  },
  {
   "cell_type": "code",
   "execution_count": 13,
   "metadata": {},
   "outputs": [
    {
     "output_type": "execute_result",
     "data": {
      "text/plain": "  pidfile_name  track_id\n0    0songs284         1\n1    0songs284         2\n2    0songs284         3\n3    0songs284         4\n4    0songs284         5",
      "text/html": "<div>\n<style scoped>\n    .dataframe tbody tr th:only-of-type {\n        vertical-align: middle;\n    }\n\n    .dataframe tbody tr th {\n        vertical-align: top;\n    }\n\n    .dataframe thead th {\n        text-align: right;\n    }\n</style>\n<table border=\"1\" class=\"dataframe\">\n  <thead>\n    <tr style=\"text-align: right;\">\n      <th></th>\n      <th>pidfile_name</th>\n      <th>track_id</th>\n    </tr>\n  </thead>\n  <tbody>\n    <tr>\n      <th>0</th>\n      <td>0songs284</td>\n      <td>1</td>\n    </tr>\n    <tr>\n      <th>1</th>\n      <td>0songs284</td>\n      <td>2</td>\n    </tr>\n    <tr>\n      <th>2</th>\n      <td>0songs284</td>\n      <td>3</td>\n    </tr>\n    <tr>\n      <th>3</th>\n      <td>0songs284</td>\n      <td>4</td>\n    </tr>\n    <tr>\n      <th>4</th>\n      <td>0songs284</td>\n      <td>5</td>\n    </tr>\n  </tbody>\n</table>\n</div>"
     },
     "metadata": {},
     "execution_count": 13
    }
   ],
   "source": [
    "mpd = pd.read_sql('SELECT pidfile_name, track_id FROM mpd', con)\n",
    "mpd.head()"
   ]
  },
  {
   "cell_type": "code",
   "execution_count": 23,
   "metadata": {},
   "outputs": [
    {
     "output_type": "execute_result",
     "data": {
      "text/plain": "   pidfile_name  track_id\n50    1songs284        51\n51    1songs284        52\n52    1songs284        53\n53    1songs284        54\n54    1songs284        55",
      "text/html": "<div>\n<style scoped>\n    .dataframe tbody tr th:only-of-type {\n        vertical-align: middle;\n    }\n\n    .dataframe tbody tr th {\n        vertical-align: top;\n    }\n\n    .dataframe thead th {\n        text-align: right;\n    }\n</style>\n<table border=\"1\" class=\"dataframe\">\n  <thead>\n    <tr style=\"text-align: right;\">\n      <th></th>\n      <th>pidfile_name</th>\n      <th>track_id</th>\n    </tr>\n  </thead>\n  <tbody>\n    <tr>\n      <th>50</th>\n      <td>1songs284</td>\n      <td>51</td>\n    </tr>\n    <tr>\n      <th>51</th>\n      <td>1songs284</td>\n      <td>52</td>\n    </tr>\n    <tr>\n      <th>52</th>\n      <td>1songs284</td>\n      <td>53</td>\n    </tr>\n    <tr>\n      <th>53</th>\n      <td>1songs284</td>\n      <td>54</td>\n    </tr>\n    <tr>\n      <th>54</th>\n      <td>1songs284</td>\n      <td>55</td>\n    </tr>\n  </tbody>\n</table>\n</div>"
     },
     "metadata": {},
     "execution_count": 23
    }
   ],
   "source": [
    "songs = mpd.iloc[50:100,:]\n",
    "songs.head()"
   ]
  },
  {
   "cell_type": "code",
   "execution_count": 41,
   "metadata": {},
   "outputs": [],
   "source": [
    "#make sparse matrix\n",
    "cols = songs.pidfile_name.astype('category').cat.codes # make category codes/indices for each playlist\n",
    "rows = songs.track_id.astype('category').cat.codes # make category codes/indices for each song\n",
    "likes = np.ones(songs.shape[0]) #1s if song is in playlist"
   ]
  },
  {
   "cell_type": "code",
   "execution_count": 52,
   "metadata": {},
   "outputs": [
    {
     "output_type": "execute_result",
     "data": {
      "text/plain": "50"
     },
     "metadata": {},
     "execution_count": 52
    }
   ],
   "source": [
    "songs_mat = sparse.csr_matrix((likes, (rows, cols)), dtype=np.float64) #make sparse matrix\n",
    "#songs.groupby(by=['pidfile_name']).count()['track_id']\n",
    "songs_mat.nnz"
   ]
  },
  {
   "cell_type": "code",
   "execution_count": null,
   "metadata": {},
   "outputs": [],
   "source": [
    "con.close()"
   ]
  },
  {
   "cell_type": "code",
   "execution_count": 17,
   "metadata": {},
   "outputs": [],
   "source": [
    "def threshold_data_sqlite(path, min_pid_length, min_track_cts):\n",
    "    '''\n",
    "    drops all playlists with length less than min_pid_length and all tracks featured \n",
    "    less than min_track_cts in the data. Does so iteratively until data size remains stable.\n",
    "    Inspired by code from https://www.ethanrosenthal.com/2016/10/19/implicit-mf-part-1/\n",
    "  \n",
    "    uses sqlite commands to do filtering and dropping within the database\n",
    "    '''\n",
    "    #connect to sqlite database\n",
    "    con = sqlite3.connect(path)\n",
    "    #establish cursor\n",
    "    cur = con.cursor()\n",
    "\n",
    "    done = False\n",
    "    while not done:\n",
    "        #starting num rows dropped\n",
    "        start_rows_dropped = con.total_changes #num rows inserted/deleted/modified since database opened\n",
    "\n",
    "        #filter playlists\n",
    "        cur.execute('DELETE FROM mpd WHERE pidfile_name IN \\\n",
    "                    (SELECT pidfile_name \\\n",
    "                    FROM mpd \\\n",
    "                    GROUP BY pidfile_name \\\n",
    "                    HAVING COUNT(track_id) < (?))', (min_pid_length,))\n",
    "\n",
    "        #filter songs\n",
    "        cur.execute('DELETE FROM mpd WHERE track_id IN \\\n",
    "                    (SELECT track_id \\\n",
    "                    FROM mpd \\\n",
    "                    GROUP BY track_id \\\n",
    "                    HAVING COUNT(pidfile_name) < (?))', (min_track_cts,))\n",
    "\n",
    "        #ending num rows dropped\n",
    "        end_rows_dropped = con.total_changes\n",
    "\n",
    "        #break out of while loop if no more rows filtered out\n",
    "        if start_rows_dropped == end_rows_dropped:\n",
    "            done = True\n",
    "    \n",
    "    #grab dataframe from filtered table\n",
    "    cur.execute('SELECT pidfile_name, track_id FROM mpd')\n",
    "    df = pd.DataFrame(cur.fetchall(), columns = ['pidfile_name', 'track_id'])\n",
    "\n",
    "    con.close() #close connection\n",
    "\n",
    "    #calculate sparsity of new table\n",
    "    n_pls = df.pidfile_name.unique().shape[0]\n",
    "    n_songs = df.track_id.unique().shape[0]\n",
    "\n",
    "    #calculate new matrix sparsity\n",
    "    print(f'Num playlists: {n_pls}')\n",
    "    print(f'Num unique songs: {n_songs}')\n",
    "    print(f'Sparsity: {100 - float(df.shape[0]) /float(n_pls*n_songs) * 100:0.5f}%')\n",
    "\n",
    "    return df    "
   ]
  },
  {
   "cell_type": "code",
   "execution_count": 18,
   "metadata": {},
   "outputs": [
    {
     "output_type": "stream",
     "name": "stdout",
     "text": "Num playlists: 713814\nNum unique songs: 177584\nSparsity: 99.95661%\n"
    }
   ],
   "source": [
    "path = \"/Users/jamillaakhund-zade/CS109A/Spotify_Project/data/mpd.db\"\n",
    "thresh_df = threshold_data_sqlite(path, 25, 25)"
   ]
  },
  {
   "cell_type": "code",
   "execution_count": 19,
   "metadata": {},
   "outputs": [
    {
     "output_type": "stream",
     "name": "stdout",
     "text": "25\n25\n"
    }
   ],
   "source": [
    "print(thresh_df['pidfile_name'].value_counts().min())\n",
    "print(thresh_df['track_id'].value_counts().min())"
   ]
  },
  {
   "cell_type": "code",
   "execution_count": null,
   "metadata": {},
   "outputs": [],
   "source": [
    "def threshold_data(songs, min_pid_length, min_track_cts):\n",
    "  '''drops all playlists with length less than min_pid_length and all tracks featured \n",
    "  less than min_track_cts in the data. Does so iteratively until data size remains stable.\n",
    "  Inspired by code from https://www.ethanrosenthal.com/2016/10/19/implicit-mf-part-1/'''\n",
    "\n",
    "  done = False\n",
    "  while not done:\n",
    "    starting_shape = songs.shape[0] #print starting num rows\n",
    "    #filter playlists\n",
    "    pid_cts = songs['pidfile_name'].value_counts()\n",
    "    drop_idx = songs.loc[songs.pidfile_name.isin(pid_cts[pid_cts < min_pid_length].index)].index\n",
    "    songs.drop(drop_idx, inplace = True)\n",
    "    #filter songs\n",
    "    track_cts = songs['track_uri'].value_counts()\n",
    "    drop_idx = songs.loc[songs.track_uri.isin(track_cts[track_cts < min_track_cts].index)].index\n",
    "    songs.drop(drop_idx, inplace = True)\n",
    "    #print ending num rows\n",
    "    ending_shape = songs.shape[0]\n",
    "    #break out of while loop if no more rows filtered out\n",
    "    if starting_shape == ending_shape:\n",
    "      done = True\n",
    "\n",
    "  n_pls = songs.pidfile_name.unique().shape[0]\n",
    "  n_songs = songs.track_uri.unique().shape[0]\n",
    "\n",
    "  #calculate new matrix sparsity\n",
    "  print(f'Num playlists: {n_pls}')\n",
    "  print(f'Num unique songs: {n_songs}')\n",
    "  print(f'Sparsity: {100 - float(songs.shape[0]) /float(n_pls*n_songs) * 100:0.5f}%')\n"
   ]
  }
 ],
 "metadata": {
  "language_info": {
   "codemirror_mode": {
    "name": "ipython",
    "version": 3
   },
   "file_extension": ".py",
   "mimetype": "text/x-python",
   "name": "python",
   "nbconvert_exporter": "python",
   "pygments_lexer": "ipython3",
   "version": "3.7.4-final"
  },
  "orig_nbformat": 2,
  "kernelspec": {
   "name": "python37464bit109aconda17fbc35b70e04d1eb12e4c88d589c7bd",
   "display_name": "Python 3.7.4 64-bit ('109a': conda)"
  }
 },
 "nbformat": 4,
 "nbformat_minor": 2
}