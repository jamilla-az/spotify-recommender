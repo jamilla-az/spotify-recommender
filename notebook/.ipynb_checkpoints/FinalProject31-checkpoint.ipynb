{
  "nbformat": 4,
  "nbformat_minor": 0,
  "metadata": {
    "colab": {
      "name": "FinalProject31.ipynb",
      "provenance": [],
      "collapsed_sections": [],
      "toc_visible": true,
      "machine_shape": "hm",
      "include_colab_link": true
    },
    "kernelspec": {
      "name": "python3",
      "display_name": "Python 3"
    },
    "accelerator": "GPU",
    "widgets": {
      "application/vnd.jupyter.widget-state+json": {
        "a714cbb4be234ab8b07ec9f137be078c": {
          "model_module": "@jupyter-widgets/controls",
          "model_name": "HBoxModel",
          "state": {
            "_view_name": "HBoxView",
            "_dom_classes": [],
            "_model_name": "HBoxModel",
            "_view_module": "@jupyter-widgets/controls",
            "_model_module_version": "1.5.0",
            "_view_count": null,
            "_view_module_version": "1.5.0",
            "box_style": "",
            "layout": "IPY_MODEL_55aca67e12414e4f82329e0a63ef3ada",
            "_model_module": "@jupyter-widgets/controls",
            "children": [
              "IPY_MODEL_2bf574121ce0498ea5e5b7d385dcc665",
              "IPY_MODEL_4c9fffc19c684bbdbc82022650094c56"
            ]
          }
        },
        "55aca67e12414e4f82329e0a63ef3ada": {
          "model_module": "@jupyter-widgets/base",
          "model_name": "LayoutModel",
          "state": {
            "_view_name": "LayoutView",
            "grid_template_rows": null,
            "right": null,
            "justify_content": null,
            "_view_module": "@jupyter-widgets/base",
            "overflow": null,
            "_model_module_version": "1.2.0",
            "_view_count": null,
            "flex_flow": null,
            "width": null,
            "min_width": null,
            "border": null,
            "align_items": null,
            "bottom": null,
            "_model_module": "@jupyter-widgets/base",
            "top": null,
            "grid_column": null,
            "overflow_y": null,
            "overflow_x": null,
            "grid_auto_flow": null,
            "grid_area": null,
            "grid_template_columns": null,
            "flex": null,
            "_model_name": "LayoutModel",
            "justify_items": null,
            "grid_row": null,
            "max_height": null,
            "align_content": null,
            "visibility": null,
            "align_self": null,
            "height": null,
            "min_height": null,
            "padding": null,
            "grid_auto_rows": null,
            "grid_gap": null,
            "max_width": null,
            "order": null,
            "_view_module_version": "1.2.0",
            "grid_template_areas": null,
            "object_position": null,
            "object_fit": null,
            "grid_auto_columns": null,
            "margin": null,
            "display": null,
            "left": null
          }
        },
        "2bf574121ce0498ea5e5b7d385dcc665": {
          "model_module": "@jupyter-widgets/controls",
          "model_name": "IntProgressModel",
          "state": {
            "_view_name": "ProgressView",
            "style": "IPY_MODEL_ce8d60f571754b9891b7d5f48315ff26",
            "_dom_classes": [],
            "description": "",
            "_model_name": "IntProgressModel",
            "bar_style": "success",
            "max": 50,
            "_view_module": "@jupyter-widgets/controls",
            "_model_module_version": "1.5.0",
            "value": 50,
            "_view_count": null,
            "_view_module_version": "1.5.0",
            "orientation": "horizontal",
            "min": 0,
            "description_tooltip": null,
            "_model_module": "@jupyter-widgets/controls",
            "layout": "IPY_MODEL_3bbce1fb9d884f62af74796065595e87"
          }
        },
        "4c9fffc19c684bbdbc82022650094c56": {
          "model_module": "@jupyter-widgets/controls",
          "model_name": "HTMLModel",
          "state": {
            "_view_name": "HTMLView",
            "style": "IPY_MODEL_c5d3427909fe4b08acdaf99e99362a04",
            "_dom_classes": [],
            "description": "",
            "_model_name": "HTMLModel",
            "placeholder": "​",
            "_view_module": "@jupyter-widgets/controls",
            "_model_module_version": "1.5.0",
            "value": "100% 50/50 [00:10&lt;00:00,  4.65it/s]",
            "_view_count": null,
            "_view_module_version": "1.5.0",
            "description_tooltip": null,
            "_model_module": "@jupyter-widgets/controls",
            "layout": "IPY_MODEL_16ea0aeed20a40cca3e5528b84788db1"
          }
        },
        "ce8d60f571754b9891b7d5f48315ff26": {
          "model_module": "@jupyter-widgets/controls",
          "model_name": "ProgressStyleModel",
          "state": {
            "_view_name": "StyleView",
            "_model_name": "ProgressStyleModel",
            "description_width": "",
            "_view_module": "@jupyter-widgets/base",
            "_model_module_version": "1.5.0",
            "_view_count": null,
            "_view_module_version": "1.2.0",
            "bar_color": null,
            "_model_module": "@jupyter-widgets/controls"
          }
        },
        "3bbce1fb9d884f62af74796065595e87": {
          "model_module": "@jupyter-widgets/base",
          "model_name": "LayoutModel",
          "state": {
            "_view_name": "LayoutView",
            "grid_template_rows": null,
            "right": null,
            "justify_content": null,
            "_view_module": "@jupyter-widgets/base",
            "overflow": null,
            "_model_module_version": "1.2.0",
            "_view_count": null,
            "flex_flow": null,
            "width": null,
            "min_width": null,
            "border": null,
            "align_items": null,
            "bottom": null,
            "_model_module": "@jupyter-widgets/base",
            "top": null,
            "grid_column": null,
            "overflow_y": null,
            "overflow_x": null,
            "grid_auto_flow": null,
            "grid_area": null,
            "grid_template_columns": null,
            "flex": null,
            "_model_name": "LayoutModel",
            "justify_items": null,
            "grid_row": null,
            "max_height": null,
            "align_content": null,
            "visibility": null,
            "align_self": null,
            "height": null,
            "min_height": null,
            "padding": null,
            "grid_auto_rows": null,
            "grid_gap": null,
            "max_width": null,
            "order": null,
            "_view_module_version": "1.2.0",
            "grid_template_areas": null,
            "object_position": null,
            "object_fit": null,
            "grid_auto_columns": null,
            "margin": null,
            "display": null,
            "left": null
          }
        },
        "c5d3427909fe4b08acdaf99e99362a04": {
          "model_module": "@jupyter-widgets/controls",
          "model_name": "DescriptionStyleModel",
          "state": {
            "_view_name": "StyleView",
            "_model_name": "DescriptionStyleModel",
            "description_width": "",
            "_view_module": "@jupyter-widgets/base",
            "_model_module_version": "1.5.0",
            "_view_count": null,
            "_view_module_version": "1.2.0",
            "_model_module": "@jupyter-widgets/controls"
          }
        },
        "16ea0aeed20a40cca3e5528b84788db1": {
          "model_module": "@jupyter-widgets/base",
          "model_name": "LayoutModel",
          "state": {
            "_view_name": "LayoutView",
            "grid_template_rows": null,
            "right": null,
            "justify_content": null,
            "_view_module": "@jupyter-widgets/base",
            "overflow": null,
            "_model_module_version": "1.2.0",
            "_view_count": null,
            "flex_flow": null,
            "width": null,
            "min_width": null,
            "border": null,
            "align_items": null,
            "bottom": null,
            "_model_module": "@jupyter-widgets/base",
            "top": null,
            "grid_column": null,
            "overflow_y": null,
            "overflow_x": null,
            "grid_auto_flow": null,
            "grid_area": null,
            "grid_template_columns": null,
            "flex": null,
            "_model_name": "LayoutModel",
            "justify_items": null,
            "grid_row": null,
            "max_height": null,
            "align_content": null,
            "visibility": null,
            "align_self": null,
            "height": null,
            "min_height": null,
            "padding": null,
            "grid_auto_rows": null,
            "grid_gap": null,
            "max_width": null,
            "order": null,
            "_view_module_version": "1.2.0",
            "grid_template_areas": null,
            "object_position": null,
            "object_fit": null,
            "grid_auto_columns": null,
            "margin": null,
            "display": null,
            "left": null
          }
        },
        "262ccbe3e70d46968ed460ecb8721260": {
          "model_module": "@jupyter-widgets/controls",
          "model_name": "HBoxModel",
          "state": {
            "_view_name": "HBoxView",
            "_dom_classes": [],
            "_model_name": "HBoxModel",
            "_view_module": "@jupyter-widgets/controls",
            "_model_module_version": "1.5.0",
            "_view_count": null,
            "_view_module_version": "1.5.0",
            "box_style": "",
            "layout": "IPY_MODEL_aa6f76ce83d44ef1933eda173309ccb9",
            "_model_module": "@jupyter-widgets/controls",
            "children": [
              "IPY_MODEL_cdae8ced8db94fbd9f5608a650191bb7",
              "IPY_MODEL_61ad08483e7d4f14bbad5f678571ba5a"
            ]
          }
        },
        "aa6f76ce83d44ef1933eda173309ccb9": {
          "model_module": "@jupyter-widgets/base",
          "model_name": "LayoutModel",
          "state": {
            "_view_name": "LayoutView",
            "grid_template_rows": null,
            "right": null,
            "justify_content": null,
            "_view_module": "@jupyter-widgets/base",
            "overflow": null,
            "_model_module_version": "1.2.0",
            "_view_count": null,
            "flex_flow": null,
            "width": null,
            "min_width": null,
            "border": null,
            "align_items": null,
            "bottom": null,
            "_model_module": "@jupyter-widgets/base",
            "top": null,
            "grid_column": null,
            "overflow_y": null,
            "overflow_x": null,
            "grid_auto_flow": null,
            "grid_area": null,
            "grid_template_columns": null,
            "flex": null,
            "_model_name": "LayoutModel",
            "justify_items": null,
            "grid_row": null,
            "max_height": null,
            "align_content": null,
            "visibility": null,
            "align_self": null,
            "height": null,
            "min_height": null,
            "padding": null,
            "grid_auto_rows": null,
            "grid_gap": null,
            "max_width": null,
            "order": null,
            "_view_module_version": "1.2.0",
            "grid_template_areas": null,
            "object_position": null,
            "object_fit": null,
            "grid_auto_columns": null,
            "margin": null,
            "display": null,
            "left": null
          }
        },
        "cdae8ced8db94fbd9f5608a650191bb7": {
          "model_module": "@jupyter-widgets/controls",
          "model_name": "IntProgressModel",
          "state": {
            "_view_name": "ProgressView",
            "style": "IPY_MODEL_adfee7be858e4fec92addd191eddfbc4",
            "_dom_classes": [],
            "description": "",
            "_model_name": "IntProgressModel",
            "bar_style": "success",
            "max": 188756,
            "_view_module": "@jupyter-widgets/controls",
            "_model_module_version": "1.5.0",
            "value": 188756,
            "_view_count": null,
            "_view_module_version": "1.5.0",
            "orientation": "horizontal",
            "min": 0,
            "description_tooltip": null,
            "_model_module": "@jupyter-widgets/controls",
            "layout": "IPY_MODEL_6b34c712f2414d3c983c7e2a0aca0d9f"
          }
        },
        "61ad08483e7d4f14bbad5f678571ba5a": {
          "model_module": "@jupyter-widgets/controls",
          "model_name": "HTMLModel",
          "state": {
            "_view_name": "HTMLView",
            "style": "IPY_MODEL_c462cd4d612c45bfb7b01c129a57857b",
            "_dom_classes": [],
            "description": "",
            "_model_name": "HTMLModel",
            "placeholder": "​",
            "_view_module": "@jupyter-widgets/controls",
            "_model_module_version": "1.5.0",
            "value": "100% 188756/188756 [01:18&lt;00:00, 2515.49it/s]",
            "_view_count": null,
            "_view_module_version": "1.5.0",
            "description_tooltip": null,
            "_model_module": "@jupyter-widgets/controls",
            "layout": "IPY_MODEL_0057d5833e444b3fb4bcd1b11473f912"
          }
        },
        "adfee7be858e4fec92addd191eddfbc4": {
          "model_module": "@jupyter-widgets/controls",
          "model_name": "ProgressStyleModel",
          "state": {
            "_view_name": "StyleView",
            "_model_name": "ProgressStyleModel",
            "description_width": "",
            "_view_module": "@jupyter-widgets/base",
            "_model_module_version": "1.5.0",
            "_view_count": null,
            "_view_module_version": "1.2.0",
            "bar_color": null,
            "_model_module": "@jupyter-widgets/controls"
          }
        },
        "6b34c712f2414d3c983c7e2a0aca0d9f": {
          "model_module": "@jupyter-widgets/base",
          "model_name": "LayoutModel",
          "state": {
            "_view_name": "LayoutView",
            "grid_template_rows": null,
            "right": null,
            "justify_content": null,
            "_view_module": "@jupyter-widgets/base",
            "overflow": null,
            "_model_module_version": "1.2.0",
            "_view_count": null,
            "flex_flow": null,
            "width": null,
            "min_width": null,
            "border": null,
            "align_items": null,
            "bottom": null,
            "_model_module": "@jupyter-widgets/base",
            "top": null,
            "grid_column": null,
            "overflow_y": null,
            "overflow_x": null,
            "grid_auto_flow": null,
            "grid_area": null,
            "grid_template_columns": null,
            "flex": null,
            "_model_name": "LayoutModel",
            "justify_items": null,
            "grid_row": null,
            "max_height": null,
            "align_content": null,
            "visibility": null,
            "align_self": null,
            "height": null,
            "min_height": null,
            "padding": null,
            "grid_auto_rows": null,
            "grid_gap": null,
            "max_width": null,
            "order": null,
            "_view_module_version": "1.2.0",
            "grid_template_areas": null,
            "object_position": null,
            "object_fit": null,
            "grid_auto_columns": null,
            "margin": null,
            "display": null,
            "left": null
          }
        },
        "c462cd4d612c45bfb7b01c129a57857b": {
          "model_module": "@jupyter-widgets/controls",
          "model_name": "DescriptionStyleModel",
          "state": {
            "_view_name": "StyleView",
            "_model_name": "DescriptionStyleModel",
            "description_width": "",
            "_view_module": "@jupyter-widgets/base",
            "_model_module_version": "1.5.0",
            "_view_count": null,
            "_view_module_version": "1.2.0",
            "_model_module": "@jupyter-widgets/controls"
          }
        },
        "0057d5833e444b3fb4bcd1b11473f912": {
          "model_module": "@jupyter-widgets/base",
          "model_name": "LayoutModel",
          "state": {
            "_view_name": "LayoutView",
            "grid_template_rows": null,
            "right": null,
            "justify_content": null,
            "_view_module": "@jupyter-widgets/base",
            "overflow": null,
            "_model_module_version": "1.2.0",
            "_view_count": null,
            "flex_flow": null,
            "width": null,
            "min_width": null,
            "border": null,
            "align_items": null,
            "bottom": null,
            "_model_module": "@jupyter-widgets/base",
            "top": null,
            "grid_column": null,
            "overflow_y": null,
            "overflow_x": null,
            "grid_auto_flow": null,
            "grid_area": null,
            "grid_template_columns": null,
            "flex": null,
            "_model_name": "LayoutModel",
            "justify_items": null,
            "grid_row": null,
            "max_height": null,
            "align_content": null,
            "visibility": null,
            "align_self": null,
            "height": null,
            "min_height": null,
            "padding": null,
            "grid_auto_rows": null,
            "grid_gap": null,
            "max_width": null,
            "order": null,
            "_view_module_version": "1.2.0",
            "grid_template_areas": null,
            "object_position": null,
            "object_fit": null,
            "grid_auto_columns": null,
            "margin": null,
            "display": null,
            "left": null
          }
        },
        "4047418bb64f455da2e5bc0a04e38576": {
          "model_module": "@jupyter-widgets/controls",
          "model_name": "HBoxModel",
          "state": {
            "_view_name": "HBoxView",
            "_dom_classes": [],
            "_model_name": "HBoxModel",
            "_view_module": "@jupyter-widgets/controls",
            "_model_module_version": "1.5.0",
            "_view_count": null,
            "_view_module_version": "1.5.0",
            "box_style": "",
            "layout": "IPY_MODEL_99b26438b19140d1af5eb57c507a828b",
            "_model_module": "@jupyter-widgets/controls",
            "children": [
              "IPY_MODEL_747f34dfa20f40ad83a8eb68400121f5",
              "IPY_MODEL_a037121ca858457e9ba2f2f369661d16"
            ]
          }
        },
        "99b26438b19140d1af5eb57c507a828b": {
          "model_module": "@jupyter-widgets/base",
          "model_name": "LayoutModel",
          "state": {
            "_view_name": "LayoutView",
            "grid_template_rows": null,
            "right": null,
            "justify_content": null,
            "_view_module": "@jupyter-widgets/base",
            "overflow": null,
            "_model_module_version": "1.2.0",
            "_view_count": null,
            "flex_flow": null,
            "width": null,
            "min_width": null,
            "border": null,
            "align_items": null,
            "bottom": null,
            "_model_module": "@jupyter-widgets/base",
            "top": null,
            "grid_column": null,
            "overflow_y": null,
            "overflow_x": null,
            "grid_auto_flow": null,
            "grid_area": null,
            "grid_template_columns": null,
            "flex": null,
            "_model_name": "LayoutModel",
            "justify_items": null,
            "grid_row": null,
            "max_height": null,
            "align_content": null,
            "visibility": null,
            "align_self": null,
            "height": null,
            "min_height": null,
            "padding": null,
            "grid_auto_rows": null,
            "grid_gap": null,
            "max_width": null,
            "order": null,
            "_view_module_version": "1.2.0",
            "grid_template_areas": null,
            "object_position": null,
            "object_fit": null,
            "grid_auto_columns": null,
            "margin": null,
            "display": null,
            "left": null
          }
        },
        "747f34dfa20f40ad83a8eb68400121f5": {
          "model_module": "@jupyter-widgets/controls",
          "model_name": "IntProgressModel",
          "state": {
            "_view_name": "ProgressView",
            "style": "IPY_MODEL_444eb1c9697c4bda97f0e5754259853b",
            "_dom_classes": [],
            "description": "",
            "_model_name": "IntProgressModel",
            "bar_style": "success",
            "max": 188756,
            "_view_module": "@jupyter-widgets/controls",
            "_model_module_version": "1.5.0",
            "value": 188756,
            "_view_count": null,
            "_view_module_version": "1.5.0",
            "orientation": "horizontal",
            "min": 0,
            "description_tooltip": null,
            "_model_module": "@jupyter-widgets/controls",
            "layout": "IPY_MODEL_1fdc57ce37ba449491018dc965346921"
          }
        },
        "a037121ca858457e9ba2f2f369661d16": {
          "model_module": "@jupyter-widgets/controls",
          "model_name": "HTMLModel",
          "state": {
            "_view_name": "HTMLView",
            "style": "IPY_MODEL_2ae3ca4edf8d46edb0727eb4f15e301b",
            "_dom_classes": [],
            "description": "",
            "_model_name": "HTMLModel",
            "placeholder": "​",
            "_view_module": "@jupyter-widgets/controls",
            "_model_module_version": "1.5.0",
            "value": "100% 188756/188756 [01:14&lt;00:00, 2525.55it/s]",
            "_view_count": null,
            "_view_module_version": "1.5.0",
            "description_tooltip": null,
            "_model_module": "@jupyter-widgets/controls",
            "layout": "IPY_MODEL_f42120dfcdea4cc1887bda0e240d9335"
          }
        },
        "444eb1c9697c4bda97f0e5754259853b": {
          "model_module": "@jupyter-widgets/controls",
          "model_name": "ProgressStyleModel",
          "state": {
            "_view_name": "StyleView",
            "_model_name": "ProgressStyleModel",
            "description_width": "",
            "_view_module": "@jupyter-widgets/base",
            "_model_module_version": "1.5.0",
            "_view_count": null,
            "_view_module_version": "1.2.0",
            "bar_color": null,
            "_model_module": "@jupyter-widgets/controls"
          }
        },
        "1fdc57ce37ba449491018dc965346921": {
          "model_module": "@jupyter-widgets/base",
          "model_name": "LayoutModel",
          "state": {
            "_view_name": "LayoutView",
            "grid_template_rows": null,
            "right": null,
            "justify_content": null,
            "_view_module": "@jupyter-widgets/base",
            "overflow": null,
            "_model_module_version": "1.2.0",
            "_view_count": null,
            "flex_flow": null,
            "width": null,
            "min_width": null,
            "border": null,
            "align_items": null,
            "bottom": null,
            "_model_module": "@jupyter-widgets/base",
            "top": null,
            "grid_column": null,
            "overflow_y": null,
            "overflow_x": null,
            "grid_auto_flow": null,
            "grid_area": null,
            "grid_template_columns": null,
            "flex": null,
            "_model_name": "LayoutModel",
            "justify_items": null,
            "grid_row": null,
            "max_height": null,
            "align_content": null,
            "visibility": null,
            "align_self": null,
            "height": null,
            "min_height": null,
            "padding": null,
            "grid_auto_rows": null,
            "grid_gap": null,
            "max_width": null,
            "order": null,
            "_view_module_version": "1.2.0",
            "grid_template_areas": null,
            "object_position": null,
            "object_fit": null,
            "grid_auto_columns": null,
            "margin": null,
            "display": null,
            "left": null
          }
        },
        "2ae3ca4edf8d46edb0727eb4f15e301b": {
          "model_module": "@jupyter-widgets/controls",
          "model_name": "DescriptionStyleModel",
          "state": {
            "_view_name": "StyleView",
            "_model_name": "DescriptionStyleModel",
            "description_width": "",
            "_view_module": "@jupyter-widgets/base",
            "_model_module_version": "1.5.0",
            "_view_count": null,
            "_view_module_version": "1.2.0",
            "_model_module": "@jupyter-widgets/controls"
          }
        },
        "f42120dfcdea4cc1887bda0e240d9335": {
          "model_module": "@jupyter-widgets/base",
          "model_name": "LayoutModel",
          "state": {
            "_view_name": "LayoutView",
            "grid_template_rows": null,
            "right": null,
            "justify_content": null,
            "_view_module": "@jupyter-widgets/base",
            "overflow": null,
            "_model_module_version": "1.2.0",
            "_view_count": null,
            "flex_flow": null,
            "width": null,
            "min_width": null,
            "border": null,
            "align_items": null,
            "bottom": null,
            "_model_module": "@jupyter-widgets/base",
            "top": null,
            "grid_column": null,
            "overflow_y": null,
            "overflow_x": null,
            "grid_auto_flow": null,
            "grid_area": null,
            "grid_template_columns": null,
            "flex": null,
            "_model_name": "LayoutModel",
            "justify_items": null,
            "grid_row": null,
            "max_height": null,
            "align_content": null,
            "visibility": null,
            "align_self": null,
            "height": null,
            "min_height": null,
            "padding": null,
            "grid_auto_rows": null,
            "grid_gap": null,
            "max_width": null,
            "order": null,
            "_view_module_version": "1.2.0",
            "grid_template_areas": null,
            "object_position": null,
            "object_fit": null,
            "grid_auto_columns": null,
            "margin": null,
            "display": null,
            "left": null
          }
        },
        "1d136332d0ba4001bf5f01a539e0e36e": {
          "model_module": "@jupyter-widgets/controls",
          "model_name": "HBoxModel",
          "state": {
            "_view_name": "HBoxView",
            "_dom_classes": [],
            "_model_name": "HBoxModel",
            "_view_module": "@jupyter-widgets/controls",
            "_model_module_version": "1.5.0",
            "_view_count": null,
            "_view_module_version": "1.5.0",
            "box_style": "",
            "layout": "IPY_MODEL_2058b5cde72446b39d2bf9d9614248ee",
            "_model_module": "@jupyter-widgets/controls",
            "children": [
              "IPY_MODEL_64e7d6d4080e4eafaaf855e05f9b2b7a",
              "IPY_MODEL_2163e48bc0ad4291a9c6b4cdd30a2352"
            ]
          }
        },
        "2058b5cde72446b39d2bf9d9614248ee": {
          "model_module": "@jupyter-widgets/base",
          "model_name": "LayoutModel",
          "state": {
            "_view_name": "LayoutView",
            "grid_template_rows": null,
            "right": null,
            "justify_content": null,
            "_view_module": "@jupyter-widgets/base",
            "overflow": null,
            "_model_module_version": "1.2.0",
            "_view_count": null,
            "flex_flow": null,
            "width": null,
            "min_width": null,
            "border": null,
            "align_items": null,
            "bottom": null,
            "_model_module": "@jupyter-widgets/base",
            "top": null,
            "grid_column": null,
            "overflow_y": null,
            "overflow_x": null,
            "grid_auto_flow": null,
            "grid_area": null,
            "grid_template_columns": null,
            "flex": null,
            "_model_name": "LayoutModel",
            "justify_items": null,
            "grid_row": null,
            "max_height": null,
            "align_content": null,
            "visibility": null,
            "align_self": null,
            "height": null,
            "min_height": null,
            "padding": null,
            "grid_auto_rows": null,
            "grid_gap": null,
            "max_width": null,
            "order": null,
            "_view_module_version": "1.2.0",
            "grid_template_areas": null,
            "object_position": null,
            "object_fit": null,
            "grid_auto_columns": null,
            "margin": null,
            "display": null,
            "left": null
          }
        },
        "64e7d6d4080e4eafaaf855e05f9b2b7a": {
          "model_module": "@jupyter-widgets/controls",
          "model_name": "IntProgressModel",
          "state": {
            "_view_name": "ProgressView",
            "style": "IPY_MODEL_cb9421750a7746bbba721c047677d0bf",
            "_dom_classes": [],
            "description": "",
            "_model_name": "IntProgressModel",
            "bar_style": "success",
            "max": 10,
            "_view_module": "@jupyter-widgets/controls",
            "_model_module_version": "1.5.0",
            "value": 10,
            "_view_count": null,
            "_view_module_version": "1.5.0",
            "orientation": "horizontal",
            "min": 0,
            "description_tooltip": null,
            "_model_module": "@jupyter-widgets/controls",
            "layout": "IPY_MODEL_691af40c9e1a405f84616ee38e072504"
          }
        },
        "2163e48bc0ad4291a9c6b4cdd30a2352": {
          "model_module": "@jupyter-widgets/controls",
          "model_name": "HTMLModel",
          "state": {
            "_view_name": "HTMLView",
            "style": "IPY_MODEL_a788e988191d4000a192af76572505cb",
            "_dom_classes": [],
            "description": "",
            "_model_name": "HTMLModel",
            "placeholder": "​",
            "_view_module": "@jupyter-widgets/controls",
            "_model_module_version": "1.5.0",
            "value": "100% 10/10 [00:03&lt;00:00,  2.70it/s]",
            "_view_count": null,
            "_view_module_version": "1.5.0",
            "description_tooltip": null,
            "_model_module": "@jupyter-widgets/controls",
            "layout": "IPY_MODEL_5297e028f5fd4a179d523eb75531f1c4"
          }
        },
        "cb9421750a7746bbba721c047677d0bf": {
          "model_module": "@jupyter-widgets/controls",
          "model_name": "ProgressStyleModel",
          "state": {
            "_view_name": "StyleView",
            "_model_name": "ProgressStyleModel",
            "description_width": "",
            "_view_module": "@jupyter-widgets/base",
            "_model_module_version": "1.5.0",
            "_view_count": null,
            "_view_module_version": "1.2.0",
            "bar_color": null,
            "_model_module": "@jupyter-widgets/controls"
          }
        },
        "691af40c9e1a405f84616ee38e072504": {
          "model_module": "@jupyter-widgets/base",
          "model_name": "LayoutModel",
          "state": {
            "_view_name": "LayoutView",
            "grid_template_rows": null,
            "right": null,
            "justify_content": null,
            "_view_module": "@jupyter-widgets/base",
            "overflow": null,
            "_model_module_version": "1.2.0",
            "_view_count": null,
            "flex_flow": null,
            "width": null,
            "min_width": null,
            "border": null,
            "align_items": null,
            "bottom": null,
            "_model_module": "@jupyter-widgets/base",
            "top": null,
            "grid_column": null,
            "overflow_y": null,
            "overflow_x": null,
            "grid_auto_flow": null,
            "grid_area": null,
            "grid_template_columns": null,
            "flex": null,
            "_model_name": "LayoutModel",
            "justify_items": null,
            "grid_row": null,
            "max_height": null,
            "align_content": null,
            "visibility": null,
            "align_self": null,
            "height": null,
            "min_height": null,
            "padding": null,
            "grid_auto_rows": null,
            "grid_gap": null,
            "max_width": null,
            "order": null,
            "_view_module_version": "1.2.0",
            "grid_template_areas": null,
            "object_position": null,
            "object_fit": null,
            "grid_auto_columns": null,
            "margin": null,
            "display": null,
            "left": null
          }
        },
        "a788e988191d4000a192af76572505cb": {
          "model_module": "@jupyter-widgets/controls",
          "model_name": "DescriptionStyleModel",
          "state": {
            "_view_name": "StyleView",
            "_model_name": "DescriptionStyleModel",
            "description_width": "",
            "_view_module": "@jupyter-widgets/base",
            "_model_module_version": "1.5.0",
            "_view_count": null,
            "_view_module_version": "1.2.0",
            "_model_module": "@jupyter-widgets/controls"
          }
        },
        "5297e028f5fd4a179d523eb75531f1c4": {
          "model_module": "@jupyter-widgets/base",
          "model_name": "LayoutModel",
          "state": {
            "_view_name": "LayoutView",
            "grid_template_rows": null,
            "right": null,
            "justify_content": null,
            "_view_module": "@jupyter-widgets/base",
            "overflow": null,
            "_model_module_version": "1.2.0",
            "_view_count": null,
            "flex_flow": null,
            "width": null,
            "min_width": null,
            "border": null,
            "align_items": null,
            "bottom": null,
            "_model_module": "@jupyter-widgets/base",
            "top": null,
            "grid_column": null,
            "overflow_y": null,
            "overflow_x": null,
            "grid_auto_flow": null,
            "grid_area": null,
            "grid_template_columns": null,
            "flex": null,
            "_model_name": "LayoutModel",
            "justify_items": null,
            "grid_row": null,
            "max_height": null,
            "align_content": null,
            "visibility": null,
            "align_self": null,
            "height": null,
            "min_height": null,
            "padding": null,
            "grid_auto_rows": null,
            "grid_gap": null,
            "max_width": null,
            "order": null,
            "_view_module_version": "1.2.0",
            "grid_template_areas": null,
            "object_position": null,
            "object_fit": null,
            "grid_auto_columns": null,
            "margin": null,
            "display": null,
            "left": null
          }
        },
        "5323d00e8121454bacf383c0efdd8c97": {
          "model_module": "@jupyter-widgets/controls",
          "model_name": "HBoxModel",
          "state": {
            "_view_name": "HBoxView",
            "_dom_classes": [],
            "_model_name": "HBoxModel",
            "_view_module": "@jupyter-widgets/controls",
            "_model_module_version": "1.5.0",
            "_view_count": null,
            "_view_module_version": "1.5.0",
            "box_style": "",
            "layout": "IPY_MODEL_5d81868168b14b4c8dc1b8d666f0651a",
            "_model_module": "@jupyter-widgets/controls",
            "children": [
              "IPY_MODEL_3d8345e791e342ffac125048e5297bbb",
              "IPY_MODEL_b10f5077d0314e1285cb8bff3925615f"
            ]
          }
        },
        "5d81868168b14b4c8dc1b8d666f0651a": {
          "model_module": "@jupyter-widgets/base",
          "model_name": "LayoutModel",
          "state": {
            "_view_name": "LayoutView",
            "grid_template_rows": null,
            "right": null,
            "justify_content": null,
            "_view_module": "@jupyter-widgets/base",
            "overflow": null,
            "_model_module_version": "1.2.0",
            "_view_count": null,
            "flex_flow": null,
            "width": null,
            "min_width": null,
            "border": null,
            "align_items": null,
            "bottom": null,
            "_model_module": "@jupyter-widgets/base",
            "top": null,
            "grid_column": null,
            "overflow_y": null,
            "overflow_x": null,
            "grid_auto_flow": null,
            "grid_area": null,
            "grid_template_columns": null,
            "flex": null,
            "_model_name": "LayoutModel",
            "justify_items": null,
            "grid_row": null,
            "max_height": null,
            "align_content": null,
            "visibility": null,
            "align_self": null,
            "height": null,
            "min_height": null,
            "padding": null,
            "grid_auto_rows": null,
            "grid_gap": null,
            "max_width": null,
            "order": null,
            "_view_module_version": "1.2.0",
            "grid_template_areas": null,
            "object_position": null,
            "object_fit": null,
            "grid_auto_columns": null,
            "margin": null,
            "display": null,
            "left": null
          }
        },
        "3d8345e791e342ffac125048e5297bbb": {
          "model_module": "@jupyter-widgets/controls",
          "model_name": "IntProgressModel",
          "state": {
            "_view_name": "ProgressView",
            "style": "IPY_MODEL_620a905fca5f4c29b30ef0b7c1c696e5",
            "_dom_classes": [],
            "description": "",
            "_model_name": "IntProgressModel",
            "bar_style": "success",
            "max": 188756,
            "_view_module": "@jupyter-widgets/controls",
            "_model_module_version": "1.5.0",
            "value": 188756,
            "_view_count": null,
            "_view_module_version": "1.5.0",
            "orientation": "horizontal",
            "min": 0,
            "description_tooltip": null,
            "_model_module": "@jupyter-widgets/controls",
            "layout": "IPY_MODEL_48cb6e40b0c94d65a8bf95675769abf9"
          }
        },
        "b10f5077d0314e1285cb8bff3925615f": {
          "model_module": "@jupyter-widgets/controls",
          "model_name": "HTMLModel",
          "state": {
            "_view_name": "HTMLView",
            "style": "IPY_MODEL_30969305167049d0bee0937121973b49",
            "_dom_classes": [],
            "description": "",
            "_model_name": "HTMLModel",
            "placeholder": "​",
            "_view_module": "@jupyter-widgets/controls",
            "_model_module_version": "1.5.0",
            "value": "100% 188756/188756 [01:12&lt;00:00, 2401.27it/s]",
            "_view_count": null,
            "_view_module_version": "1.5.0",
            "description_tooltip": null,
            "_model_module": "@jupyter-widgets/controls",
            "layout": "IPY_MODEL_c317c281ffd14feda92168e6f93a892c"
          }
        },
        "620a905fca5f4c29b30ef0b7c1c696e5": {
          "model_module": "@jupyter-widgets/controls",
          "model_name": "ProgressStyleModel",
          "state": {
            "_view_name": "StyleView",
            "_model_name": "ProgressStyleModel",
            "description_width": "",
            "_view_module": "@jupyter-widgets/base",
            "_model_module_version": "1.5.0",
            "_view_count": null,
            "_view_module_version": "1.2.0",
            "bar_color": null,
            "_model_module": "@jupyter-widgets/controls"
          }
        },
        "48cb6e40b0c94d65a8bf95675769abf9": {
          "model_module": "@jupyter-widgets/base",
          "model_name": "LayoutModel",
          "state": {
            "_view_name": "LayoutView",
            "grid_template_rows": null,
            "right": null,
            "justify_content": null,
            "_view_module": "@jupyter-widgets/base",
            "overflow": null,
            "_model_module_version": "1.2.0",
            "_view_count": null,
            "flex_flow": null,
            "width": null,
            "min_width": null,
            "border": null,
            "align_items": null,
            "bottom": null,
            "_model_module": "@jupyter-widgets/base",
            "top": null,
            "grid_column": null,
            "overflow_y": null,
            "overflow_x": null,
            "grid_auto_flow": null,
            "grid_area": null,
            "grid_template_columns": null,
            "flex": null,
            "_model_name": "LayoutModel",
            "justify_items": null,
            "grid_row": null,
            "max_height": null,
            "align_content": null,
            "visibility": null,
            "align_self": null,
            "height": null,
            "min_height": null,
            "padding": null,
            "grid_auto_rows": null,
            "grid_gap": null,
            "max_width": null,
            "order": null,
            "_view_module_version": "1.2.0",
            "grid_template_areas": null,
            "object_position": null,
            "object_fit": null,
            "grid_auto_columns": null,
            "margin": null,
            "display": null,
            "left": null
          }
        },
        "30969305167049d0bee0937121973b49": {
          "model_module": "@jupyter-widgets/controls",
          "model_name": "DescriptionStyleModel",
          "state": {
            "_view_name": "StyleView",
            "_model_name": "DescriptionStyleModel",
            "description_width": "",
            "_view_module": "@jupyter-widgets/base",
            "_model_module_version": "1.5.0",
            "_view_count": null,
            "_view_module_version": "1.2.0",
            "_model_module": "@jupyter-widgets/controls"
          }
        },
        "c317c281ffd14feda92168e6f93a892c": {
          "model_module": "@jupyter-widgets/base",
          "model_name": "LayoutModel",
          "state": {
            "_view_name": "LayoutView",
            "grid_template_rows": null,
            "right": null,
            "justify_content": null,
            "_view_module": "@jupyter-widgets/base",
            "overflow": null,
            "_model_module_version": "1.2.0",
            "_view_count": null,
            "flex_flow": null,
            "width": null,
            "min_width": null,
            "border": null,
            "align_items": null,
            "bottom": null,
            "_model_module": "@jupyter-widgets/base",
            "top": null,
            "grid_column": null,
            "overflow_y": null,
            "overflow_x": null,
            "grid_auto_flow": null,
            "grid_area": null,
            "grid_template_columns": null,
            "flex": null,
            "_model_name": "LayoutModel",
            "justify_items": null,
            "grid_row": null,
            "max_height": null,
            "align_content": null,
            "visibility": null,
            "align_self": null,
            "height": null,
            "min_height": null,
            "padding": null,
            "grid_auto_rows": null,
            "grid_gap": null,
            "max_width": null,
            "order": null,
            "_view_module_version": "1.2.0",
            "grid_template_areas": null,
            "object_position": null,
            "object_fit": null,
            "grid_auto_columns": null,
            "margin": null,
            "display": null,
            "left": null
          }
        },
        "597f2ee784074bbcab4ce87397af5885": {
          "model_module": "@jupyter-widgets/controls",
          "model_name": "HBoxModel",
          "state": {
            "_view_name": "HBoxView",
            "_dom_classes": [],
            "_model_name": "HBoxModel",
            "_view_module": "@jupyter-widgets/controls",
            "_model_module_version": "1.5.0",
            "_view_count": null,
            "_view_module_version": "1.5.0",
            "box_style": "",
            "layout": "IPY_MODEL_5f4c8aa6b0f34c3eb15ddf49b5e77b01",
            "_model_module": "@jupyter-widgets/controls",
            "children": [
              "IPY_MODEL_c88e8cf3a8a84cb5b5445b34d15a432f",
              "IPY_MODEL_742a8cfd7abf4940803a9789523e879b"
            ]
          }
        },
        "5f4c8aa6b0f34c3eb15ddf49b5e77b01": {
          "model_module": "@jupyter-widgets/base",
          "model_name": "LayoutModel",
          "state": {
            "_view_name": "LayoutView",
            "grid_template_rows": null,
            "right": null,
            "justify_content": null,
            "_view_module": "@jupyter-widgets/base",
            "overflow": null,
            "_model_module_version": "1.2.0",
            "_view_count": null,
            "flex_flow": null,
            "width": null,
            "min_width": null,
            "border": null,
            "align_items": null,
            "bottom": null,
            "_model_module": "@jupyter-widgets/base",
            "top": null,
            "grid_column": null,
            "overflow_y": null,
            "overflow_x": null,
            "grid_auto_flow": null,
            "grid_area": null,
            "grid_template_columns": null,
            "flex": null,
            "_model_name": "LayoutModel",
            "justify_items": null,
            "grid_row": null,
            "max_height": null,
            "align_content": null,
            "visibility": null,
            "align_self": null,
            "height": null,
            "min_height": null,
            "padding": null,
            "grid_auto_rows": null,
            "grid_gap": null,
            "max_width": null,
            "order": null,
            "_view_module_version": "1.2.0",
            "grid_template_areas": null,
            "object_position": null,
            "object_fit": null,
            "grid_auto_columns": null,
            "margin": null,
            "display": null,
            "left": null
          }
        },
        "c88e8cf3a8a84cb5b5445b34d15a432f": {
          "model_module": "@jupyter-widgets/controls",
          "model_name": "IntProgressModel",
          "state": {
            "_view_name": "ProgressView",
            "style": "IPY_MODEL_502b971e91bf45c78123135b093c2d7f",
            "_dom_classes": [],
            "description": "",
            "_model_name": "IntProgressModel",
            "bar_style": "success",
            "max": 10,
            "_view_module": "@jupyter-widgets/controls",
            "_model_module_version": "1.5.0",
            "value": 10,
            "_view_count": null,
            "_view_module_version": "1.5.0",
            "orientation": "horizontal",
            "min": 0,
            "description_tooltip": null,
            "_model_module": "@jupyter-widgets/controls",
            "layout": "IPY_MODEL_d7ed74f4ba334eceaed50b24f19cd9b8"
          }
        },
        "742a8cfd7abf4940803a9789523e879b": {
          "model_module": "@jupyter-widgets/controls",
          "model_name": "HTMLModel",
          "state": {
            "_view_name": "HTMLView",
            "style": "IPY_MODEL_9250548d7222424ea7e310671c9df22d",
            "_dom_classes": [],
            "description": "",
            "_model_name": "HTMLModel",
            "placeholder": "​",
            "_view_module": "@jupyter-widgets/controls",
            "_model_module_version": "1.5.0",
            "value": "100% 10/10 [00:06&lt;00:00,  1.46it/s]",
            "_view_count": null,
            "_view_module_version": "1.5.0",
            "description_tooltip": null,
            "_model_module": "@jupyter-widgets/controls",
            "layout": "IPY_MODEL_12f98787cb5c4be3b31ea8f66fcbba25"
          }
        },
        "502b971e91bf45c78123135b093c2d7f": {
          "model_module": "@jupyter-widgets/controls",
          "model_name": "ProgressStyleModel",
          "state": {
            "_view_name": "StyleView",
            "_model_name": "ProgressStyleModel",
            "description_width": "",
            "_view_module": "@jupyter-widgets/base",
            "_model_module_version": "1.5.0",
            "_view_count": null,
            "_view_module_version": "1.2.0",
            "bar_color": null,
            "_model_module": "@jupyter-widgets/controls"
          }
        },
        "d7ed74f4ba334eceaed50b24f19cd9b8": {
          "model_module": "@jupyter-widgets/base",
          "model_name": "LayoutModel",
          "state": {
            "_view_name": "LayoutView",
            "grid_template_rows": null,
            "right": null,
            "justify_content": null,
            "_view_module": "@jupyter-widgets/base",
            "overflow": null,
            "_model_module_version": "1.2.0",
            "_view_count": null,
            "flex_flow": null,
            "width": null,
            "min_width": null,
            "border": null,
            "align_items": null,
            "bottom": null,
            "_model_module": "@jupyter-widgets/base",
            "top": null,
            "grid_column": null,
            "overflow_y": null,
            "overflow_x": null,
            "grid_auto_flow": null,
            "grid_area": null,
            "grid_template_columns": null,
            "flex": null,
            "_model_name": "LayoutModel",
            "justify_items": null,
            "grid_row": null,
            "max_height": null,
            "align_content": null,
            "visibility": null,
            "align_self": null,
            "height": null,
            "min_height": null,
            "padding": null,
            "grid_auto_rows": null,
            "grid_gap": null,
            "max_width": null,
            "order": null,
            "_view_module_version": "1.2.0",
            "grid_template_areas": null,
            "object_position": null,
            "object_fit": null,
            "grid_auto_columns": null,
            "margin": null,
            "display": null,
            "left": null
          }
        },
        "9250548d7222424ea7e310671c9df22d": {
          "model_module": "@jupyter-widgets/controls",
          "model_name": "DescriptionStyleModel",
          "state": {
            "_view_name": "StyleView",
            "_model_name": "DescriptionStyleModel",
            "description_width": "",
            "_view_module": "@jupyter-widgets/base",
            "_model_module_version": "1.5.0",
            "_view_count": null,
            "_view_module_version": "1.2.0",
            "_model_module": "@jupyter-widgets/controls"
          }
        },
        "12f98787cb5c4be3b31ea8f66fcbba25": {
          "model_module": "@jupyter-widgets/base",
          "model_name": "LayoutModel",
          "state": {
            "_view_name": "LayoutView",
            "grid_template_rows": null,
            "right": null,
            "justify_content": null,
            "_view_module": "@jupyter-widgets/base",
            "overflow": null,
            "_model_module_version": "1.2.0",
            "_view_count": null,
            "flex_flow": null,
            "width": null,
            "min_width": null,
            "border": null,
            "align_items": null,
            "bottom": null,
            "_model_module": "@jupyter-widgets/base",
            "top": null,
            "grid_column": null,
            "overflow_y": null,
            "overflow_x": null,
            "grid_auto_flow": null,
            "grid_area": null,
            "grid_template_columns": null,
            "flex": null,
            "_model_name": "LayoutModel",
            "justify_items": null,
            "grid_row": null,
            "max_height": null,
            "align_content": null,
            "visibility": null,
            "align_self": null,
            "height": null,
            "min_height": null,
            "padding": null,
            "grid_auto_rows": null,
            "grid_gap": null,
            "max_width": null,
            "order": null,
            "_view_module_version": "1.2.0",
            "grid_template_areas": null,
            "object_position": null,
            "object_fit": null,
            "grid_auto_columns": null,
            "margin": null,
            "display": null,
            "left": null
          }
        },
        "df5d5f7f06f9477a984903f96b3a2fcc": {
          "model_module": "@jupyter-widgets/controls",
          "model_name": "HBoxModel",
          "state": {
            "_view_name": "HBoxView",
            "_dom_classes": [],
            "_model_name": "HBoxModel",
            "_view_module": "@jupyter-widgets/controls",
            "_model_module_version": "1.5.0",
            "_view_count": null,
            "_view_module_version": "1.5.0",
            "box_style": "",
            "layout": "IPY_MODEL_43996838d86140898c2511a72fc3eda1",
            "_model_module": "@jupyter-widgets/controls",
            "children": [
              "IPY_MODEL_1334734009aa46b1a9da9ec6fff7de93",
              "IPY_MODEL_c934423338974ee38637e18685ee6636"
            ]
          }
        },
        "43996838d86140898c2511a72fc3eda1": {
          "model_module": "@jupyter-widgets/base",
          "model_name": "LayoutModel",
          "state": {
            "_view_name": "LayoutView",
            "grid_template_rows": null,
            "right": null,
            "justify_content": null,
            "_view_module": "@jupyter-widgets/base",
            "overflow": null,
            "_model_module_version": "1.2.0",
            "_view_count": null,
            "flex_flow": null,
            "width": null,
            "min_width": null,
            "border": null,
            "align_items": null,
            "bottom": null,
            "_model_module": "@jupyter-widgets/base",
            "top": null,
            "grid_column": null,
            "overflow_y": null,
            "overflow_x": null,
            "grid_auto_flow": null,
            "grid_area": null,
            "grid_template_columns": null,
            "flex": null,
            "_model_name": "LayoutModel",
            "justify_items": null,
            "grid_row": null,
            "max_height": null,
            "align_content": null,
            "visibility": null,
            "align_self": null,
            "height": null,
            "min_height": null,
            "padding": null,
            "grid_auto_rows": null,
            "grid_gap": null,
            "max_width": null,
            "order": null,
            "_view_module_version": "1.2.0",
            "grid_template_areas": null,
            "object_position": null,
            "object_fit": null,
            "grid_auto_columns": null,
            "margin": null,
            "display": null,
            "left": null
          }
        },
        "1334734009aa46b1a9da9ec6fff7de93": {
          "model_module": "@jupyter-widgets/controls",
          "model_name": "IntProgressModel",
          "state": {
            "_view_name": "ProgressView",
            "style": "IPY_MODEL_948f20df818340a690360c8c53a89bba",
            "_dom_classes": [],
            "description": "",
            "_model_name": "IntProgressModel",
            "bar_style": "success",
            "max": 500000,
            "_view_module": "@jupyter-widgets/controls",
            "_model_module_version": "1.5.0",
            "value": 500000,
            "_view_count": null,
            "_view_module_version": "1.5.0",
            "orientation": "horizontal",
            "min": 0,
            "description_tooltip": null,
            "_model_module": "@jupyter-widgets/controls",
            "layout": "IPY_MODEL_c85b19d9e37e493b95c15bea456700e2"
          }
        },
        "c934423338974ee38637e18685ee6636": {
          "model_module": "@jupyter-widgets/controls",
          "model_name": "HTMLModel",
          "state": {
            "_view_name": "HTMLView",
            "style": "IPY_MODEL_76bc4bbcbb154cd68c5c97d4d24410f7",
            "_dom_classes": [],
            "description": "",
            "_model_name": "HTMLModel",
            "placeholder": "​",
            "_view_module": "@jupyter-widgets/controls",
            "_model_module_version": "1.5.0",
            "value": "100% 500000/500000 [1:18:49&lt;00:00, 106.10it/s]",
            "_view_count": null,
            "_view_module_version": "1.5.0",
            "description_tooltip": null,
            "_model_module": "@jupyter-widgets/controls",
            "layout": "IPY_MODEL_5c5a6a22394848dc8cc8f50ad04a32ea"
          }
        },
        "948f20df818340a690360c8c53a89bba": {
          "model_module": "@jupyter-widgets/controls",
          "model_name": "ProgressStyleModel",
          "state": {
            "_view_name": "StyleView",
            "_model_name": "ProgressStyleModel",
            "description_width": "",
            "_view_module": "@jupyter-widgets/base",
            "_model_module_version": "1.5.0",
            "_view_count": null,
            "_view_module_version": "1.2.0",
            "bar_color": null,
            "_model_module": "@jupyter-widgets/controls"
          }
        },
        "c85b19d9e37e493b95c15bea456700e2": {
          "model_module": "@jupyter-widgets/base",
          "model_name": "LayoutModel",
          "state": {
            "_view_name": "LayoutView",
            "grid_template_rows": null,
            "right": null,
            "justify_content": null,
            "_view_module": "@jupyter-widgets/base",
            "overflow": null,
            "_model_module_version": "1.2.0",
            "_view_count": null,
            "flex_flow": null,
            "width": null,
            "min_width": null,
            "border": null,
            "align_items": null,
            "bottom": null,
            "_model_module": "@jupyter-widgets/base",
            "top": null,
            "grid_column": null,
            "overflow_y": null,
            "overflow_x": null,
            "grid_auto_flow": null,
            "grid_area": null,
            "grid_template_columns": null,
            "flex": null,
            "_model_name": "LayoutModel",
            "justify_items": null,
            "grid_row": null,
            "max_height": null,
            "align_content": null,
            "visibility": null,
            "align_self": null,
            "height": null,
            "min_height": null,
            "padding": null,
            "grid_auto_rows": null,
            "grid_gap": null,
            "max_width": null,
            "order": null,
            "_view_module_version": "1.2.0",
            "grid_template_areas": null,
            "object_position": null,
            "object_fit": null,
            "grid_auto_columns": null,
            "margin": null,
            "display": null,
            "left": null
          }
        },
        "76bc4bbcbb154cd68c5c97d4d24410f7": {
          "model_module": "@jupyter-widgets/controls",
          "model_name": "DescriptionStyleModel",
          "state": {
            "_view_name": "StyleView",
            "_model_name": "DescriptionStyleModel",
            "description_width": "",
            "_view_module": "@jupyter-widgets/base",
            "_model_module_version": "1.5.0",
            "_view_count": null,
            "_view_module_version": "1.2.0",
            "_model_module": "@jupyter-widgets/controls"
          }
        },
        "5c5a6a22394848dc8cc8f50ad04a32ea": {
          "model_module": "@jupyter-widgets/base",
          "model_name": "LayoutModel",
          "state": {
            "_view_name": "LayoutView",
            "grid_template_rows": null,
            "right": null,
            "justify_content": null,
            "_view_module": "@jupyter-widgets/base",
            "overflow": null,
            "_model_module_version": "1.2.0",
            "_view_count": null,
            "flex_flow": null,
            "width": null,
            "min_width": null,
            "border": null,
            "align_items": null,
            "bottom": null,
            "_model_module": "@jupyter-widgets/base",
            "top": null,
            "grid_column": null,
            "overflow_y": null,
            "overflow_x": null,
            "grid_auto_flow": null,
            "grid_area": null,
            "grid_template_columns": null,
            "flex": null,
            "_model_name": "LayoutModel",
            "justify_items": null,
            "grid_row": null,
            "max_height": null,
            "align_content": null,
            "visibility": null,
            "align_self": null,
            "height": null,
            "min_height": null,
            "padding": null,
            "grid_auto_rows": null,
            "grid_gap": null,
            "max_width": null,
            "order": null,
            "_view_module_version": "1.2.0",
            "grid_template_areas": null,
            "object_position": null,
            "object_fit": null,
            "grid_auto_columns": null,
            "margin": null,
            "display": null,
            "left": null
          }
        }
      }
    }
  },
  "cells": [
    {
      "cell_type": "markdown",
      "metadata": {
        "id": "view-in-github",
        "colab_type": "text"
      },
      "source": [
        "<a href=\"https://colab.research.google.com/github/asanneh/CS109A-Final-Project/blob/master/notebook/FinalProject31.ipynb\" target=\"_parent\"><img src=\"https://colab.research.google.com/assets/colab-badge.svg\" alt=\"Open In Colab\"/></a>"
      ]
    },
    {
      "cell_type": "markdown",
      "metadata": {
        "id": "8XCHHz75h1v9",
        "colab_type": "text"
      },
      "source": [
        "# Loading Libraries and Million Playlist Data"
      ]
    },
    {
      "cell_type": "code",
      "metadata": {
        "id": "93NQZ_wGQYSa",
        "colab_type": "code",
        "colab": {}
      },
      "source": [
        "#Import the relevant libraries\n",
        "import pandas as pd\n",
        "import numpy as np\n",
        "import scipy.sparse as sparse\n",
        "import random\n",
        "import itertools\n",
        "import copy\n",
        "import matplotlib.pyplot as plt\n"
      ],
      "execution_count": 0,
      "outputs": []
    },
    {
      "cell_type": "markdown",
      "metadata": {
        "id": "frbDSklJBOrD",
        "colab_type": "text"
      },
      "source": [
        "Helpful guide to using Google Colab: https://towardsdatascience.com/getting-started-with-google-colab-f2fff97f594c. \n",
        "\n",
        "The Million Playlist Data (MPD) in its raw format is made up of CSVs 0 through 999, each with 1000 playlists. Each CSV is 11 MB, so the unzipped size of the data is 11 GB. For processing in a reasonable time frame, code can be run on the GPU (TPU) by going to Runtime > change runtime type > GPU (TPU). That should give more space. \n",
        "\n",
        "To get access to the data, first the Google Drive holding the dataset must be mounted. The raw MPD was merged into a single CSV file called 'combined_playlist.csv'. This CSV file has an extra row denoting what CSV file the playlists came from. "
      ]
    },
    {
      "cell_type": "code",
      "metadata": {
        "id": "G3StzX8MIves",
        "colab_type": "code",
        "outputId": "3e469996-898e-45be-d1bc-6f180034ac4e",
        "colab": {
          "base_uri": "https://localhost:8080/",
          "height": 124
        }
      },
      "source": [
        "from google.colab import drive\n",
        "drive.mount('/content/drive')# force_remount=True)"
      ],
      "execution_count": 2,
      "outputs": [
        {
          "output_type": "stream",
          "text": [
            "Go to this URL in a browser: https://accounts.google.com/o/oauth2/auth?client_id=947318989803-6bn6qk8qdgf4n4g3pfee6491hc0brc4i.apps.googleusercontent.com&redirect_uri=urn%3aietf%3awg%3aoauth%3a2.0%3aoob&response_type=code&scope=email%20https%3a%2f%2fwww.googleapis.com%2fauth%2fdocs.test%20https%3a%2f%2fwww.googleapis.com%2fauth%2fdrive%20https%3a%2f%2fwww.googleapis.com%2fauth%2fdrive.photos.readonly%20https%3a%2f%2fwww.googleapis.com%2fauth%2fpeopleapi.readonly\n",
            "\n",
            "Enter your authorization code:\n",
            "··········\n",
            "Mounted at /content/drive\n"
          ],
          "name": "stdout"
        }
      ]
    },
    {
      "cell_type": "code",
      "metadata": {
        "id": "ehMR48ojQWt_",
        "colab_type": "code",
        "outputId": "93830826-9b15-40b9-fec8-f11ed8dc0c45",
        "colab": {
          "base_uri": "https://localhost:8080/",
          "height": 34
        }
      },
      "source": [
        "#load entire playlist to dataframe, note there is a performance hit here since I/O can't be parallelized\n",
        "#You can limit how many rows you read in by including nrows = 100000000\n",
        "songs = pd.read_csv('/content/drive/My Drive/Spotify/combined_playlist_v2.csv')\n",
        "print(f'dataset shape: {songs.shape}')"
      ],
      "execution_count": 0,
      "outputs": [
        {
          "output_type": "stream",
          "text": [
            "dataset shape: (66346428, 11)\n"
          ],
          "name": "stdout"
        }
      ]
    },
    {
      "cell_type": "code",
      "metadata": {
        "id": "LaL--bWnhdhY",
        "colab_type": "code",
        "outputId": "976fa1f1-c515-481e-fadf-d4e5ad2a3572",
        "colab": {
          "base_uri": "https://localhost:8080/",
          "height": 365
        }
      },
      "source": [
        "print(f'unique CSV files: {len(songs.file_name.unique())}')\n",
        "print(f'number of playlists: {songs.pidfile_name.nunique()}')\n",
        "print(f'unique songs: {len(songs.track_uri.unique())}')\n",
        "songs.head()"
      ],
      "execution_count": 0,
      "outputs": [
        {
          "output_type": "stream",
          "text": [
            "unique CSV files: 1000\n",
            "number of playlists: 1000000\n",
            "unique songs: 2262292\n"
          ],
          "name": "stdout"
        },
        {
          "output_type": "execute_result",
          "data": {
            "text/html": [
              "<div>\n",
              "<style scoped>\n",
              "    .dataframe tbody tr th:only-of-type {\n",
              "        vertical-align: middle;\n",
              "    }\n",
              "\n",
              "    .dataframe tbody tr th {\n",
              "        vertical-align: top;\n",
              "    }\n",
              "\n",
              "    .dataframe thead th {\n",
              "        text-align: right;\n",
              "    }\n",
              "</style>\n",
              "<table border=\"1\" class=\"dataframe\">\n",
              "  <thead>\n",
              "    <tr style=\"text-align: right;\">\n",
              "      <th></th>\n",
              "      <th>pid</th>\n",
              "      <th>pos</th>\n",
              "      <th>artist_name</th>\n",
              "      <th>track_uri</th>\n",
              "      <th>artist_uri</th>\n",
              "      <th>track_name</th>\n",
              "      <th>album_uri</th>\n",
              "      <th>duration_ms</th>\n",
              "      <th>album_name</th>\n",
              "      <th>file_name</th>\n",
              "      <th>pidfile_name</th>\n",
              "    </tr>\n",
              "  </thead>\n",
              "  <tbody>\n",
              "    <tr>\n",
              "      <th>0</th>\n",
              "      <td>0</td>\n",
              "      <td>0</td>\n",
              "      <td>Sleeping At Last</td>\n",
              "      <td>spotify:track:2d7LPtieXdIYzf7yHPooWd</td>\n",
              "      <td>spotify:artist:0MeLMJJcouYXCymQSHPn8g</td>\n",
              "      <td>Chasing Cars</td>\n",
              "      <td>spotify:album:0UIIvTTWNB3gRQWFoxoEDh</td>\n",
              "      <td>242564</td>\n",
              "      <td>Covers, Vol. 2</td>\n",
              "      <td>songs284</td>\n",
              "      <td>0songs284</td>\n",
              "    </tr>\n",
              "    <tr>\n",
              "      <th>1</th>\n",
              "      <td>0</td>\n",
              "      <td>1</td>\n",
              "      <td>Rachael Yamagata</td>\n",
              "      <td>spotify:track:0y4TKcc7p2H6P0GJlt01EI</td>\n",
              "      <td>spotify:artist:7w0qj2HiAPIeUcoPogvOZ6</td>\n",
              "      <td>Elephants</td>\n",
              "      <td>spotify:album:6KzK9fDNmj7GHFbcE4gVJD</td>\n",
              "      <td>253701</td>\n",
              "      <td>Elephants...Teeth Sinking Into Heart</td>\n",
              "      <td>songs284</td>\n",
              "      <td>0songs284</td>\n",
              "    </tr>\n",
              "    <tr>\n",
              "      <th>2</th>\n",
              "      <td>0</td>\n",
              "      <td>2</td>\n",
              "      <td>The Cinematic Orchestra</td>\n",
              "      <td>spotify:track:6q4c1vPRZREh7nw3wG7Ixz</td>\n",
              "      <td>spotify:artist:32ogthv0BdaSMPml02X9YB</td>\n",
              "      <td>That Home</td>\n",
              "      <td>spotify:album:5cPHT4yMCfETLRYAoBFcOZ</td>\n",
              "      <td>103920</td>\n",
              "      <td>Ma Fleur</td>\n",
              "      <td>songs284</td>\n",
              "      <td>0songs284</td>\n",
              "    </tr>\n",
              "    <tr>\n",
              "      <th>3</th>\n",
              "      <td>0</td>\n",
              "      <td>3</td>\n",
              "      <td>The Cinematic Orchestra</td>\n",
              "      <td>spotify:track:54KFQB6N4pn926IUUYZGzK</td>\n",
              "      <td>spotify:artist:32ogthv0BdaSMPml02X9YB</td>\n",
              "      <td>To Build A Home</td>\n",
              "      <td>spotify:album:5cPHT4yMCfETLRYAoBFcOZ</td>\n",
              "      <td>371320</td>\n",
              "      <td>Ma Fleur</td>\n",
              "      <td>songs284</td>\n",
              "      <td>0songs284</td>\n",
              "    </tr>\n",
              "    <tr>\n",
              "      <th>4</th>\n",
              "      <td>0</td>\n",
              "      <td>4</td>\n",
              "      <td>Leon Bridges</td>\n",
              "      <td>spotify:track:0NeJjNlprGfZpeX2LQuN6c</td>\n",
              "      <td>spotify:artist:3qnGvpP8Yth1AqSBMqON5x</td>\n",
              "      <td>River</td>\n",
              "      <td>spotify:album:4svLfrPPk2npPVuI4kXPYg</td>\n",
              "      <td>238560</td>\n",
              "      <td>Coming Home</td>\n",
              "      <td>songs284</td>\n",
              "      <td>0songs284</td>\n",
              "    </tr>\n",
              "  </tbody>\n",
              "</table>\n",
              "</div>"
            ],
            "text/plain": [
              "   pid  pos  ... file_name pidfile_name\n",
              "0    0    0  ...  songs284    0songs284\n",
              "1    0    1  ...  songs284    0songs284\n",
              "2    0    2  ...  songs284    0songs284\n",
              "3    0    3  ...  songs284    0songs284\n",
              "4    0    4  ...  songs284    0songs284\n",
              "\n",
              "[5 rows x 11 columns]"
            ]
          },
          "metadata": {
            "tags": []
          },
          "execution_count": 23
        }
      ]
    },
    {
      "cell_type": "markdown",
      "metadata": {
        "id": "cr8tonx2nWVE",
        "colab_type": "text"
      },
      "source": [
        "The columns of the MPD are as follows:\n",
        "\n",
        "1.   **pid:** playlist ID within the original CSV\n",
        "2.   **pos:** position of song within the playlist\n",
        "3.   **artist_name:** name of the artist (string)\n",
        "4.   **track_uri:** unique track Spotify Identifier\n",
        "5.   **artist_uri:** unique artist Spotify Identifier\n",
        "6.   **track_name:** name of the track (string)\n",
        "7.   **album_uri:** unique album Spotify Identifier\n",
        "8.   **duration_ms:** track duration in ms\n",
        "9.   **album_name:** name of album\n",
        "10.  **file_name:** identifier of CSV where playlists came from \n",
        "11.  **pidfile_name:** unique playlist identifier\n",
        "\n",
        "In order to make recommendations for songs for a particular playlist, we will eventually need to create a matrix of playlists by all the unique songs in the MPD. For this, we will need to pick the appropriate song identifier to make sure we are capturing all the unique songs. We will compare **track_name** vs **track_uri** labels to see what is better. \n",
        "\n"
      ]
    },
    {
      "cell_type": "code",
      "metadata": {
        "id": "-YguQnSDTyn8",
        "colab_type": "code",
        "outputId": "c370f0e3-fb95-46ef-ff5e-5a5a912430a4",
        "colab": {
          "base_uri": "https://localhost:8080/",
          "height": 69
        }
      },
      "source": [
        "#what identifier should we use\n",
        "print(f'unique songs by uri: {len(songs.track_uri.unique())}')\n",
        "print(f'unique songs by name: {len(songs.track_name.unique())}\\n')\n",
        "#print(f'unique artist+track combos (uri):{len(songs.groupby([\"track_uri\", \"artist_uri\"]))}')\n",
        "#print(f'unique artist+track combos (name):{len(songs.groupby([\"track_name\", \"artist_name\"]))}\\n')\n"
      ],
      "execution_count": 0,
      "outputs": [
        {
          "output_type": "stream",
          "text": [
            "unique songs by uri: 2262292\n",
            "unique songs by name: 1483760\n",
            "\n"
          ],
          "name": "stdout"
        }
      ]
    },
    {
      "cell_type": "markdown",
      "metadata": {
        "id": "F4zovFVXqYg2",
        "colab_type": "text"
      },
      "source": [
        "We see here that the number of unique songs by **track_uri** is larger than what is given when using **track_name**. This fits well with our understanding that song names can be repeated, but that Spotify has unique identifiers for the songs that can disambiguate songs of the same name. Let's take a look at several songs with the same name. "
      ]
    },
    {
      "cell_type": "code",
      "metadata": {
        "id": "woviHwvSpzvZ",
        "colab_type": "code",
        "outputId": "a8dc97a5-fc3e-4ea7-9737-7580378c4dc0",
        "colab": {
          "base_uri": "https://localhost:8080/",
          "height": 225
        }
      },
      "source": [
        "#drop duplicated songs and count occurences of song names\n",
        "songs.drop_duplicates(subset = 'track_uri')['track_name'].value_counts()"
      ],
      "execution_count": 0,
      "outputs": [
        {
          "output_type": "execute_result",
          "data": {
            "text/plain": [
              "Intro                                                            1559\n",
              "Silent Night                                                      946\n",
              "Home                                                              843\n",
              "White Christmas                                                   617\n",
              "O Holy Night                                                      554\n",
              "                                                                 ... \n",
              "Xochipitzahua - Flor Menudita                                       1\n",
              "Parachutiste                                                        1\n",
              "Sama Thiel                                                          1\n",
              "Divertimento from The Fairy's Kiss: IV. Pas de deux                 1\n",
              "California Gurls (Made Famous By Katy Perry feat. Snoop Dogg)       1\n",
              "Name: track_name, Length: 1483759, dtype: int64"
            ]
          },
          "metadata": {
            "tags": []
          },
          "execution_count": 25
        }
      ]
    },
    {
      "cell_type": "markdown",
      "metadata": {
        "id": "4h5QSvVJhjVC",
        "colab_type": "text"
      },
      "source": [
        "It seems that **track_uris** are a better way to go here - unique to each song and artist, regardless of name overlaps. Especially with cover songs - could be entirely different styles and belong in different playlists. "
      ]
    },
    {
      "cell_type": "markdown",
      "metadata": {
        "id": "zNpyXvdNbTPK",
        "colab_type": "text"
      },
      "source": [
        "# Data Wrangling"
      ]
    },
    {
      "cell_type": "markdown",
      "metadata": {
        "id": "PLX4bWHFaYqf",
        "colab_type": "text"
      },
      "source": [
        "Google Colab cannot do EDA on the whole file without running out of RAM on the GPU. To try and ameliorate this and to allow us enough RAM to do model building as well, we are choosing to randomly drop 50% of the playlists from our original file, leaving us with 500K playlists to work with. While we would like to be able to work with the whole dataset, we do not have nearly enough compute power available to us to effectively analyze it. "
      ]
    },
    {
      "cell_type": "code",
      "metadata": {
        "id": "XK06OWzVbpqn",
        "colab_type": "code",
        "colab": {}
      },
      "source": [
        "random.seed(0)\n",
        "pid_to_keep = np.random.choice(songs['pidfile_name'].unique(), 500000, replace = False)\n",
        "drop_idx = songs.loc[songs.pidfile_name.isin(pid_to_keep)].index"
      ],
      "execution_count": 0,
      "outputs": []
    },
    {
      "cell_type": "code",
      "metadata": {
        "id": "ZS7ixbXofEX4",
        "colab_type": "code",
        "colab": {}
      },
      "source": [
        "songs.drop(drop_idx, inplace = True)"
      ],
      "execution_count": 0,
      "outputs": []
    },
    {
      "cell_type": "code",
      "metadata": {
        "id": "aziqMXWDfyC2",
        "colab_type": "code",
        "outputId": "55ab9bd6-aee0-4ab0-fa42-ee3085f830cc",
        "colab": {
          "base_uri": "https://localhost:8080/",
          "height": 34
        }
      },
      "source": [
        "print(f'number of playlists: {songs.pidfile_name.nunique()}')"
      ],
      "execution_count": 0,
      "outputs": [
        {
          "output_type": "stream",
          "text": [
            "number of playlists: 500000\n"
          ],
          "name": "stdout"
        }
      ]
    },
    {
      "cell_type": "code",
      "metadata": {
        "id": "gN7XjFZhXKch",
        "colab_type": "code",
        "outputId": "89a29bff-9ca3-406d-cc98-1095acc6b070",
        "colab": {
          "base_uri": "https://localhost:8080/",
          "height": 34
        }
      },
      "source": [
        "#let's drop the unneeded columns pid and file_name and just keep pidfile_name\n",
        "songs.drop(columns = ['pid', 'file_name'], inplace=True)\n",
        "songs.shape"
      ],
      "execution_count": 0,
      "outputs": [
        {
          "output_type": "execute_result",
          "data": {
            "text/plain": [
              "(33143261, 9)"
            ]
          },
          "metadata": {
            "tags": []
          },
          "execution_count": 11
        }
      ]
    },
    {
      "cell_type": "code",
      "metadata": {
        "id": "NOqatbzudNbE",
        "colab_type": "code",
        "colab": {}
      },
      "source": [
        "songs.to_csv('500k_playlists.csv')"
      ],
      "execution_count": 0,
      "outputs": []
    },
    {
      "cell_type": "code",
      "metadata": {
        "id": "EFnbscBOeBWR",
        "colab_type": "code",
        "colab": {}
      },
      "source": [
        "!cp 500k_playlists.csv /content/drive/My\\ Drive/Spotify"
      ],
      "execution_count": 0,
      "outputs": []
    },
    {
      "cell_type": "markdown",
      "metadata": {
        "id": "Iooirp-S_qkW",
        "colab_type": "text"
      },
      "source": [
        "# Data Cleaning"
      ]
    },
    {
      "cell_type": "markdown",
      "metadata": {
        "id": "Oug2j3c3r5Tu",
        "colab_type": "text"
      },
      "source": [
        "Before we proceed with further data analysis, we should make sure that our data is clean - no missingness, consistent types, etc. "
      ]
    },
    {
      "cell_type": "code",
      "metadata": {
        "id": "hNkJeP6JkOqw",
        "colab_type": "code",
        "outputId": "f6db11b8-848b-47b2-b89a-314f8784e06c",
        "colab": {
          "base_uri": "https://localhost:8080/",
          "height": 365
        }
      },
      "source": [
        "songs = pd.read_csv('/content/drive/My Drive/Spotify/500k_playlists.csv', index_col=0)\n",
        "print(f'dataset shape: {songs.shape}')\n",
        "songs.head()"
      ],
      "execution_count": 0,
      "outputs": [
        {
          "output_type": "stream",
          "text": [
            "/usr/local/lib/python3.6/dist-packages/numpy/lib/arraysetops.py:568: FutureWarning: elementwise comparison failed; returning scalar instead, but in the future will perform elementwise comparison\n",
            "  mask |= (ar1 == a)\n"
          ],
          "name": "stderr"
        },
        {
          "output_type": "stream",
          "text": [
            "dataset shape: (33143261, 9)\n"
          ],
          "name": "stdout"
        },
        {
          "output_type": "execute_result",
          "data": {
            "text/html": [
              "<div>\n",
              "<style scoped>\n",
              "    .dataframe tbody tr th:only-of-type {\n",
              "        vertical-align: middle;\n",
              "    }\n",
              "\n",
              "    .dataframe tbody tr th {\n",
              "        vertical-align: top;\n",
              "    }\n",
              "\n",
              "    .dataframe thead th {\n",
              "        text-align: right;\n",
              "    }\n",
              "</style>\n",
              "<table border=\"1\" class=\"dataframe\">\n",
              "  <thead>\n",
              "    <tr style=\"text-align: right;\">\n",
              "      <th></th>\n",
              "      <th>pos</th>\n",
              "      <th>artist_name</th>\n",
              "      <th>track_uri</th>\n",
              "      <th>artist_uri</th>\n",
              "      <th>track_name</th>\n",
              "      <th>album_uri</th>\n",
              "      <th>duration_ms</th>\n",
              "      <th>album_name</th>\n",
              "      <th>pidfile_name</th>\n",
              "    </tr>\n",
              "  </thead>\n",
              "  <tbody>\n",
              "    <tr>\n",
              "      <th>0</th>\n",
              "      <td>0</td>\n",
              "      <td>Sleeping At Last</td>\n",
              "      <td>spotify:track:2d7LPtieXdIYzf7yHPooWd</td>\n",
              "      <td>spotify:artist:0MeLMJJcouYXCymQSHPn8g</td>\n",
              "      <td>Chasing Cars</td>\n",
              "      <td>spotify:album:0UIIvTTWNB3gRQWFoxoEDh</td>\n",
              "      <td>242564</td>\n",
              "      <td>Covers, Vol. 2</td>\n",
              "      <td>0songs284</td>\n",
              "    </tr>\n",
              "    <tr>\n",
              "      <th>1</th>\n",
              "      <td>1</td>\n",
              "      <td>Rachael Yamagata</td>\n",
              "      <td>spotify:track:0y4TKcc7p2H6P0GJlt01EI</td>\n",
              "      <td>spotify:artist:7w0qj2HiAPIeUcoPogvOZ6</td>\n",
              "      <td>Elephants</td>\n",
              "      <td>spotify:album:6KzK9fDNmj7GHFbcE4gVJD</td>\n",
              "      <td>253701</td>\n",
              "      <td>Elephants...Teeth Sinking Into Heart</td>\n",
              "      <td>0songs284</td>\n",
              "    </tr>\n",
              "    <tr>\n",
              "      <th>2</th>\n",
              "      <td>2</td>\n",
              "      <td>The Cinematic Orchestra</td>\n",
              "      <td>spotify:track:6q4c1vPRZREh7nw3wG7Ixz</td>\n",
              "      <td>spotify:artist:32ogthv0BdaSMPml02X9YB</td>\n",
              "      <td>That Home</td>\n",
              "      <td>spotify:album:5cPHT4yMCfETLRYAoBFcOZ</td>\n",
              "      <td>103920</td>\n",
              "      <td>Ma Fleur</td>\n",
              "      <td>0songs284</td>\n",
              "    </tr>\n",
              "    <tr>\n",
              "      <th>3</th>\n",
              "      <td>3</td>\n",
              "      <td>The Cinematic Orchestra</td>\n",
              "      <td>spotify:track:54KFQB6N4pn926IUUYZGzK</td>\n",
              "      <td>spotify:artist:32ogthv0BdaSMPml02X9YB</td>\n",
              "      <td>To Build A Home</td>\n",
              "      <td>spotify:album:5cPHT4yMCfETLRYAoBFcOZ</td>\n",
              "      <td>371320</td>\n",
              "      <td>Ma Fleur</td>\n",
              "      <td>0songs284</td>\n",
              "    </tr>\n",
              "    <tr>\n",
              "      <th>4</th>\n",
              "      <td>4</td>\n",
              "      <td>Leon Bridges</td>\n",
              "      <td>spotify:track:0NeJjNlprGfZpeX2LQuN6c</td>\n",
              "      <td>spotify:artist:3qnGvpP8Yth1AqSBMqON5x</td>\n",
              "      <td>River</td>\n",
              "      <td>spotify:album:4svLfrPPk2npPVuI4kXPYg</td>\n",
              "      <td>238560</td>\n",
              "      <td>Coming Home</td>\n",
              "      <td>0songs284</td>\n",
              "    </tr>\n",
              "  </tbody>\n",
              "</table>\n",
              "</div>"
            ],
            "text/plain": [
              "   pos  ... pidfile_name\n",
              "0    0  ...    0songs284\n",
              "1    1  ...    0songs284\n",
              "2    2  ...    0songs284\n",
              "3    3  ...    0songs284\n",
              "4    4  ...    0songs284\n",
              "\n",
              "[5 rows x 9 columns]"
            ]
          },
          "metadata": {
            "tags": []
          },
          "execution_count": 3
        }
      ]
    },
    {
      "cell_type": "code",
      "metadata": {
        "id": "s2Lj_oywr4ZU",
        "colab_type": "code",
        "outputId": "098ec6f2-8c95-4753-ce2d-84bc817a4b63",
        "colab": {
          "base_uri": "https://localhost:8080/",
          "height": 191
        }
      },
      "source": [
        "#are there any missing values?\n",
        "songs.isnull().sum()"
      ],
      "execution_count": 0,
      "outputs": [
        {
          "output_type": "execute_result",
          "data": {
            "text/plain": [
              "pos             0\n",
              "artist_name     8\n",
              "track_uri       0\n",
              "artist_uri      0\n",
              "track_name      1\n",
              "album_uri       0\n",
              "duration_ms     0\n",
              "album_name      4\n",
              "pidfile_name    0\n",
              "dtype: int64"
            ]
          },
          "metadata": {
            "tags": []
          },
          "execution_count": 4
        }
      ]
    },
    {
      "cell_type": "code",
      "metadata": {
        "id": "cfZ0K6aE7C5j",
        "colab_type": "code",
        "outputId": "801944ec-5ef6-46f3-96fb-ce076c29d28d",
        "colab": {
          "base_uri": "https://localhost:8080/",
          "height": 191
        }
      },
      "source": [
        "#what are the data types?\n",
        "songs.dtypes"
      ],
      "execution_count": 0,
      "outputs": [
        {
          "output_type": "execute_result",
          "data": {
            "text/plain": [
              "pos              int64\n",
              "artist_name     object\n",
              "track_uri       object\n",
              "artist_uri      object\n",
              "track_name      object\n",
              "album_uri       object\n",
              "duration_ms      int64\n",
              "album_name      object\n",
              "pidfile_name    object\n",
              "dtype: object"
            ]
          },
          "metadata": {
            "tags": []
          },
          "execution_count": 5
        }
      ]
    },
    {
      "cell_type": "code",
      "metadata": {
        "id": "sxZCnEtDscKU",
        "colab_type": "code",
        "outputId": "c1b0b253-e903-44b6-af75-bffb52f88a95",
        "colab": {
          "base_uri": "https://localhost:8080/",
          "height": 581
        }
      },
      "source": [
        "#we have some missing values in artist_name, album_name, and track_name\n",
        "#Let's take a look at them, maybe we can fill them in by hand using the uri info\n",
        "\n",
        "songs.loc[songs.artist_name.isnull()]"
      ],
      "execution_count": 0,
      "outputs": [
        {
          "output_type": "execute_result",
          "data": {
            "text/html": [
              "<div>\n",
              "<style scoped>\n",
              "    .dataframe tbody tr th:only-of-type {\n",
              "        vertical-align: middle;\n",
              "    }\n",
              "\n",
              "    .dataframe tbody tr th {\n",
              "        vertical-align: top;\n",
              "    }\n",
              "\n",
              "    .dataframe thead th {\n",
              "        text-align: right;\n",
              "    }\n",
              "</style>\n",
              "<table border=\"1\" class=\"dataframe\">\n",
              "  <thead>\n",
              "    <tr style=\"text-align: right;\">\n",
              "      <th></th>\n",
              "      <th>pos</th>\n",
              "      <th>artist_name</th>\n",
              "      <th>track_uri</th>\n",
              "      <th>artist_uri</th>\n",
              "      <th>track_name</th>\n",
              "      <th>album_uri</th>\n",
              "      <th>duration_ms</th>\n",
              "      <th>album_name</th>\n",
              "      <th>pidfile_name</th>\n",
              "    </tr>\n",
              "  </thead>\n",
              "  <tbody>\n",
              "    <tr>\n",
              "      <th>4293081</th>\n",
              "      <td>4</td>\n",
              "      <td>NaN</td>\n",
              "      <td>spotify:track:4eUsRojrbcfPsdUD7qZZo7</td>\n",
              "      <td>spotify:artist:4oPYazJJ1o4rWBrTw9lm40</td>\n",
              "      <td>Brindisi Ver. 1</td>\n",
              "      <td>spotify:album:5iVF4oYu6lVTOQj2iu6b2b</td>\n",
              "      <td>194386</td>\n",
              "      <td>Opera Greatest Hits</td>\n",
              "      <td>591songs246</td>\n",
              "    </tr>\n",
              "    <tr>\n",
              "      <th>8820322</th>\n",
              "      <td>128</td>\n",
              "      <td>NaN</td>\n",
              "      <td>spotify:track:14sdk4mdW6KzKfa8tk0hnn</td>\n",
              "      <td>spotify:artist:4oPYazJJ1o4rWBrTw9lm40</td>\n",
              "      <td>Hello</td>\n",
              "      <td>spotify:album:2CnxsT3zuHV2rDSVqpKxde</td>\n",
              "      <td>18706</td>\n",
              "      <td>Anticon Label Sampler 1999 - 2004</td>\n",
              "      <td>885songs286</td>\n",
              "    </tr>\n",
              "    <tr>\n",
              "      <th>8820337</th>\n",
              "      <td>143</td>\n",
              "      <td>NaN</td>\n",
              "      <td>spotify:track:0zyLruNSGOBFsYvVKIrhHo</td>\n",
              "      <td>spotify:artist:4oPYazJJ1o4rWBrTw9lm40</td>\n",
              "      <td>Pity Party People Interlude</td>\n",
              "      <td>spotify:album:2CnxsT3zuHV2rDSVqpKxde</td>\n",
              "      <td>19413</td>\n",
              "      <td>Anticon Label Sampler 1999 - 2004</td>\n",
              "      <td>885songs286</td>\n",
              "    </tr>\n",
              "    <tr>\n",
              "      <th>32306209</th>\n",
              "      <td>103</td>\n",
              "      <td>NaN</td>\n",
              "      <td>spotify:track:1x4tbfq3ywvTvJVwgVsSHN</td>\n",
              "      <td>spotify:artist:5acHYRoM4lpJIiHZ4Zi3Is</td>\n",
              "      <td>Menace</td>\n",
              "      <td>spotify:album:63T4BKB9CwXzfMuUBE8RWX</td>\n",
              "      <td>232551</td>\n",
              "      <td>Cellar</td>\n",
              "      <td>63songs816</td>\n",
              "    </tr>\n",
              "    <tr>\n",
              "      <th>34634330</th>\n",
              "      <td>58</td>\n",
              "      <td>NaN</td>\n",
              "      <td>spotify:track:3uxxOSDWiBqKBnbU2eSAxI</td>\n",
              "      <td>spotify:artist:3fmUow9gSgOouUw2UnUtzg</td>\n",
              "      <td>NaN</td>\n",
              "      <td>spotify:album:0yiPGCcuMDakfqcmvY6Rk1</td>\n",
              "      <td>135427</td>\n",
              "      <td>NaN</td>\n",
              "      <td>434songs744</td>\n",
              "    </tr>\n",
              "    <tr>\n",
              "      <th>55711352</th>\n",
              "      <td>80</td>\n",
              "      <td>NaN</td>\n",
              "      <td>spotify:track:0VffYn4XPllw50b5t8eyU9</td>\n",
              "      <td>spotify:artist:4oPYazJJ1o4rWBrTw9lm40</td>\n",
              "      <td>Love Changes Everything - Track by Track</td>\n",
              "      <td>spotify:album:2ozA83nQINAfGWduklekFp</td>\n",
              "      <td>186786</td>\n",
              "      <td>A Musical Affair (Track by Track)</td>\n",
              "      <td>895songs107</td>\n",
              "    </tr>\n",
              "    <tr>\n",
              "      <th>55711353</th>\n",
              "      <td>81</td>\n",
              "      <td>NaN</td>\n",
              "      <td>spotify:track:6e7I9PmXBHHmNzoHILhY5e</td>\n",
              "      <td>spotify:artist:4oPYazJJ1o4rWBrTw9lm40</td>\n",
              "      <td>The Music of the Night - Track by Track</td>\n",
              "      <td>spotify:album:2ozA83nQINAfGWduklekFp</td>\n",
              "      <td>211080</td>\n",
              "      <td>A Musical Affair (Track by Track)</td>\n",
              "      <td>895songs107</td>\n",
              "    </tr>\n",
              "    <tr>\n",
              "      <th>61851152</th>\n",
              "      <td>45</td>\n",
              "      <td>NaN</td>\n",
              "      <td>spotify:track:0hxxhWW4v5dFTTzudq6BT8</td>\n",
              "      <td>spotify:artist:5acHYRoM4lpJIiHZ4Zi3Is</td>\n",
              "      <td>Flute Gasp</td>\n",
              "      <td>spotify:album:5Us2V8uDxjNnlAqpS5olMr</td>\n",
              "      <td>236191</td>\n",
              "      <td>Xtreme Tremble</td>\n",
              "      <td>141songs261</td>\n",
              "    </tr>\n",
              "  </tbody>\n",
              "</table>\n",
              "</div>"
            ],
            "text/plain": [
              "          pos artist_name  ...                         album_name pidfile_name\n",
              "4293081     4         NaN  ...                Opera Greatest Hits  591songs246\n",
              "8820322   128         NaN  ...  Anticon Label Sampler 1999 - 2004  885songs286\n",
              "8820337   143         NaN  ...  Anticon Label Sampler 1999 - 2004  885songs286\n",
              "32306209  103         NaN  ...                             Cellar   63songs816\n",
              "34634330   58         NaN  ...                                NaN  434songs744\n",
              "55711352   80         NaN  ...  A Musical Affair (Track by Track)  895songs107\n",
              "55711353   81         NaN  ...  A Musical Affair (Track by Track)  895songs107\n",
              "61851152   45         NaN  ...                     Xtreme Tremble  141songs261\n",
              "\n",
              "[8 rows x 9 columns]"
            ]
          },
          "metadata": {
            "tags": []
          },
          "execution_count": 6
        }
      ]
    },
    {
      "cell_type": "markdown",
      "metadata": {
        "id": "yC6cLZf7unx-",
        "colab_type": "text"
      },
      "source": [
        "By referencing the **track_uri** in Spotify, it seems that 4 tracks in this category are classical music songs where the primary artist (writer) is listed as N/A. Two tracks are from the same indie rap album, where the primary artist is also N/A. In these cases, it seems that this is truly missing information. What is amusing is that the **artist_uri** for these songs actually points to a reggae group called 'N/A'. When you look at their discography, they have a vast number of classical and opera songs attributed to them...\n",
        "\n",
        "Besides that, there is one artist called 'NA' and one artist called 'null'. \n",
        "\n",
        "It doesn't seem that this will interfere with our collaborative filtering recommender system, just maybe make the song credit information a little more confusing. We will not filter these songs out in the mean time, but we will change the **artist_uri** to NaN to reflect this information for the songs with missing info, and update **artist_name** for those artists named 'NA' and 'null'.   "
      ]
    },
    {
      "cell_type": "code",
      "metadata": {
        "id": "P_CGGDMh73T0",
        "colab_type": "code",
        "colab": {}
      },
      "source": [
        "songs.loc[songs.artist_uri == 'spotify:artist:5acHYRoM4lpJIiHZ4Zi3Is', 'artist_name'] = ['NA']*2\n",
        "songs.loc[songs.artist_uri == 'spotify:artist:3fmUow9gSgOouUw2UnUtzg', 'artist_name'] = ['null']\n",
        "songs.loc[songs.artist_uri == 'spotify:artist:4oPYazJJ1o4rWBrTw9lm40', 'artist_uri'] = [np.nan]*5\n"
      ],
      "execution_count": 0,
      "outputs": []
    },
    {
      "cell_type": "code",
      "metadata": {
        "id": "-EZqKMAUwqM6",
        "colab_type": "code",
        "outputId": "2901a0b6-a3f0-4453-b882-becaf2054a42",
        "colab": {
          "base_uri": "https://localhost:8080/",
          "height": 351
        }
      },
      "source": [
        "#we have some missing values in artist_name and album_name. \n",
        "#Let's take a look at them, maybe we can fill them in by hand using the uri info\n",
        "\n",
        "songs.loc[songs.album_name.isnull()]"
      ],
      "execution_count": 0,
      "outputs": [
        {
          "output_type": "execute_result",
          "data": {
            "text/html": [
              "<div>\n",
              "<style scoped>\n",
              "    .dataframe tbody tr th:only-of-type {\n",
              "        vertical-align: middle;\n",
              "    }\n",
              "\n",
              "    .dataframe tbody tr th {\n",
              "        vertical-align: top;\n",
              "    }\n",
              "\n",
              "    .dataframe thead th {\n",
              "        text-align: right;\n",
              "    }\n",
              "</style>\n",
              "<table border=\"1\" class=\"dataframe\">\n",
              "  <thead>\n",
              "    <tr style=\"text-align: right;\">\n",
              "      <th></th>\n",
              "      <th>pos</th>\n",
              "      <th>artist_name</th>\n",
              "      <th>track_uri</th>\n",
              "      <th>artist_uri</th>\n",
              "      <th>track_name</th>\n",
              "      <th>album_uri</th>\n",
              "      <th>duration_ms</th>\n",
              "      <th>album_name</th>\n",
              "      <th>pidfile_name</th>\n",
              "    </tr>\n",
              "  </thead>\n",
              "  <tbody>\n",
              "    <tr>\n",
              "      <th>7069563</th>\n",
              "      <td>86</td>\n",
              "      <td>Loop Garou</td>\n",
              "      <td>spotify:track:5waP9OdTo3Wx5s4IfAq8OT</td>\n",
              "      <td>spotify:artist:6ZcNVoWvuMRbhS789e6saA</td>\n",
              "      <td>Darlin' Don't Go (feat. Sarah Summers)</td>\n",
              "      <td>spotify:album:4zLXjNbJaNvj8X97GAnr5i</td>\n",
              "      <td>261906</td>\n",
              "      <td>NaN</td>\n",
              "      <td>513songs494</td>\n",
              "    </tr>\n",
              "    <tr>\n",
              "      <th>7293324</th>\n",
              "      <td>20</td>\n",
              "      <td>Loop Garou</td>\n",
              "      <td>spotify:track:5waP9OdTo3Wx5s4IfAq8OT</td>\n",
              "      <td>spotify:artist:6ZcNVoWvuMRbhS789e6saA</td>\n",
              "      <td>Darlin' Don't Go (feat. Sarah Summers)</td>\n",
              "      <td>spotify:album:4zLXjNbJaNvj8X97GAnr5i</td>\n",
              "      <td>261906</td>\n",
              "      <td>NaN</td>\n",
              "      <td>868songs133</td>\n",
              "    </tr>\n",
              "    <tr>\n",
              "      <th>11813676</th>\n",
              "      <td>44</td>\n",
              "      <td>Loop Garou</td>\n",
              "      <td>spotify:track:5waP9OdTo3Wx5s4IfAq8OT</td>\n",
              "      <td>spotify:artist:6ZcNVoWvuMRbhS789e6saA</td>\n",
              "      <td>Darlin' Don't Go (feat. Sarah Summers)</td>\n",
              "      <td>spotify:album:4zLXjNbJaNvj8X97GAnr5i</td>\n",
              "      <td>261906</td>\n",
              "      <td>NaN</td>\n",
              "      <td>116songs122</td>\n",
              "    </tr>\n",
              "    <tr>\n",
              "      <th>34634330</th>\n",
              "      <td>58</td>\n",
              "      <td>null</td>\n",
              "      <td>spotify:track:3uxxOSDWiBqKBnbU2eSAxI</td>\n",
              "      <td>spotify:artist:3fmUow9gSgOouUw2UnUtzg</td>\n",
              "      <td>NaN</td>\n",
              "      <td>spotify:album:0yiPGCcuMDakfqcmvY6Rk1</td>\n",
              "      <td>135427</td>\n",
              "      <td>NaN</td>\n",
              "      <td>434songs744</td>\n",
              "    </tr>\n",
              "  </tbody>\n",
              "</table>\n",
              "</div>"
            ],
            "text/plain": [
              "          pos artist_name  ... album_name pidfile_name\n",
              "7069563    86  Loop Garou  ...        NaN  513songs494\n",
              "7293324    20  Loop Garou  ...        NaN  868songs133\n",
              "11813676   44  Loop Garou  ...        NaN  116songs122\n",
              "34634330   58        null  ...        NaN  434songs744\n",
              "\n",
              "[4 rows x 9 columns]"
            ]
          },
          "metadata": {
            "tags": []
          },
          "execution_count": 8
        }
      ]
    },
    {
      "cell_type": "markdown",
      "metadata": {
        "id": "CLvfVmLDww80",
        "colab_type": "text"
      },
      "source": [
        "Loop Garou named his album 'N/A' which got translated to a NaN in the pandas dataframe. Artist named 'null' also has a track and album named 'null' so that's great. Let's fix the labels. "
      ]
    },
    {
      "cell_type": "code",
      "metadata": {
        "id": "SWpuz6JT-ijk",
        "colab_type": "code",
        "colab": {}
      },
      "source": [
        "songs.loc[songs.album_uri == 'spotify:album:4zLXjNbJaNvj8X97GAnr5i', 'album_name'] = ['N/A']*3\n",
        "songs.loc[songs.album_uri == 'spotify:album:0yiPGCcuMDakfqcmvY6Rk1', 'album_name'] = ['null']"
      ],
      "execution_count": 0,
      "outputs": []
    },
    {
      "cell_type": "code",
      "metadata": {
        "id": "aCBeqEVY-5kS",
        "colab_type": "code",
        "outputId": "953db37e-4cca-4619-cdc8-24d0b93633bb",
        "colab": {
          "base_uri": "https://localhost:8080/",
          "height": 101
        }
      },
      "source": [
        "#missing track names?\n",
        "songs.loc[songs.track_name.isnull()]"
      ],
      "execution_count": 0,
      "outputs": [
        {
          "output_type": "execute_result",
          "data": {
            "text/html": [
              "<div>\n",
              "<style scoped>\n",
              "    .dataframe tbody tr th:only-of-type {\n",
              "        vertical-align: middle;\n",
              "    }\n",
              "\n",
              "    .dataframe tbody tr th {\n",
              "        vertical-align: top;\n",
              "    }\n",
              "\n",
              "    .dataframe thead th {\n",
              "        text-align: right;\n",
              "    }\n",
              "</style>\n",
              "<table border=\"1\" class=\"dataframe\">\n",
              "  <thead>\n",
              "    <tr style=\"text-align: right;\">\n",
              "      <th></th>\n",
              "      <th>pos</th>\n",
              "      <th>artist_name</th>\n",
              "      <th>track_uri</th>\n",
              "      <th>artist_uri</th>\n",
              "      <th>track_name</th>\n",
              "      <th>album_uri</th>\n",
              "      <th>duration_ms</th>\n",
              "      <th>album_name</th>\n",
              "      <th>pidfile_name</th>\n",
              "    </tr>\n",
              "  </thead>\n",
              "  <tbody>\n",
              "    <tr>\n",
              "      <th>34634330</th>\n",
              "      <td>58</td>\n",
              "      <td>null</td>\n",
              "      <td>spotify:track:3uxxOSDWiBqKBnbU2eSAxI</td>\n",
              "      <td>spotify:artist:3fmUow9gSgOouUw2UnUtzg</td>\n",
              "      <td>NaN</td>\n",
              "      <td>spotify:album:0yiPGCcuMDakfqcmvY6Rk1</td>\n",
              "      <td>135427</td>\n",
              "      <td>null</td>\n",
              "      <td>434songs744</td>\n",
              "    </tr>\n",
              "  </tbody>\n",
              "</table>\n",
              "</div>"
            ],
            "text/plain": [
              "          pos artist_name  ... album_name pidfile_name\n",
              "34634330   58        null  ...       null  434songs744\n",
              "\n",
              "[1 rows x 9 columns]"
            ]
          },
          "metadata": {
            "tags": []
          },
          "execution_count": 10
        }
      ]
    },
    {
      "cell_type": "markdown",
      "metadata": {
        "id": "bFXZQ7z3_KpA",
        "colab_type": "text"
      },
      "source": [
        "Once again, we have our null artist with null album and null song. We will fix that as well as the null song name for the other artist. "
      ]
    },
    {
      "cell_type": "code",
      "metadata": {
        "id": "d2MHfW5p_WGU",
        "colab_type": "code",
        "colab": {}
      },
      "source": [
        "songs.loc[songs.track_uri == 'spotify:track:3uxxOSDWiBqKBnbU2eSAxI', 'track_name'] = ['null']"
      ],
      "execution_count": 0,
      "outputs": []
    },
    {
      "cell_type": "markdown",
      "metadata": {
        "id": "RWW4UzAq_w6h",
        "colab_type": "text"
      },
      "source": [
        "# Exploratory Data Analysis (EDA)"
      ]
    },
    {
      "cell_type": "code",
      "metadata": {
        "id": "hPeHKAurlCwP",
        "colab_type": "code",
        "outputId": "4693d5ce-cabc-4ac7-dcb9-8d1a943e1340",
        "colab": {
          "base_uri": "https://localhost:8080/",
          "height": 173
        }
      },
      "source": [
        "#playlist statistics grouped by pid & filename\n",
        "songs.groupby(['pidfile_name']).count()['track_uri'].describe()"
      ],
      "execution_count": 0,
      "outputs": [
        {
          "output_type": "execute_result",
          "data": {
            "text/plain": [
              "count    500000.000000\n",
              "mean         66.286522\n",
              "std          53.645746\n",
              "min           5.000000\n",
              "25%          26.000000\n",
              "50%          49.000000\n",
              "75%          91.000000\n",
              "max         250.000000\n",
              "Name: track_uri, dtype: float64"
            ]
          },
          "metadata": {
            "tags": []
          },
          "execution_count": 12
        }
      ]
    },
    {
      "cell_type": "code",
      "metadata": {
        "id": "gRR5kRhfbVzx",
        "colab_type": "code",
        "outputId": "b5249229-1e82-4181-dd42-9bcbe2ff188b",
        "colab": {
          "base_uri": "https://localhost:8080/",
          "height": 404
        }
      },
      "source": [
        "#what is the average length of a playlist - make sure to group by FILE NAME AND PID!!\n",
        "plt.figure(figsize=(15,6))\n",
        "ax = songs.groupby(['pidfile_name']).count()['track_uri'].plot(kind = 'hist');\n",
        "ax.set_xlabel('Number of Songs in a Playlist')\n",
        "ax.set_title('Distribution of the Average Length of a Playlist in the 500K Sample');"
      ],
      "execution_count": 0,
      "outputs": [
        {
          "output_type": "display_data",
          "data": {
            "image/png": "[encoded data removed]",
            "text/plain": [
              "<Figure size 1080x432 with 1 Axes>"
            ]
          },
          "metadata": {
            "tags": []
          }
        }
      ]
    },
    {
      "cell_type": "code",
      "metadata": {
        "id": "jZX38KsUxUfL",
        "colab_type": "code",
        "colab": {}
      },
      "source": [
        "#calculate the duration in minutes\n",
        "songs['duration_min']=(songs.duration_ms/(1000*60))%60"
      ],
      "execution_count": 0,
      "outputs": []
    },
    {
      "cell_type": "code",
      "metadata": {
        "id": "O0_RmsCbxsfN",
        "colab_type": "code",
        "outputId": "7d6694aa-cbbf-463c-d88d-64b3d47120c4",
        "colab": {
          "base_uri": "https://localhost:8080/",
          "height": 173
        }
      },
      "source": [
        "#stats on song duration\n",
        "songs.duration_min.describe()"
      ],
      "execution_count": 0,
      "outputs": [
        {
          "output_type": "execute_result",
          "data": {
            "text/plain": [
              "count    3.314326e+07\n",
              "mean     3.911850e+00\n",
              "std      1.145048e+00\n",
              "min      0.000000e+00\n",
              "25%      3.308433e+00\n",
              "50%      3.751750e+00\n",
              "75%      4.322217e+00\n",
              "max      5.999998e+01\n",
              "Name: duration_min, dtype: float64"
            ]
          },
          "metadata": {
            "tags": []
          },
          "execution_count": 17
        }
      ]
    },
    {
      "cell_type": "code",
      "metadata": {
        "id": "o27BRcEKxzUM",
        "colab_type": "code",
        "outputId": "9357f332-f813-409f-ddfe-4ac2a0e21cca",
        "colab": {
          "base_uri": "https://localhost:8080/",
          "height": 52
        }
      },
      "source": [
        "#lets find the index of the longest song\n",
        "longest_duration = songs.duration_min.nlargest(1)\n",
        "longest_duration\n"
      ],
      "execution_count": 0,
      "outputs": [
        {
          "output_type": "execute_result",
          "data": {
            "text/plain": [
              "35639171    59.999983\n",
              "Name: duration_min, dtype: float64"
            ]
          },
          "metadata": {
            "tags": []
          },
          "execution_count": 18
        }
      ]
    },
    {
      "cell_type": "code",
      "metadata": {
        "id": "CPgI-GQgx6PH",
        "colab_type": "code",
        "outputId": "195013c2-a0ba-4129-9c66-1171f3431f3e",
        "colab": {
          "base_uri": "https://localhost:8080/",
          "height": 208
        }
      },
      "source": [
        "#what is the longest song based on the index\n",
        "songs.loc[35639171]"
      ],
      "execution_count": 0,
      "outputs": [
        {
          "output_type": "execute_result",
          "data": {
            "text/plain": [
              "pos                                                            28\n",
              "artist_name                               Halloween Sound Effects\n",
              "track_uri                    spotify:track:1ms3hLP7f2mLlSzCuxwv1C\n",
              "artist_uri                  spotify:artist:0xdm6Qolge99Rs4OAdz0LB\n",
              "track_name                Smash 3 - Scary Halloween Sound Effects\n",
              "album_uri                    spotify:album:4yh1SX3FF3zoXd3skJi7a5\n",
              "duration_ms                                                    -1\n",
              "album_name      Halloween Shuffle Play - 150 Scary Sounds and ...\n",
              "pidfile_name                                          591songs563\n",
              "duration_min                                                   60\n",
              "Name: 35639171, dtype: object"
            ]
          },
          "metadata": {
            "tags": []
          },
          "execution_count": 19
        }
      ]
    },
    {
      "cell_type": "code",
      "metadata": {
        "id": "QfgyUZG2yZXd",
        "colab_type": "code",
        "colab": {}
      },
      "source": [
        "#categorize songs' durations\n",
        "songs['duration_cat']=pd.cut(x=songs.duration_min, \n",
        "                                 bins=[-.1,0.5,1.5,2.5,3.5,4.5,5.5,6.5,7.5,8.5,9.5,10.5,\n",
        "                                       11.5,12.5,13.5,14.5,15.5,16.5,17.5,18.5,19.5,20.5,60], \n",
        "                                 labels=['0min','1min','2min','3min','4min','5min','6min','7min','8min','9min','10min',\n",
        "                                         '11min','12min','13min','14min','15min','16min','17min','18min','19min','20min','>20min'])\n"
      ],
      "execution_count": 0,
      "outputs": []
    },
    {
      "cell_type": "code",
      "metadata": {
        "id": "Vq9PotGu0jKk",
        "colab_type": "code",
        "colab": {}
      },
      "source": [
        "#Categorical labels for songs'durations\n",
        "labels_cat=['0min','1min','2min','3min','4min','5min','6min','7min','8min','9min','10min',\n",
        "        '11min','12min','13min','14min','15min','16min','17min','18min','19min','20min','>20min']\n",
        "#Calculate the number of each categories\n",
        "counts=[]\n",
        "for cat in labels_cat:\n",
        "  counts.append(songs[songs.duration_cat==cat].count().values[-1])"
      ],
      "execution_count": 0,
      "outputs": []
    },
    {
      "cell_type": "code",
      "metadata": {
        "id": "PR6KgxNz39Fq",
        "colab_type": "code",
        "outputId": "42249355-a153-49e7-fb50-e5f0a754980a",
        "colab": {
          "base_uri": "https://localhost:8080/",
          "height": 404
        }
      },
      "source": [
        "#Plot song duration vs. distribution\n",
        "plt.figure(figsize=(15,6))\n",
        "x=np.arange(22)\n",
        "plt.bar(x,counts)\n",
        "plt.xticks(x,labels_cat)\n",
        "plt.xlabel('Duration of a Song')\n",
        "plt.ylabel('Distribution')\n",
        "plt.title('The Distribution of Duration of a Song in the sample 500k_playlist')\n",
        "plt.show()"
      ],
      "execution_count": 0,
      "outputs": [
        {
          "output_type": "display_data",
          "data": {
            "image/png": "[encoded data removed]",
            "text/plain": [
              "<Figure size 1080x432 with 1 Axes>"
            ]
          },
          "metadata": {
            "tags": []
          }
        }
      ]
    },
    {
      "cell_type": "code",
      "metadata": {
        "id": "h3NQ2VGRDfh5",
        "colab_type": "code",
        "outputId": "a79f65db-66fa-4e9f-cbd5-1d53826f6a31",
        "colab": {
          "base_uri": "https://localhost:8080/",
          "height": 404
        }
      },
      "source": [
        "#get the top 10 artists'names \n",
        "top10_artists=songs.artist_name.value_counts().index[:10]\n",
        "#calculate frequencies of their names in a single playlist\n",
        "freq=[]\n",
        "for artist in top10_artists:\n",
        "  freq.append(songs[songs.artist_name==artist].pidfile_name.nunique()/500000)\n",
        "#plot artists'names vs frequencies\n",
        "plt.figure(figsize=(18,6))\n",
        "x=np.arange(10)\n",
        "plt.bar(x,freq)\n",
        "plt.xticks(x,top10_artists)\n",
        "plt.xlabel('Artist Names')\n",
        "plt.ylabel('Frequencies of Their Names')\n",
        "plt.title('Frequencies of Top 10 Artists Appearance in a Single Playlist in the sample 500k_playlist')\n",
        "plt.show()"
      ],
      "execution_count": 0,
      "outputs": [
        {
          "output_type": "display_data",
          "data": {
            "image/png": "[encoded data removed]",
            "text/plain": [
              "<Figure size 1296x432 with 1 Axes>"
            ]
          },
          "metadata": {
            "tags": []
          }
        }
      ]
    },
    {
      "cell_type": "markdown",
      "metadata": {
        "id": "P1Ug44bzNoK2",
        "colab_type": "text"
      },
      "source": [
        "# Playlist x Unique Songs Sparse Matrix"
      ]
    },
    {
      "cell_type": "markdown",
      "metadata": {
        "id": "BcEa2Z46OSVU",
        "colab_type": "text"
      },
      "source": [
        "For further model building, it will be helpful to have a sparse matrix that encodes our playlists in rows and our unique songs in columns. A one(1) in a particular cell of the matrix means that playlist has that song. A zero (0) means it doesn't. We need to carefully look at sparsity here - a matrix that is too sparse means that using matrix factorization to learn latent variables wouldn't work very well because there aren't enough playlist/song interactions. \n",
        "\n",
        "references: https://www.ethanrosenthal.com/2016/10/19/implicit-mf-part-1/, https://jessesw.com/Rec-System/"
      ]
    },
    {
      "cell_type": "code",
      "metadata": {
        "id": "6oPimOn5Svg3",
        "colab_type": "code",
        "outputId": "247311bd-01bd-448b-a2a8-bc8e020fc3ec",
        "colab": {
          "base_uri": "https://localhost:8080/",
          "height": 68
        }
      },
      "source": [
        "#make sparse binary matrix of playlist x uniq song? 0 if song not in playlist, 1 if it is\n",
        "\n",
        "n_pls = songs.pidfile_name.unique().shape[0]\n",
        "n_songs = songs.track_uri.unique().shape[0]\n",
        "\n",
        "#calculate matrix sparsity\n",
        "print(f'Num playlists: {n_pls}')\n",
        "print(f'Num unique songs: {n_songs}')\n",
        "print(f'Sparsity: {100 - float(songs.shape[0]) /float(n_pls*n_songs) * 100:0.3f}%')\n"
      ],
      "execution_count": 0,
      "outputs": [
        {
          "output_type": "stream",
          "text": [
            "Num playlists: 500000\n",
            "Num unique songs: 1607449\n",
            "Sparsity: 99.996%\n"
          ],
          "name": "stdout"
        }
      ]
    },
    {
      "cell_type": "markdown",
      "metadata": {
        "id": "48mAm0zqNY4r",
        "colab_type": "text"
      },
      "source": [
        "This is very high sparsity! It might be too low for us to make matrix factorization models work. We should try filtering out songs that appear less than N (N is our choice) times across the whole dataset and playlists with too few songs. This might serve to make our matrix more dense. We are aiming for a sparsity of 99.5% and below (https://jessesw.com/Rec-System/)\n",
        "\n",
        "*N.B. The reason for dropping 'in place' is that the RAM on the Google Colab GPU is insufficient for multiple instances of the whole 11GB dataset. To keep the RAM in check, we can't have two instances of the full or nearly full data.* "
      ]
    },
    {
      "cell_type": "code",
      "metadata": {
        "id": "EzvZob27oD4c",
        "colab_type": "code",
        "colab": {}
      },
      "source": [
        "def threshold_data(songs, min_pid_length, min_track_cts):\n",
        "  '''drops all playlists with length less than min_pid_length and all tracks featured \n",
        "  less than min_track_cts in the data. Does so iteratively until data size remains stable.\n",
        "  Inspired by code from https://www.ethanrosenthal.com/2016/10/19/implicit-mf-part-1/'''\n",
        "\n",
        "  done = False\n",
        "  while not done:\n",
        "    starting_shape = songs.shape[0] #print starting num rows\n",
        "    #filter playlists\n",
        "    pid_cts = songs['pidfile_name'].value_counts()\n",
        "    drop_idx = songs.loc[songs.pidfile_name.isin(pid_cts[pid_cts < min_pid_length].index)].index\n",
        "    songs.drop(drop_idx, inplace = True)\n",
        "    #filter songs\n",
        "    track_cts = songs['track_uri'].value_counts()\n",
        "    drop_idx = songs.loc[songs.track_uri.isin(track_cts[track_cts < min_track_cts].index)].index\n",
        "    songs.drop(drop_idx, inplace = True)\n",
        "    #print ending num rows\n",
        "    ending_shape = songs.shape[0]\n",
        "    #break out of while loop if no more rows filtered out\n",
        "    if starting_shape == ending_shape:\n",
        "      done = True\n",
        "\n",
        "  n_pls = songs.pidfile_name.unique().shape[0]\n",
        "  n_songs = songs.track_uri.unique().shape[0]\n",
        "\n",
        "  #calculate new matrix sparsity\n",
        "  print(f'Num playlists: {n_pls}')\n",
        "  print(f'Num unique songs: {n_songs}')\n",
        "  print(f'Sparsity: {100 - float(songs.shape[0]) /float(n_pls*n_songs) * 100:0.5f}%')\n"
      ],
      "execution_count": 0,
      "outputs": []
    },
    {
      "cell_type": "code",
      "metadata": {
        "id": "yihVYPIwpomp",
        "colab_type": "code",
        "outputId": "0cd44f5b-0aa7-4ce6-a912-9c6d0732ba98",
        "colab": {
          "base_uri": "https://localhost:8080/",
          "height": 69
        }
      },
      "source": [
        "threshold_data(songs, 50, 50)"
      ],
      "execution_count": 0,
      "outputs": [
        {
          "output_type": "stream",
          "text": [
            "Num playlists: 188756\n",
            "Num unique songs: 48131\n",
            "Sparsity: 99.79794%\n"
          ],
          "name": "stdout"
        }
      ]
    },
    {
      "cell_type": "code",
      "metadata": {
        "id": "joZaxPeyqS25",
        "colab_type": "code",
        "colab": {}
      },
      "source": [
        "songs.to_csv('dense_playlists.csv')"
      ],
      "execution_count": 0,
      "outputs": []
    },
    {
      "cell_type": "markdown",
      "metadata": {
        "id": "pEgkKO3I2TA-",
        "colab_type": "text"
      },
      "source": [
        "While 99.5% sparsity was the target range recommended by the author of https://jessesw.com/Rec-System/, we expressed hesitation in filtering out too much data to get a dense matrix. We were hesitant that our model would perform well on playlists with few songs, so we decided that a sparsity of 99.8% would be acceptable for further analysis. For reference, Ethan Rosenthal (https://www.ethanrosenthal.com/2016/10/19/implicit-mf-part-1/) used a sparsity of 99.86% with some degree of success. "
      ]
    },
    {
      "cell_type": "markdown",
      "metadata": {
        "id": "4ojOQlGHDsl5",
        "colab_type": "text"
      },
      "source": [
        "# Train-Test Split"
      ]
    },
    {
      "cell_type": "markdown",
      "metadata": {
        "id": "PW6ykovTDvsO",
        "colab_type": "text"
      },
      "source": [
        "We want to be able to assess the performance of our model, but it would be erroneous to drop whole playlists from the dataset, since our collaborative filtering models will eventually need all the playlists (or as many of them as we retained) to learn the latent factors. Therefore, by recommendation of these two websites (https://www.ethanrosenthal.com/2016/10/19/implicit-mf-part-1/, https://jessesw.com/Rec-System/), we will instead use a training set where a certain number of playlist-song interactions are masked from us. \n",
        "\n",
        "To do this, we first want to make a sparse matrix that contains a 1 if the playlist has a particular song and a 0 if it doesn't. We will save the full sparse matrix as 'item_user_matrix' and that will be our test set. In this scenario, there will be playlists that have cells with 1+ if they feature the same song multiple times. We have decided to leave these playlists in for our training as these correspond to unique usage patterns. \n",
        "\n",
        "To make our train set, we will take the full sparse matrix and mask 10 random cells containg a '1' (or more) for each playlist. For those playlists with less than 50 unique songs, we will not take any songs for the test set if the number of unique songs is less than 20 (max test split is 50%). \n",
        "\n",
        "These masked ratings will then be moved to the test set (validation set) sparse matrix. "
      ]
    },
    {
      "cell_type": "code",
      "metadata": {
        "id": "CCxE1n7YGnt0",
        "colab_type": "code",
        "outputId": "40e038f9-a1b1-47e4-b5d4-2872824bb221",
        "colab": {
          "base_uri": "https://localhost:8080/",
          "height": 104
        }
      },
      "source": [
        "songs = pd.read_csv('/content/drive/My Drive/Spotify/dense_playlists.csv', index_col=0)\n",
        "print(f'min playlist length: {songs.pidfile_name.value_counts().min()}')\n",
        "print(f'min track counts: {songs.track_uri.value_counts().min()}')\n",
        "songs.reset_index(drop=True, inplace=True)"
      ],
      "execution_count": 0,
      "outputs": [
        {
          "output_type": "stream",
          "text": [
            "/usr/local/lib/python3.6/dist-packages/numpy/lib/arraysetops.py:568: FutureWarning: elementwise comparison failed; returning scalar instead, but in the future will perform elementwise comparison\n",
            "  mask |= (ar1 == a)\n"
          ],
          "name": "stderr"
        },
        {
          "output_type": "stream",
          "text": [
            "min playlist length: 50\n",
            "min track counts: 50\n"
          ],
          "name": "stdout"
        }
      ]
    },
    {
      "cell_type": "code",
      "metadata": {
        "id": "h8JzYyI6L0_R",
        "colab_type": "code",
        "colab": {}
      },
      "source": [
        "#make sparse matrix\n",
        "cols = songs.pidfile_name.astype('category').cat.codes # make category codes/indices for each playlist\n",
        "rows = songs.track_uri.astype('category').cat.codes # make category codes/indices for each song\n",
        "#likes = np.ones(songs.shape[0]) #1s if song is in playlist"
      ],
      "execution_count": 0,
      "outputs": []
    },
    {
      "cell_type": "code",
      "metadata": {
        "id": "U6BY6SLGy-ec",
        "colab_type": "code",
        "outputId": "ecd08ded-b56a-4b72-ded4-492043c6b5c8",
        "colab": {
          "base_uri": "https://localhost:8080/",
          "height": 34
        }
      },
      "source": [
        "cols.unique().shape"
      ],
      "execution_count": 0,
      "outputs": [
        {
          "output_type": "execute_result",
          "data": {
            "text/plain": [
              "(188756,)"
            ]
          },
          "metadata": {
            "tags": []
          },
          "execution_count": 235
        }
      ]
    },
    {
      "cell_type": "code",
      "metadata": {
        "id": "g4NQE8wh_AkM",
        "colab_type": "code",
        "outputId": "6c4a43bf-b034-4270-8074-1ce6e1944963",
        "colab": {
          "base_uri": "https://localhost:8080/",
          "height": 67
        }
      },
      "source": [
        "likes = sparse.csr_matrix((likes, (rows, cols)), dtype=np.float64) #make sparse matrix\n",
        "print(songs.groupby(by=['pidfile_name', 'track_uri']).count()['track_name'].shape)\n",
        "likes"
      ],
      "execution_count": 0,
      "outputs": [
        {
          "output_type": "stream",
          "text": [
            "(18078662,)\n"
          ],
          "name": "stdout"
        },
        {
          "output_type": "execute_result",
          "data": {
            "text/plain": [
              "<48131x188756 sparse matrix of type '<class 'numpy.float64'>'\n",
              "\twith 18078662 stored elements in Compressed Sparse Row format>"
            ]
          },
          "metadata": {
            "tags": []
          },
          "execution_count": 8
        }
      ]
    },
    {
      "cell_type": "code",
      "metadata": {
        "id": "LlG8_YS96srZ",
        "colab_type": "code",
        "outputId": "b7d17cd2-0b73-4a7c-d14c-9c7943199f33",
        "colab": {
          "base_uri": "https://localhost:8080/",
          "height": 50
        }
      },
      "source": [
        "likes.getcol(15000)"
      ],
      "execution_count": 0,
      "outputs": [
        {
          "output_type": "execute_result",
          "data": {
            "text/plain": [
              "<48131x1 sparse matrix of type '<class 'numpy.float64'>'\n",
              "\twith 61 stored elements in Compressed Sparse Row format>"
            ]
          },
          "metadata": {
            "tags": []
          },
          "execution_count": 245
        }
      ]
    },
    {
      "cell_type": "markdown",
      "metadata": {
        "id": "sfpxEvbiCNbW",
        "colab_type": "text"
      },
      "source": [
        "For later model fitting with the implicit library, we saved the dataset as a sparse row matrix with the items (tracks) as rows and users (playlists) as columns. We can see that we have ~18 million unique interactions between playlist and song. "
      ]
    },
    {
      "cell_type": "code",
      "metadata": {
        "id": "1dvsJUuPBVXI",
        "colab_type": "code",
        "colab": {}
      },
      "source": [
        "sparse.save_npz('item_user_matrix.npz', likes)"
      ],
      "execution_count": 0,
      "outputs": []
    },
    {
      "cell_type": "code",
      "metadata": {
        "id": "C0m3pGI9Fn0n",
        "colab_type": "code",
        "outputId": "37ad9eca-05ac-499a-acef-3ae572413735",
        "colab": {
          "base_uri": "https://localhost:8080/",
          "height": 51
        }
      },
      "source": [
        "#check that the min number of interactions for both songs and playlists is 50\n",
        "print(f'min num songs in playlist: {likes.sum(axis=1).min()}')\n",
        "print(f'min num playlists song is featured in: {likes.sum(axis=0).min()}')"
      ],
      "execution_count": 0,
      "outputs": [
        {
          "output_type": "stream",
          "text": [
            "min num songs in playlist: 50.0\n",
            "min num playlists song is featured in: 50.0\n"
          ],
          "name": "stdout"
        }
      ]
    },
    {
      "cell_type": "code",
      "metadata": {
        "id": "jbf2qkPpfxSn",
        "colab_type": "code",
        "colab": {}
      },
      "source": [
        "#reload data if needed\n",
        "likes = sparse.load_npz('/content/drive/My Drive/Spotify/item_user_matrix.npz')"
      ],
      "execution_count": 0,
      "outputs": []
    },
    {
      "cell_type": "code",
      "metadata": {
        "id": "HopVOtQNIr32",
        "colab_type": "code",
        "colab": {}
      },
      "source": [
        "#for faster column indexing, change csr to csc\n",
        "likes = likes.tocsc()"
      ],
      "execution_count": 0,
      "outputs": []
    },
    {
      "cell_type": "code",
      "metadata": {
        "id": "6f5tKbRlFE0x",
        "colab_type": "code",
        "colab": {}
      },
      "source": [
        "def train_test_split(likes, num_to_mask, rd_seed=random.seed(0)):\n",
        "  '''\n",
        "  Make training set with masked interactions\n",
        "\n",
        "  likes: the full sparse matrix of playlist-song interactions\n",
        "  num_to_mask: how many interactions we will mask for our training set\n",
        "  rd_seed: random.seed to use, default 0\n",
        "\n",
        "  Inspired by: https://www.ethanrosenthal.com/2016/10/19/implicit-mf-part-1/\n",
        "  '''\n",
        "  #make the train and test matrices\n",
        "  #use lil matrix for efficiency\n",
        "  train = likes.copy().tolil() #copy all the data to train for later masking\n",
        "  test = likes.copy().tolil()\n",
        "  #test = sparse.lil_matrix(likes.shape, dtype=np.float64) #initialize an empty matrix\n",
        "\n",
        "  for pl in np.arange(0, likes.shape[1]): #for each playlist\n",
        "    if len(likes.getcol(pl).indices) >= 20: #playlist must have 20+ unique songs\n",
        "      #mask a random subset of 10 'likes' (1s)\n",
        "      masked_likes = np.random.choice(likes.getcol(pl).indices, \n",
        "                                        size=num_to_mask, \n",
        "                                        replace=False)\n",
        "      train[masked_likes, pl] = 0.\n",
        "\n",
        "      #mask everything but these likes in the test set\n",
        "      #scipy has shape assignment mismatch when trying to assign column values\n",
        "      #from likes matrix to test matrix, even though shapes are equivalent\n",
        "      cells_to_mask = likes.getcol(pl).indices[~np.isin(likes.getcol(pl).indices, masked_likes)]\n",
        "      test[cells_to_mask, pl] = 0.\n",
        "\n",
        "    else: #mask everything from the test set if playlist is under 20 unique songs\n",
        "      cells_to_mask = likes.getcol(pl).indices\n",
        "      test[cells_to_mask, pl] = 0.\n",
        "\n",
        "  return train.tocsc(), test.tocsc()"
      ],
      "execution_count": 0,
      "outputs": []
    },
    {
      "cell_type": "code",
      "metadata": {
        "id": "XHidyvTmLx6e",
        "colab_type": "code",
        "colab": {}
      },
      "source": [
        "train_set, val_set = train_test_split(likes, 10)"
      ],
      "execution_count": 0,
      "outputs": []
    },
    {
      "cell_type": "code",
      "metadata": {
        "id": "_qkWz5UohPkl",
        "colab_type": "code",
        "outputId": "de5d2159-5eff-4354-9c80-17f3e9a87d92",
        "colab": {
          "base_uri": "https://localhost:8080/",
          "height": 86
        }
      },
      "source": [
        "train_set, val_set"
      ],
      "execution_count": 0,
      "outputs": [
        {
          "output_type": "execute_result",
          "data": {
            "text/plain": [
              "(<48131x188756 sparse matrix of type '<class 'numpy.float64'>'\n",
              " \twith 16191252 stored elements in Compressed Sparse Column format>,\n",
              " <48131x188756 sparse matrix of type '<class 'numpy.float64'>'\n",
              " \twith 1887410 stored elements in Compressed Sparse Column format>)"
            ]
          },
          "metadata": {
            "tags": []
          },
          "execution_count": 14
        }
      ]
    },
    {
      "cell_type": "code",
      "metadata": {
        "id": "XZ0UOWNGjT2x",
        "colab_type": "code",
        "outputId": "2ecb7db4-d508-470f-ef8c-b1ae2fb6e712",
        "colab": {
          "base_uri": "https://localhost:8080/",
          "height": 52
        }
      },
      "source": [
        "likes"
      ],
      "execution_count": 0,
      "outputs": [
        {
          "output_type": "execute_result",
          "data": {
            "text/plain": [
              "<48131x188756 sparse matrix of type '<class 'numpy.float64'>'\n",
              "\twith 18078662 stored elements in Compressed Sparse Column format>"
            ]
          },
          "metadata": {
            "tags": []
          },
          "execution_count": 15
        }
      ]
    },
    {
      "cell_type": "code",
      "metadata": {
        "id": "DOXB_qlThgNB",
        "colab_type": "code",
        "colab": {}
      },
      "source": [
        "sparse.save_npz('train_set.npz', train_set)\n",
        "sparse.save_npz('test_set.npz', val_set)"
      ],
      "execution_count": 0,
      "outputs": []
    },
    {
      "cell_type": "markdown",
      "metadata": {
        "id": "rwdaeIPHCIsN",
        "colab_type": "text"
      },
      "source": [
        "# Popularity-based Model"
      ]
    },
    {
      "cell_type": "markdown",
      "metadata": {
        "id": "W492gam3dW6o",
        "colab_type": "text"
      },
      "source": [
        "We are using the two websites here to figure out how to make a recommender from a sparse matrix:\n",
        "https://www.ethanrosenthal.com/2016/10/19/implicit-mf-part-1/\n",
        "https://jessesw.com/Rec-System/\n"
      ]
    },
    {
      "cell_type": "markdown",
      "metadata": {
        "id": "8wVepTqWCTZc",
        "colab_type": "text"
      },
      "source": [
        "A very simple song recommender would recommend the top K (K is up to us) most popular songs in the MPD regardless of the playlist we want song recommendations for. Since we are dealing with implicit ratings (basically, the presence and absence of a song in a playlist), song popularity can be measured by how many times it is featured. Even though there is a risk of duplicate songs within a playlist, these playlists are 1% of our total data, and therefore we will not worry about this caveat now.  "
      ]
    },
    {
      "cell_type": "code",
      "metadata": {
        "id": "jufNGBbGg5jo",
        "colab_type": "code",
        "colab": {}
      },
      "source": [
        "#load train and validation sets\n",
        "train_set = sparse.load_npz('/content/drive/My Drive/Spotify/train_set.npz')\n",
        "val_set = sparse.load_npz('/content/drive/My Drive/Spotify/test_set.npz')"
      ],
      "execution_count": 0,
      "outputs": []
    },
    {
      "cell_type": "code",
      "metadata": {
        "id": "XMqMzmoOoc32",
        "colab_type": "code",
        "outputId": "00863ee5-f8c2-4aa1-aefe-261c9574d70d",
        "colab": {
          "base_uri": "https://localhost:8080/",
          "height": 206
        }
      },
      "source": [
        "#what are the most popular songs in the training set?\n",
        "#let's get the indices for these songs\n",
        "songs_cts = np.ravel(train_set.sum(axis=1))\n",
        "songs_idx = np.arange(0, len(songs_cts))\n",
        "popular_songs = pd.DataFrame({'idx': songs_idx, 'cts': songs_cts}).sort_values(by=['cts'], ascending=False)\n",
        "popular_songs.head()"
      ],
      "execution_count": 6,
      "outputs": [
        {
          "output_type": "execute_result",
          "data": {
            "text/html": [
              "<div>\n",
              "<style scoped>\n",
              "    .dataframe tbody tr th:only-of-type {\n",
              "        vertical-align: middle;\n",
              "    }\n",
              "\n",
              "    .dataframe tbody tr th {\n",
              "        vertical-align: top;\n",
              "    }\n",
              "\n",
              "    .dataframe thead th {\n",
              "        text-align: right;\n",
              "    }\n",
              "</style>\n",
              "<table border=\"1\" class=\"dataframe\">\n",
              "  <thead>\n",
              "    <tr style=\"text-align: right;\">\n",
              "      <th></th>\n",
              "      <th>idx</th>\n",
              "      <th>cts</th>\n",
              "    </tr>\n",
              "  </thead>\n",
              "  <tbody>\n",
              "    <tr>\n",
              "      <th>45284</th>\n",
              "      <td>45284</td>\n",
              "      <td>14985.0</td>\n",
              "    </tr>\n",
              "    <tr>\n",
              "      <th>12075</th>\n",
              "      <td>12075</td>\n",
              "      <td>14120.0</td>\n",
              "    </tr>\n",
              "    <tr>\n",
              "      <th>48016</th>\n",
              "      <td>48016</td>\n",
              "      <td>13404.0</td>\n",
              "    </tr>\n",
              "    <tr>\n",
              "      <th>44411</th>\n",
              "      <td>44411</td>\n",
              "      <td>13042.0</td>\n",
              "    </tr>\n",
              "    <tr>\n",
              "      <th>22005</th>\n",
              "      <td>22005</td>\n",
              "      <td>13002.0</td>\n",
              "    </tr>\n",
              "  </tbody>\n",
              "</table>\n",
              "</div>"
            ],
            "text/plain": [
              "         idx      cts\n",
              "45284  45284  14985.0\n",
              "12075  12075  14120.0\n",
              "48016  48016  13404.0\n",
              "44411  44411  13042.0\n",
              "22005  22005  13002.0"
            ]
          },
          "metadata": {
            "tags": []
          },
          "execution_count": 6
        }
      ]
    },
    {
      "cell_type": "markdown",
      "metadata": {
        "id": "kEEIuPj9s8Bd",
        "colab_type": "text"
      },
      "source": [
        "A way to measure performance of a recommendation model is to use precision@K (https://medium.com/@m_n_malaeb/recall-and-precision-at-k-for-recommender-systems-618483226c54). Precision@K evaluates the proportion of K recommended items that are relevant to the user. In our case, this means what proportion of K recommended songs are 1+ in the train/test matrix. We will choose K of 10 to evaluate both the train and test matrices. "
      ]
    },
    {
      "cell_type": "code",
      "metadata": {
        "id": "TDFDho8_rfpY",
        "colab_type": "code",
        "colab": {}
      },
      "source": [
        "def precision_at_k(recs, mat, k, pl_index):\n",
        "  '''\n",
        "  recs: array of recommended items, sorted in descending order\n",
        "  \n",
        "  model: matrix factorization model that has been fit on training set (default=None)\n",
        "  \n",
        "  mat: song-playlist matrix (train or test)\n",
        "  \n",
        "  k: what k to calculate precision@k for\n",
        "  \n",
        "  pl_index: index of playlists to calculate precision@k for\n",
        "\n",
        "  returns: mean precision@k across all playlists\n",
        "\n",
        "  Inspired by: https://www.ethanrosenthal.com/2016/10/19/implicit-mf-part-1/\n",
        "  '''\n",
        "  if len(recs.shape)==1: #if there is only one list of recs for all playlists\n",
        "    top_k_recs = recs[:k] #same recs for all playlists\n",
        "    precision = []\n",
        "    for pl in pl_index:\n",
        "        relevant_songs = mat.getcol(pl).indices\n",
        "        precision.append(float(len(np.intersect1d(top_k_recs, relevant_songs)))/float(k))\n",
        "  elif len(recs.shape)==2: #if the recs is an array of playlists by recced songs\n",
        "    precision = []\n",
        "    for pl in pl_index:\n",
        "      top_k_recs = recs[pl, :k] #take recs for a particular playlist\n",
        "      relevant_songs = mat.getcol(pl).indices\n",
        "      precision.append(float(len(np.intersect1d(top_k_recs, relevant_songs)))/float(k))\n",
        "  else:\n",
        "    print('Recs must be either a 1D or 2D array')\n",
        "\n",
        "  return np.mean(precision)"
      ],
      "execution_count": 0,
      "outputs": []
    },
    {
      "cell_type": "code",
      "metadata": {
        "id": "9JYG82SYzO6o",
        "colab_type": "code",
        "colab": {}
      },
      "source": [
        "#make pl_index - filter out playlists that did not get any values in the test set\n",
        "def make_pl_index(train_set):\n",
        "  '''\n",
        "  returns array of indices of playlists that have interactions in the test set\n",
        "  '''\n",
        "  pl_index = []\n",
        "  for pl in np.arange(0, train_set.shape[1]): #for each playlist\n",
        "    if len(train_set.getcol(pl).indices) >= 10: #playlist in train_set must have 10+ songs remaining\n",
        "      pl_index.append(pl)\n",
        "\n",
        "  return np.array(pl_index)"
      ],
      "execution_count": 0,
      "outputs": []
    },
    {
      "cell_type": "code",
      "metadata": {
        "id": "rZk-uiwAyTBe",
        "colab_type": "code",
        "outputId": "7e065e12-03e9-4718-b82f-ea730bfc3f6d",
        "colab": {
          "base_uri": "https://localhost:8080/",
          "height": 34
        }
      },
      "source": [
        "#make array of popular songs indices\n",
        "recs = np.array(popular_songs['idx'])\n",
        "recs.shape"
      ],
      "execution_count": 0,
      "outputs": [
        {
          "output_type": "execute_result",
          "data": {
            "text/plain": [
              "(48131,)"
            ]
          },
          "metadata": {
            "tags": []
          },
          "execution_count": 14
        }
      ]
    },
    {
      "cell_type": "code",
      "metadata": {
        "id": "WFnpll-R0oA7",
        "colab_type": "code",
        "outputId": "9e67c549-6510-4525-8551-ad5b6a14d70b",
        "colab": {
          "base_uri": "https://localhost:8080/",
          "height": 34
        }
      },
      "source": [
        "#make pl_index to iterate over\n",
        "pl_index = make_pl_index(train_set)\n",
        "pl_index.shape"
      ],
      "execution_count": 0,
      "outputs": [
        {
          "output_type": "execute_result",
          "data": {
            "text/plain": [
              "(188748,)"
            ]
          },
          "metadata": {
            "tags": []
          },
          "execution_count": 13
        }
      ]
    },
    {
      "cell_type": "code",
      "metadata": {
        "id": "aXFqEyHFyJES",
        "colab_type": "code",
        "outputId": "9d8c8e28-5a5a-4eff-ede6-abedafbc9361",
        "colab": {
          "base_uri": "https://localhost:8080/",
          "height": 34
        }
      },
      "source": [
        "mean_precision = precision_at_k(recs, train_set, 10, pl_index)\n",
        "print(f'Average precision@(k=10) for the training set: {mean_precision:0.4f}')"
      ],
      "execution_count": 0,
      "outputs": [
        {
          "output_type": "stream",
          "text": [
            "Average precision@(k=10) for the training set: 0.0650\n"
          ],
          "name": "stdout"
        }
      ]
    },
    {
      "cell_type": "code",
      "metadata": {
        "id": "djNRqdde1zuV",
        "colab_type": "code",
        "outputId": "aabda6cd-1d23-4419-ba92-5a566d7ee22d",
        "colab": {
          "base_uri": "https://localhost:8080/",
          "height": 34
        }
      },
      "source": [
        "mean_precision = precision_at_k(recs, val_set, 10, pl_index)\n",
        "print(f'Average precision@(k=10) for the test set: {mean_precision:0.4f}')"
      ],
      "execution_count": 0,
      "outputs": [
        {
          "output_type": "stream",
          "text": [
            "Average precision@(k=10) for the test set: 0.0075\n"
          ],
          "name": "stdout"
        }
      ]
    },
    {
      "cell_type": "markdown",
      "metadata": {
        "id": "9dtWQV-C2Mq0",
        "colab_type": "text"
      },
      "source": [
        "Given the top 10 popular songs as our blanket recommendation for all playlists, our precision on the training set is 6.5% and on the test set 0.75%. Not great, but hopefully collaborative filtering will improve this!"
      ]
    },
    {
      "cell_type": "markdown",
      "metadata": {
        "id": "fLgpwvmDCCFX",
        "colab_type": "text"
      },
      "source": [
        "# Collaborative Filtering Model"
      ]
    },
    {
      "cell_type": "markdown",
      "metadata": {
        "id": "0Q2RB0sl2nYO",
        "colab_type": "text"
      },
      "source": [
        "Our goal with collaborative filtering is to use a matrix factorization algorithm to learn the latent features of the playlist-song matrix to be able to give more playlist-specific recommendations.\n",
        "\n",
        "We will try to implement the Alternating Least Squares Recommender model in the implicit python library. This is a model that does Weighted Regularized Matrix Factorization using Alternating Least Squares to find the proper factorization of a sparse matrix. \n",
        "\n",
        "We will try to optimize the following to get the best precision@k:\n",
        "\n",
        "1. Number of latent features\n",
        "2. Confidence in the values of the playlist-song matrix - a scaling term that is multiplied by all non-zero values of the matrix\n",
        "3. Iterations used in optimization\n",
        "4. Regularization of the latent features\n",
        "\n",
        "We are using the following sources for reference:\n",
        "\n",
        "Implicit Rec System Tutorial: https://www.ethanrosenthal.com/2016/10/19/implicit-mf-part-1/\n",
        "\n",
        "Implicit Library Docs: https://implicit.readthedocs.io/en/latest/quickstart.html"
      ]
    },
    {
      "cell_type": "code",
      "metadata": {
        "id": "2M6hK_qE4Qt0",
        "colab_type": "code",
        "outputId": "8ec65f6f-93af-4646-8bbd-68dd12511a17",
        "colab": {
          "base_uri": "https://localhost:8080/",
          "height": 263
        }
      },
      "source": [
        "#install library\n",
        "!pip install implicit"
      ],
      "execution_count": 9,
      "outputs": [
        {
          "output_type": "stream",
          "text": [
            "Collecting implicit\n",
            "\u001b[?25l  Downloading https://files.pythonhosted.org/packages/5a/d8/6b4f1374ffa2647b72ac76960c71b984c6f3238090359fb419d03827d87a/implicit-0.4.2.tar.gz (1.1MB)\n",
            "\r\u001b[K     |▎                               | 10kB 14.7MB/s eta 0:00:01\r\u001b[K     |▋                               | 20kB 1.8MB/s eta 0:00:01\r\u001b[K     |▉                               | 30kB 2.6MB/s eta 0:00:01\r\u001b[K     |█▏                              | 40kB 1.7MB/s eta 0:00:01\r\u001b[K     |█▌                              | 51kB 2.1MB/s eta 0:00:01\r\u001b[K     |█▊                              | 61kB 2.5MB/s eta 0:00:01\r\u001b[K     |██                              | 71kB 2.9MB/s eta 0:00:01\r\u001b[K     |██▍                             | 81kB 3.3MB/s eta 0:00:01\r\u001b[K     |██▋                             | 92kB 3.7MB/s eta 0:00:01\r\u001b[K     |███                             | 102kB 2.8MB/s eta 0:00:01\r\u001b[K     |███▎                            | 112kB 2.8MB/s eta 0:00:01\r\u001b[K     |███▌                            | 122kB 2.8MB/s eta 0:00:01\r\u001b[K     |███▉                            | 133kB 2.8MB/s eta 0:00:01\r\u001b[K     |████▏                           | 143kB 2.8MB/s eta 0:00:01\r\u001b[K     |████▍                           | 153kB 2.8MB/s eta 0:00:01\r\u001b[K     |████▊                           | 163kB 2.8MB/s eta 0:00:01\r\u001b[K     |█████                           | 174kB 2.8MB/s eta 0:00:01\r\u001b[K     |█████▎                          | 184kB 2.8MB/s eta 0:00:01\r\u001b[K     |█████▋                          | 194kB 2.8MB/s eta 0:00:01\r\u001b[K     |█████▉                          | 204kB 2.8MB/s eta 0:00:01\r\u001b[K     |██████▏                         | 215kB 2.8MB/s eta 0:00:01\r\u001b[K     |██████▌                         | 225kB 2.8MB/s eta 0:00:01\r\u001b[K     |██████▊                         | 235kB 2.8MB/s eta 0:00:01\r\u001b[K     |███████                         | 245kB 2.8MB/s eta 0:00:01\r\u001b[K     |███████▍                        | 256kB 2.8MB/s eta 0:00:01\r\u001b[K     |███████▋                        | 266kB 2.8MB/s eta 0:00:01\r\u001b[K     |████████                        | 276kB 2.8MB/s eta 0:00:01\r\u001b[K     |████████▎                       | 286kB 2.8MB/s eta 0:00:01\r\u001b[K     |████████▌                       | 296kB 2.8MB/s eta 0:00:01\r\u001b[K     |████████▉                       | 307kB 2.8MB/s eta 0:00:01\r\u001b[K     |█████████                       | 317kB 2.8MB/s eta 0:00:01\r\u001b[K     |█████████▍                      | 327kB 2.8MB/s eta 0:00:01\r\u001b[K     |█████████▊                      | 337kB 2.8MB/s eta 0:00:01\r\u001b[K     |██████████                      | 348kB 2.8MB/s eta 0:00:01\r\u001b[K     |██████████▎                     | 358kB 2.8MB/s eta 0:00:01\r\u001b[K     |██████████▋                     | 368kB 2.8MB/s eta 0:00:01\r\u001b[K     |██████████▉                     | 378kB 2.8MB/s eta 0:00:01\r\u001b[K     |███████████▏                    | 389kB 2.8MB/s eta 0:00:01\r\u001b[K     |███████████▌                    | 399kB 2.8MB/s eta 0:00:01\r\u001b[K     |███████████▊                    | 409kB 2.8MB/s eta 0:00:01\r\u001b[K     |████████████                    | 419kB 2.8MB/s eta 0:00:01\r\u001b[K     |████████████▍                   | 430kB 2.8MB/s eta 0:00:01\r\u001b[K     |████████████▋                   | 440kB 2.8MB/s eta 0:00:01\r\u001b[K     |█████████████                   | 450kB 2.8MB/s eta 0:00:01\r\u001b[K     |█████████████▏                  | 460kB 2.8MB/s eta 0:00:01\r\u001b[K     |█████████████▌                  | 471kB 2.8MB/s eta 0:00:01\r\u001b[K     |█████████████▉                  | 481kB 2.8MB/s eta 0:00:01\r\u001b[K     |██████████████                  | 491kB 2.8MB/s eta 0:00:01\r\u001b[K     |██████████████▍                 | 501kB 2.8MB/s eta 0:00:01\r\u001b[K     |██████████████▊                 | 512kB 2.8MB/s eta 0:00:01\r\u001b[K     |███████████████                 | 522kB 2.8MB/s eta 0:00:01\r\u001b[K     |███████████████▎                | 532kB 2.8MB/s eta 0:00:01\r\u001b[K     |███████████████▋                | 542kB 2.8MB/s eta 0:00:01\r\u001b[K     |███████████████▉                | 552kB 2.8MB/s eta 0:00:01\r\u001b[K     |████████████████▏               | 563kB 2.8MB/s eta 0:00:01\r\u001b[K     |████████████████▌               | 573kB 2.8MB/s eta 0:00:01\r\u001b[K     |████████████████▊               | 583kB 2.8MB/s eta 0:00:01\r\u001b[K     |█████████████████               | 593kB 2.8MB/s eta 0:00:01\r\u001b[K     |█████████████████▍              | 604kB 2.8MB/s eta 0:00:01\r\u001b[K     |█████████████████▋              | 614kB 2.8MB/s eta 0:00:01\r\u001b[K     |██████████████████              | 624kB 2.8MB/s eta 0:00:01\r\u001b[K     |██████████████████▏             | 634kB 2.8MB/s eta 0:00:01\r\u001b[K     |██████████████████▌             | 645kB 2.8MB/s eta 0:00:01\r\u001b[K     |██████████████████▉             | 655kB 2.8MB/s eta 0:00:01\r\u001b[K     |███████████████████             | 665kB 2.8MB/s eta 0:00:01\r\u001b[K     |███████████████████▍            | 675kB 2.8MB/s eta 0:00:01\r\u001b[K     |███████████████████▊            | 686kB 2.8MB/s eta 0:00:01\r\u001b[K     |████████████████████            | 696kB 2.8MB/s eta 0:00:01\r\u001b[K     |████████████████████▎           | 706kB 2.8MB/s eta 0:00:01\r\u001b[K     |████████████████████▋           | 716kB 2.8MB/s eta 0:00:01\r\u001b[K     |████████████████████▉           | 727kB 2.8MB/s eta 0:00:01\r\u001b[K     |█████████████████████▏          | 737kB 2.8MB/s eta 0:00:01\r\u001b[K     |█████████████████████▌          | 747kB 2.8MB/s eta 0:00:01\r\u001b[K     |█████████████████████▊          | 757kB 2.8MB/s eta 0:00:01\r\u001b[K     |██████████████████████          | 768kB 2.8MB/s eta 0:00:01\r\u001b[K     |██████████████████████▎         | 778kB 2.8MB/s eta 0:00:01\r\u001b[K     |██████████████████████▋         | 788kB 2.8MB/s eta 0:00:01\r\u001b[K     |███████████████████████         | 798kB 2.8MB/s eta 0:00:01\r\u001b[K     |███████████████████████▏        | 808kB 2.8MB/s eta 0:00:01\r\u001b[K     |███████████████████████▌        | 819kB 2.8MB/s eta 0:00:01\r\u001b[K     |███████████████████████▉        | 829kB 2.8MB/s eta 0:00:01\r\u001b[K     |████████████████████████        | 839kB 2.8MB/s eta 0:00:01\r\u001b[K     |████████████████████████▍       | 849kB 2.8MB/s eta 0:00:01\r\u001b[K     |████████████████████████▊       | 860kB 2.8MB/s eta 0:00:01\r\u001b[K     |█████████████████████████       | 870kB 2.8MB/s eta 0:00:01\r\u001b[K     |█████████████████████████▎      | 880kB 2.8MB/s eta 0:00:01\r\u001b[K     |█████████████████████████▋      | 890kB 2.8MB/s eta 0:00:01\r\u001b[K     |█████████████████████████▉      | 901kB 2.8MB/s eta 0:00:01\r\u001b[K     |██████████████████████████▏     | 911kB 2.8MB/s eta 0:00:01\r\u001b[K     |██████████████████████████▍     | 921kB 2.8MB/s eta 0:00:01\r\u001b[K     |██████████████████████████▊     | 931kB 2.8MB/s eta 0:00:01\r\u001b[K     |███████████████████████████     | 942kB 2.8MB/s eta 0:00:01\r\u001b[K     |███████████████████████████▎    | 952kB 2.8MB/s eta 0:00:01\r\u001b[K     |███████████████████████████▋    | 962kB 2.8MB/s eta 0:00:01\r\u001b[K     |████████████████████████████    | 972kB 2.8MB/s eta 0:00:01\r\u001b[K     |████████████████████████████▏   | 983kB 2.8MB/s eta 0:00:01\r\u001b[K     |████████████████████████████▌   | 993kB 2.8MB/s eta 0:00:01\r\u001b[K     |████████████████████████████▉   | 1.0MB 2.8MB/s eta 0:00:01\r\u001b[K     |█████████████████████████████   | 1.0MB 2.8MB/s eta 0:00:01\r\u001b[K     |█████████████████████████████▍  | 1.0MB 2.8MB/s eta 0:00:01\r\u001b[K     |█████████████████████████████▊  | 1.0MB 2.8MB/s eta 0:00:01\r\u001b[K     |██████████████████████████████  | 1.0MB 2.8MB/s eta 0:00:01\r\u001b[K     |██████████████████████████████▎ | 1.1MB 2.8MB/s eta 0:00:01\r\u001b[K     |██████████████████████████████▌ | 1.1MB 2.8MB/s eta 0:00:01\r\u001b[K     |██████████████████████████████▉ | 1.1MB 2.8MB/s eta 0:00:01\r\u001b[K     |███████████████████████████████▏| 1.1MB 2.8MB/s eta 0:00:01\r\u001b[K     |███████████████████████████████▍| 1.1MB 2.8MB/s eta 0:00:01\r\u001b[K     |███████████████████████████████▊| 1.1MB 2.8MB/s eta 0:00:01\r\u001b[K     |████████████████████████████████| 1.1MB 2.8MB/s \n",
            "\u001b[?25hRequirement already satisfied: numpy in /usr/local/lib/python3.6/dist-packages (from implicit) (1.17.4)\n",
            "Requirement already satisfied: scipy>=0.16 in /usr/local/lib/python3.6/dist-packages (from implicit) (1.3.3)\n",
            "Requirement already satisfied: tqdm>=4.27 in /usr/local/lib/python3.6/dist-packages (from implicit) (4.28.1)\n",
            "Building wheels for collected packages: implicit\n",
            "  Building wheel for implicit (setup.py) ... \u001b[?25l\u001b[?25hdone\n",
            "  Created wheel for implicit: filename=implicit-0.4.2-cp36-cp36m-linux_x86_64.whl size=3471601 sha256=8dabbd24077db939e35dd7624af9df4d18f2ebc567765ac262f1f7f80d708078\n",
            "  Stored in directory: /root/.cache/pip/wheels/1b/48/b1/1aebe3acc3afb5589e72d3e7c3ffc3f637dc4721c1a974dff7\n",
            "Successfully built implicit\n",
            "Installing collected packages: implicit\n",
            "Successfully installed implicit-0.4.2\n"
          ],
          "name": "stdout"
        }
      ]
    },
    {
      "cell_type": "code",
      "metadata": {
        "id": "ySE-WKyQ6_Hn",
        "colab_type": "code",
        "colab": {}
      },
      "source": [
        "import implicit"
      ],
      "execution_count": 0,
      "outputs": []
    },
    {
      "cell_type": "code",
      "metadata": {
        "id": "ax1c_6pZGMrE",
        "colab_type": "code",
        "colab": {}
      },
      "source": [
        "#load validation and train sets\n",
        "train_set = sparse.load_npz('/content/drive/My Drive/Spotify/train_set.npz')\n",
        "val_set = sparse.load_npz('/content/drive/My Drive/Spotify/test_set.npz')"
      ],
      "execution_count": 0,
      "outputs": []
    },
    {
      "cell_type": "code",
      "metadata": {
        "id": "-m4wJIT8bYuX",
        "colab_type": "code",
        "outputId": "e4500cfe-f7eb-4d13-c0f8-9a97b9f1a7d0",
        "colab": {
          "base_uri": "https://localhost:8080/",
          "height": 52
        }
      },
      "source": [
        "train_set"
      ],
      "execution_count": 0,
      "outputs": [
        {
          "output_type": "execute_result",
          "data": {
            "text/plain": [
              "<48131x188756 sparse matrix of type '<class 'numpy.float64'>'\n",
              "\twith 16191252 stored elements in Compressed Sparse Column format>"
            ]
          },
          "metadata": {
            "tags": []
          },
          "execution_count": 38
        }
      ]
    },
    {
      "cell_type": "code",
      "metadata": {
        "id": "cHzZ6Ks7hK0e",
        "colab_type": "code",
        "outputId": "a871f435-7c83-444d-a526-01734607dff8",
        "colab": {
          "base_uri": "https://localhost:8080/",
          "height": 34
        }
      },
      "source": [
        "#need to multiply train set by alpha factor for confidence matrix to put in model\n",
        "alpha = 10\n",
        "conf_train_set = (train_set*alpha).tocsr()\n",
        "conf_train_set.dtype"
      ],
      "execution_count": 11,
      "outputs": [
        {
          "output_type": "execute_result",
          "data": {
            "text/plain": [
              "dtype('float64')"
            ]
          },
          "metadata": {
            "tags": []
          },
          "execution_count": 11
        }
      ]
    },
    {
      "cell_type": "code",
      "metadata": {
        "id": "R3zdCwgThLAw",
        "colab_type": "code",
        "colab": {}
      },
      "source": [
        "#initialize model\n",
        "!export OPENBLAS_NUM_THREADS=1\n",
        "mf_model = implicit.als.AlternatingLeastSquares(factors=32, iterations=50)"
      ],
      "execution_count": 0,
      "outputs": []
    },
    {
      "cell_type": "code",
      "metadata": {
        "id": "VC1dC5zkj8LW",
        "colab_type": "code",
        "colab": {
          "base_uri": "https://localhost:8080/",
          "height": 66,
          "referenced_widgets": [
            "a714cbb4be234ab8b07ec9f137be078c",
            "55aca67e12414e4f82329e0a63ef3ada",
            "2bf574121ce0498ea5e5b7d385dcc665",
            "4c9fffc19c684bbdbc82022650094c56",
            "ce8d60f571754b9891b7d5f48315ff26",
            "3bbce1fb9d884f62af74796065595e87",
            "c5d3427909fe4b08acdaf99e99362a04",
            "16ea0aeed20a40cca3e5528b84788db1"
          ]
        },
        "outputId": "865878bd-a498-45f0-be3f-69b271d6641b"
      },
      "source": [
        "# #fit model (fast)\n",
        "mf_model.fit(conf_train_set)"
      ],
      "execution_count": 14,
      "outputs": [
        {
          "output_type": "display_data",
          "data": {
            "application/vnd.jupyter.widget-view+json": {
              "model_id": "a714cbb4be234ab8b07ec9f137be078c",
              "version_minor": 0,
              "version_major": 2
            },
            "text/plain": [
              "HBox(children=(IntProgress(value=0, max=50), HTML(value='')))"
            ]
          },
          "metadata": {
            "tags": []
          }
        },
        {
          "output_type": "stream",
          "text": [
            "\n"
          ],
          "name": "stdout"
        }
      ]
    },
    {
      "cell_type": "code",
      "metadata": {
        "id": "NWtnlcg8krRd",
        "colab_type": "code",
        "outputId": "f1d7a37e-4a5e-4f07-b098-3605ef12c634",
        "colab": {
          "base_uri": "https://localhost:8080/",
          "height": 66,
          "referenced_widgets": [
            "262ccbe3e70d46968ed460ecb8721260",
            "aa6f76ce83d44ef1933eda173309ccb9",
            "cdae8ced8db94fbd9f5608a650191bb7",
            "61ad08483e7d4f14bbad5f678571ba5a",
            "adfee7be858e4fec92addd191eddfbc4",
            "6b34c712f2414d3c983c7e2a0aca0d9f",
            "c462cd4d612c45bfb7b01c129a57857b",
            "0057d5833e444b3fb4bcd1b11473f912"
          ]
        }
      },
      "source": [
        "#get recommendations from fit model - training set (slow)\n",
        "recs_train = mf_model.recommend_all(train_set.T.tocsr(), filter_already_liked_items=True)"
      ],
      "execution_count": 0,
      "outputs": [
        {
          "output_type": "display_data",
          "data": {
            "application/vnd.jupyter.widget-view+json": {
              "model_id": "262ccbe3e70d46968ed460ecb8721260",
              "version_minor": 0,
              "version_major": 2
            },
            "text/plain": [
              "HBox(children=(IntProgress(value=0, max=188756), HTML(value='')))"
            ]
          },
          "metadata": {
            "tags": []
          }
        },
        {
          "output_type": "stream",
          "text": [
            "\n"
          ],
          "name": "stdout"
        }
      ]
    },
    {
      "cell_type": "code",
      "metadata": {
        "id": "jJZG2efD2PTp",
        "colab_type": "code",
        "outputId": "f7f13343-3c34-4355-debc-06edfac33087",
        "colab": {
          "base_uri": "https://localhost:8080/",
          "height": 66,
          "referenced_widgets": [
            "4047418bb64f455da2e5bc0a04e38576",
            "99b26438b19140d1af5eb57c507a828b",
            "747f34dfa20f40ad83a8eb68400121f5",
            "a037121ca858457e9ba2f2f369661d16",
            "444eb1c9697c4bda97f0e5754259853b",
            "1fdc57ce37ba449491018dc965346921",
            "2ae3ca4edf8d46edb0727eb4f15e301b",
            "f42120dfcdea4cc1887bda0e240d9335"
          ]
        }
      },
      "source": [
        "#get recommendations from fit model - validation set (slow)\n",
        "recs_val = mf_model.recommend_all(val_set.T.tocsr(), filter_already_liked_items=True)"
      ],
      "execution_count": 0,
      "outputs": [
        {
          "output_type": "display_data",
          "data": {
            "application/vnd.jupyter.widget-view+json": {
              "model_id": "4047418bb64f455da2e5bc0a04e38576",
              "version_minor": 0,
              "version_major": 2
            },
            "text/plain": [
              "HBox(children=(IntProgress(value=0, max=188756), HTML(value='')))"
            ]
          },
          "metadata": {
            "tags": []
          }
        },
        {
          "output_type": "stream",
          "text": [
            "\n"
          ],
          "name": "stdout"
        }
      ]
    },
    {
      "cell_type": "code",
      "metadata": {
        "id": "kozdjsn_tkiz",
        "colab_type": "code",
        "outputId": "1b68b220-1e65-4184-9e32-1b73ae2d7c06",
        "colab": {
          "base_uri": "https://localhost:8080/",
          "height": 50
        }
      },
      "source": [
        "print(recs_train.shape,train_set.shape)\n",
        "print(recs_val.shape, val_set.shape)"
      ],
      "execution_count": 0,
      "outputs": [
        {
          "output_type": "stream",
          "text": [
            "(188756, 10) (48131, 188756)\n",
            "(188756, 10) (48131, 188756)\n"
          ],
          "name": "stdout"
        }
      ]
    },
    {
      "cell_type": "code",
      "metadata": {
        "id": "OerAu08wmbZX",
        "colab_type": "code",
        "outputId": "b7cc36d8-4a22-4b13-dc69-25020f216424",
        "colab": {
          "base_uri": "https://localhost:8080/",
          "height": 34
        }
      },
      "source": [
        "#make pl_index to iterate over\n",
        "pl_index = make_pl_index(train_set)\n",
        "pl_index.shape"
      ],
      "execution_count": 21,
      "outputs": [
        {
          "output_type": "execute_result",
          "data": {
            "text/plain": [
              "(188748,)"
            ]
          },
          "metadata": {
            "tags": []
          },
          "execution_count": 21
        }
      ]
    },
    {
      "cell_type": "code",
      "metadata": {
        "id": "t8NOGhHIlZD-",
        "colab_type": "code",
        "outputId": "ae1256b0-0021-4c28-f079-e56e586b5342",
        "colab": {
          "base_uri": "https://localhost:8080/",
          "height": 34
        }
      },
      "source": [
        "#calculate precision@k for training set\n",
        "mean_precision = precision_at_k(recs_train, train_set, 10, pl_index)\n",
        "print(f'Average precision@(k=10) for the training set: {mean_precision:0.4f}')"
      ],
      "execution_count": 0,
      "outputs": [
        {
          "output_type": "stream",
          "text": [
            "Average precision@(k=10) for the training set: 0.4345\n"
          ],
          "name": "stdout"
        }
      ]
    },
    {
      "cell_type": "code",
      "metadata": {
        "id": "ZmCYkwevnWB3",
        "colab_type": "code",
        "outputId": "b05c0342-5286-4562-c0c9-2ae7adba5d9a",
        "colab": {
          "base_uri": "https://localhost:8080/",
          "height": 34
        }
      },
      "source": [
        "#calculate precision@k for validation set\n",
        "mean_precision = precision_at_k(recs_val, val_set, 10, pl_index)\n",
        "print(f'Average precision@(k=10) for the test set: {mean_precision:0.4f}')"
      ],
      "execution_count": 0,
      "outputs": [
        {
          "output_type": "stream",
          "text": [
            "Average precision@(k=10) for the test set: 0.0508\n"
          ],
          "name": "stdout"
        }
      ]
    },
    {
      "cell_type": "markdown",
      "metadata": {
        "id": "gI6WVk4couQJ",
        "colab_type": "text"
      },
      "source": [
        "We improved in our precision@k metric on both training and validation sets from the baseline model performance. We will now optimize hyperparameters for better performance."
      ]
    },
    {
      "cell_type": "code",
      "metadata": {
        "id": "UJ16ZPQDPBNI",
        "colab_type": "code",
        "colab": {}
      },
      "source": [
        "def print_log(row, header=False, spacing=12):\n",
        "  \"\"\"\n",
        "  function to make the results of the printout pretty\n",
        "  source: https://www.ethanrosenthal.com/2016/10/19/implicit-mf-part-1/\n",
        "  \"\"\"\n",
        "  top = ''\n",
        "  middle = ''\n",
        "  bottom = ''\n",
        "  for r in row:\n",
        "      top += '+{}'.format('-'*spacing)\n",
        "      if isinstance(r, str):\n",
        "          middle += '| {0:^{1}} '.format(r, spacing-2)\n",
        "      elif isinstance(r, int):\n",
        "          middle += '| {0:^{1}} '.format(r, spacing-2)\n",
        "      elif isinstance(r, float):\n",
        "          middle += '| {0:^{1}.5f} '.format(r, spacing-2)\n",
        "      bottom += '+{}'.format('='*spacing)\n",
        "  top += '+'\n",
        "  middle += '|'\n",
        "  bottom += '+'\n",
        "  if header:\n",
        "      print(top)\n",
        "      print(middle)\n",
        "      print(bottom)\n",
        "  else:\n",
        "      print(middle)\n",
        "      print(top)"
      ],
      "execution_count": 0,
      "outputs": []
    },
    {
      "cell_type": "code",
      "metadata": {
        "id": "bYPCyZ7FPC-a",
        "colab_type": "code",
        "colab": {}
      },
      "source": [
        "def learning_curve(model,train, val, epochs, k=10, pl_index=None):\n",
        "  '''  \n",
        "  model: matrix factorization model that has been fit on training set (default=None)\n",
        "  \n",
        "  train: song-playlist matrix (train set)\n",
        "\n",
        "  val: song-playlist matrix (validation set)\n",
        "\n",
        "  epochs: number of epochs to run\n",
        "  \n",
        "  k: what k to calculate precision@k for\n",
        "  \n",
        "  pl_index: index of playlists to calculate precision@k for\n",
        "\n",
        "  returns: model, train_precion, test_precision\n",
        "\n",
        "  source: https://www.ethanrosenthal.com/2016/10/19/implicit-mf-part-1/\n",
        "\n",
        "  '''\n",
        "  if not pl_index.all():\n",
        "      pl_index = range(train.shape[0])\n",
        "  train_precision = []\n",
        "  test_precision = []\n",
        "  \n",
        "  headers = ['epochs', 'p@k train', 'p@k test']\n",
        "  print_log(headers, header=True)\n",
        "  \n",
        "  for epoch in epochs:\n",
        "      model.fit(train)\n",
        "      recs_train=model.recommend_all(train.T.tocsr(), filter_already_liked_items=False)\n",
        "      recs_val=model.recommend_all(val.T.tocsr(), filter_already_liked_items=False)\n",
        "      train_precision.append(precision_at_k(recs_train, train, k, pl_index))\n",
        "      test_precision.append(precision_at_k(recs_val, val, k, pl_index))\n",
        "      row = [epoch, train_precision[-1], test_precision[-1]]\n",
        "      print_log(row)\n",
        "  return model, train_precision, test_precision"
      ],
      "execution_count": 0,
      "outputs": []
    },
    {
      "cell_type": "code",
      "metadata": {
        "id": "i1R1NugkPMMX",
        "colab_type": "code",
        "colab": {}
      },
      "source": [
        "def grid_search_learning_curve(base_model, train, test, param_grid,\n",
        "                               pl_index=None, patk=10, epochs=range(2, 40, 2)):\n",
        "  \"\"\"\n",
        "  model: matrix factorization model that has been fit on training set (default=None)\n",
        "  \n",
        "  train: song-playlist matrix (train set)\n",
        "\n",
        "  val: song-playlist matrix (validation set)\n",
        "\n",
        "  param_grid: Dictionary of hyperparameters to tune\n",
        "\n",
        "  epochs: number of epochs to run\n",
        "  \n",
        "  k: what k to calculate precision@k for\n",
        "  \n",
        "  pl_index: index of playlists to calculate precision@k for\n",
        "\n",
        "  returns: curves, train_patk, test_patk\n",
        "\n",
        "  source: https://www.ethanrosenthal.com/2016/10/19/implicit-mf-part-1/\n",
        "  \"\"\"\n",
        "  curves = []\n",
        "  keys, values = zip(*param_grid.items())\n",
        "  for v in itertools.product(*values):\n",
        "      params = dict(zip(keys, v))\n",
        "      this_model = copy.deepcopy(base_model)\n",
        "      print_line = []\n",
        "      for k, v in params.items():\n",
        "          setattr(this_model, k, v)\n",
        "          print_line.append((k, v))\n",
        "\n",
        "      print(' | '.join('{}: {}'.format(k, v) for (k, v) in print_line))\n",
        "      _, train_patk, test_patk= learning_curve(this_model, train, test,\n",
        "                                                              epochs, k=patk, pl_index=pl_index)\n",
        "      curves.append({'params': params,\n",
        "                      'patk': {'train': train_patk, 'test': test_patk}})\n",
        "                      \n",
        "  return curves, train_patk, test_patk"
      ],
      "execution_count": 0,
      "outputs": []
    },
    {
      "cell_type": "code",
      "metadata": {
        "id": "g_oB4bP-PQk4",
        "colab_type": "code",
        "colab": {}
      },
      "source": [
        "#initialize hyper parameters\n",
        "param_grid = {'num_factors': [32, 64],  \n",
        "              'regularization': [1e-1,1e-2, 1e1],\n",
        "              'alpha': [1, 10, 50]}"
      ],
      "execution_count": 0,
      "outputs": []
    },
    {
      "cell_type": "code",
      "metadata": {
        "id": "A6juuO0RPUqN",
        "colab_type": "code",
        "outputId": "addc310a-832c-42e5-bede-bb3b766c9985",
        "colab": {
          "base_uri": "https://localhost:8080/",
          "height": 34
        }
      },
      "source": [
        "#initialize the base model\n",
        "!export OPENBLAS_NUM_THREADS=1\n",
        "base_model = implicit.als.AlternatingLeastSquares(iterations=50, calculate_training_loss=True )\n"
      ],
      "execution_count": 19,
      "outputs": [
        {
          "output_type": "stream",
          "text": [
            "WARNING:implicit:GPU training requires factor size to be a multiple of 32. Increasing factors from 100 to 128.\n"
          ],
          "name": "stderr"
        }
      ]
    },
    {
      "cell_type": "code",
      "metadata": {
        "id": "tRrBnZfZPXDQ",
        "colab_type": "code",
        "colab": {}
      },
      "source": [
        "#perform grid search\n",
        "curves,train_precision, test_precision = grid_search_learning_curve(base_model, train_set, val_set,\n",
        "                                    param_grid,\n",
        "                                    pl_index=pl_index,\n",
        "                                    epochs=range(2,12,2),\n",
        "                                    patk=10)\n"
      ],
      "execution_count": 0,
      "outputs": []
    },
    {
      "cell_type": "code",
      "metadata": {
        "id": "t1szlNfGPMhg",
        "colab_type": "code",
        "colab": {}
      },
      "source": [
        "#save the variables return by grid search function as numpy matrix\n",
        "sparse.save_npz('curves.npz', curves)\n",
        "sparse.save_npz('test_precision.npz', test_precision)\n",
        "sparse.save_npz('train_precision.npz', train_precision)"
      ],
      "execution_count": 0,
      "outputs": []
    },
    {
      "cell_type": "code",
      "metadata": {
        "id": "y9702-yCPOzB",
        "colab_type": "code",
        "colab": {}
      },
      "source": [
        "# store the return variables in google drive\n",
        "# !cp curves.npz /content/drive/My\\ Drive/Spotify\n",
        "# !cp train_precision.npz /content/drive/My\\ Drive/Spotify\n",
        "# !cp test_precision.npz /content/drive/My\\ Drive/Spotify"
      ],
      "execution_count": 0,
      "outputs": []
    },
    {
      "cell_type": "markdown",
      "metadata": {
        "id": "ozaxBmjsPSeO",
        "colab_type": "text"
      },
      "source": [
        "We encountered a lot of challenges when doing grid search to optimize our hyperparameters using google colab. Our search was exhaustive and took about 10hrs but we kept getting overloaded buffer errors or the kernel resets from google so after two days of trying we decided to do hyperparamter tuning by hand and reduced the number of parameters. Below are the results.\n",
        "\n",
        "| alpha  | factors   | regularization  | precision@k-test  | precision@k-val|   \n",
        "| :----- | :-------: | :-------------: | :--------------:  | :-------------:|\n",
        "|  1     |    32     |      0.1        |        0.4067     |      0.0434    |\n",
        "|  10    |    32     |      0.1        |        0.4342     |      0.0508    |\n",
        "|  50    |    32     |      0.1        |        0.4239     |      0.0538    |\n",
        "|  1     |    32     |     0.01        |        0.4067     |      0.0433    |\n",
        "|  10    |    32     |     0.01        |        0.4342     |      0.0508    |\n",
        "|  50    |    32     |     0.01        |        0.4238     |      0.0538    |\n",
        "|  1     |    32     |     10.0        |        0.4055     |      0.0433    |\n",
        "|  10    |    32     |     10.0        |        0.4339     |      0.0507    |\n",
        "|  50    |    32     |     10.0        |        0.4242     |      0.0539    |\n",
        "\n"
      ]
    },
    {
      "cell_type": "markdown",
      "metadata": {
        "id": "ZKC4lPQ_TkxZ",
        "colab_type": "text"
      },
      "source": [
        "| alpha | factors | regularization | precision@k-test | precision@k-val |\n",
        "| :-----| :------:| :-------------:| :---------------:| :--------------:|\n",
        "|   1   |    64  |        0.1      |      0.0539      |      0.0476     |\n",
        "|  10   |    64  |        0.1      |      0.5037      |      0.0572     |    \n",
        "|  50   |    64  |        0.1      |      0.4548      |      0.0596     |\n",
        "|   1   |    64  |       0.01      |      0.4991      |      0.0476     | \n",
        "|  10   |    64  |       0.01      |      0.5039      |      0.0572     |\n",
        "|  50   |    64  |       0.01      |      0.4547      |      0.0596     |\n",
        "|   1   |    64  |       10.0      |      0.4970      |      0.0475     |\n",
        "|  10   |    64  |       10.0      |      0.5034      |      0.0571     |\n",
        "|  50   |    64  |       10.0      |      0.4558      |      0.0596     |"
      ]
    },
    {
      "cell_type": "code",
      "metadata": {
        "id": "90QTezZLQMYZ",
        "colab_type": "code",
        "outputId": "dab1b8f1-66af-4e39-81f1-e866e00df540",
        "colab": {
          "base_uri": "https://localhost:8080/",
          "height": 34
        }
      },
      "source": [
        "#fit final model on all data (item_user_matrix.npz)\n",
        "alpha = 50\n",
        "conf_test_set = (likes*alpha).tocsr()\n",
        "conf_test_set.dtype"
      ],
      "execution_count": 23,
      "outputs": [
        {
          "output_type": "execute_result",
          "data": {
            "text/plain": [
              "dtype('float64')"
            ]
          },
          "metadata": {
            "tags": []
          },
          "execution_count": 23
        }
      ]
    },
    {
      "cell_type": "code",
      "metadata": {
        "id": "Oc1tPIXmSIFC",
        "colab_type": "code",
        "colab": {}
      },
      "source": [
        "!export OPENBLAS_NUM_THREADS=1\n",
        "best_model = implicit.als.AlternatingLeastSquares(factors=64, iterations=10, regularization=10)"
      ],
      "execution_count": 0,
      "outputs": []
    },
    {
      "cell_type": "code",
      "metadata": {
        "id": "N28prt4CShPG",
        "colab_type": "code",
        "outputId": "c5a35dc7-24c5-4702-a61c-36dd65ebdf8b",
        "colab": {
          "base_uri": "https://localhost:8080/",
          "height": 66,
          "referenced_widgets": [
            "1d136332d0ba4001bf5f01a539e0e36e",
            "2058b5cde72446b39d2bf9d9614248ee",
            "64e7d6d4080e4eafaaf855e05f9b2b7a",
            "2163e48bc0ad4291a9c6b4cdd30a2352",
            "cb9421750a7746bbba721c047677d0bf",
            "691af40c9e1a405f84616ee38e072504",
            "a788e988191d4000a192af76572505cb",
            "5297e028f5fd4a179d523eb75531f1c4"
          ]
        }
      },
      "source": [
        "#fit model on test set\n",
        "best_model.fit(conf_test_set)"
      ],
      "execution_count": 25,
      "outputs": [
        {
          "output_type": "display_data",
          "data": {
            "application/vnd.jupyter.widget-view+json": {
              "model_id": "1d136332d0ba4001bf5f01a539e0e36e",
              "version_minor": 0,
              "version_major": 2
            },
            "text/plain": [
              "HBox(children=(IntProgress(value=0, max=10), HTML(value='')))"
            ]
          },
          "metadata": {
            "tags": []
          }
        },
        {
          "output_type": "stream",
          "text": [
            "\n"
          ],
          "name": "stdout"
        }
      ]
    },
    {
      "cell_type": "code",
      "metadata": {
        "id": "tvpcGwaPTRbG",
        "colab_type": "code",
        "outputId": "03576a60-0da9-4edf-89c2-f2a7b63840ae",
        "colab": {
          "base_uri": "https://localhost:8080/",
          "height": 66,
          "referenced_widgets": [
            "5323d00e8121454bacf383c0efdd8c97",
            "5d81868168b14b4c8dc1b8d666f0651a",
            "3d8345e791e342ffac125048e5297bbb",
            "b10f5077d0314e1285cb8bff3925615f",
            "620a905fca5f4c29b30ef0b7c1c696e5",
            "48cb6e40b0c94d65a8bf95675769abf9",
            "30969305167049d0bee0937121973b49",
            "c317c281ffd14feda92168e6f93a892c"
          ]
        }
      },
      "source": [
        "#get recs from test set\n",
        "recs_test = best_model.recommend_all(likes.T.tocsr(), filter_already_liked_items=False)"
      ],
      "execution_count": 27,
      "outputs": [
        {
          "output_type": "display_data",
          "data": {
            "application/vnd.jupyter.widget-view+json": {
              "model_id": "5323d00e8121454bacf383c0efdd8c97",
              "version_minor": 0,
              "version_major": 2
            },
            "text/plain": [
              "HBox(children=(IntProgress(value=0, max=188756), HTML(value='')))"
            ]
          },
          "metadata": {
            "tags": []
          }
        },
        {
          "output_type": "stream",
          "text": [
            "\n"
          ],
          "name": "stdout"
        }
      ]
    },
    {
      "cell_type": "code",
      "metadata": {
        "id": "mVnERQIXUJSJ",
        "colab_type": "code",
        "colab": {}
      },
      "source": [
        "#get precision of test set\n",
        "mean_precision = precision_at_k(recs_test, likes, 10, pl_index)\n",
        "print(f'Average precision@(k=10) for the test set: {mean_precision:0.4f}')"
      ],
      "execution_count": 0,
      "outputs": []
    },
    {
      "cell_type": "markdown",
      "metadata": {
        "id": "ZHoW605Ngq0q",
        "colab_type": "text"
      },
      "source": [
        "# Performance of Best Model"
      ]
    },
    {
      "cell_type": "markdown",
      "metadata": {
        "id": "VwC617c7JQYJ",
        "colab_type": "text"
      },
      "source": [
        "Now we have our final model! We should evaluate our performance on data we held out - this includes short playlists that we removed to make a less sparse matrix, as well as playlists from the other 500k that were filtered out at the very start. \n",
        "\n",
        "We will have to make an item-user matrix for the held out data (no thresholding to make less sparse this time around) and have our best model do recommendations for the playlists. Performance will be measured in terms of precision@k, where k can go lower than 10, if we choose to include short playlists (less than 10 songs)"
      ]
    },
    {
      "cell_type": "code",
      "metadata": {
        "id": "VmhZVNlCOd10",
        "colab_type": "code",
        "outputId": "7f1b50e6-57ba-4432-81d7-b8c515f6409c",
        "colab": {
          "base_uri": "https://localhost:8080/",
          "height": 72
        }
      },
      "source": [
        "#make sparse matrix from playlists that were too short (filtered out at thresholding step)\n",
        "songs = pd.read_csv('/content/drive/My Drive/Spotify/dense_playlists_filtout.csv', index_col=0)"
      ],
      "execution_count": 0,
      "outputs": [
        {
          "output_type": "stream",
          "text": [
            "/usr/local/lib/python3.6/dist-packages/numpy/lib/arraysetops.py:568: FutureWarning: elementwise comparison failed; returning scalar instead, but in the future will perform elementwise comparison\n",
            "  mask |= (ar1 == a)\n"
          ],
          "name": "stderr"
        }
      ]
    },
    {
      "cell_type": "code",
      "metadata": {
        "id": "INNMg5ufghb3",
        "colab_type": "code",
        "colab": {}
      },
      "source": [
        "#make sparse matrix\n",
        "cols = songs.pidfile_name.astype('category').cat.codes # make category codes/indices for each playlist\n",
        "rows = songs.track_uri.astype('category').cat.codes # make category codes/indices for each song\n",
        "likes = np.ones(songs.shape[0]) #1s if song is in playlist"
      ],
      "execution_count": 0,
      "outputs": []
    },
    {
      "cell_type": "code",
      "metadata": {
        "id": "qEf4i1MTgyIx",
        "colab_type": "code",
        "colab": {}
      },
      "source": [
        "filtout_likes = sparse.csr_matrix((likes, (rows, cols)), dtype=np.float64) #make sparse matrix\n",
        "print(songs.groupby(by=['pidfile_name', 'track_uri']).count()['track_name'].shape)\n",
        "filtout_likes"
      ],
      "execution_count": 0,
      "outputs": []
    },
    {
      "cell_type": "code",
      "metadata": {
        "id": "3jcBGMXBg9X-",
        "colab_type": "code",
        "colab": {}
      },
      "source": [
        "sparse.save_npz('item_user_matrix_filtout.npz', filtout_likes)"
      ],
      "execution_count": 0,
      "outputs": []
    },
    {
      "cell_type": "code",
      "metadata": {
        "id": "I8Y2HbWVhiIo",
        "colab_type": "code",
        "colab": {}
      },
      "source": [
        "filtout_likes = sparse.load_npz('/content/drive/My Drive/Spotify/item_user_matrix_filtout.npz')"
      ],
      "execution_count": 0,
      "outputs": []
    },
    {
      "cell_type": "code",
      "metadata": {
        "id": "Mqd-Lzzz8CZc",
        "colab_type": "code",
        "outputId": "827bddfc-d69a-4c02-8606-4cef832bfa8c",
        "colab": {
          "base_uri": "https://localhost:8080/",
          "height": 34
        }
      },
      "source": [
        "alpha = 50\n",
        "conf_test_set = (filtout_likes*alpha).tocsr()\n",
        "conf_test_set.dtype"
      ],
      "execution_count": 0,
      "outputs": [
        {
          "output_type": "execute_result",
          "data": {
            "text/plain": [
              "dtype('float64')"
            ]
          },
          "metadata": {
            "tags": []
          },
          "execution_count": 29
        }
      ]
    },
    {
      "cell_type": "code",
      "metadata": {
        "id": "hP-vfX8K8Wic",
        "colab_type": "code",
        "colab": {}
      },
      "source": [
        "#initialize model\n",
        "# !export OPENBLAS_NUM_THREADS=1\n",
        "best_model = implicit.als.AlternatingLeastSquares(factors=64, iterations=10)"
      ],
      "execution_count": 0,
      "outputs": []
    },
    {
      "cell_type": "code",
      "metadata": {
        "id": "BaMpRs-k9DSJ",
        "colab_type": "code",
        "colab": {}
      },
      "source": [
        "best_model.fit(conf_test_set)"
      ],
      "execution_count": 0,
      "outputs": []
    },
    {
      "cell_type": "code",
      "metadata": {
        "id": "BlNMv3W9OzRd",
        "colab_type": "code",
        "colab": {}
      },
      "source": [
        "#get recommendations from fit model - short playlist set (slow)\n",
        "recs_filtout = best_model.recommend_all(filtout_likes.T.tocsr(), filter_already_liked_items=False)"
      ],
      "execution_count": 0,
      "outputs": []
    },
    {
      "cell_type": "code",
      "metadata": {
        "id": "b0UQz5FkHMbT",
        "colab_type": "code",
        "outputId": "534c5ff9-6b00-40d5-cea1-ea91ce999d14",
        "colab": {
          "base_uri": "https://localhost:8080/",
          "height": 34
        }
      },
      "source": [
        "#calculate precision@k for short playlist set\n",
        "mean_precision = precision_at_k(recs_filtout, train_set, 10, pl_index)\n",
        "print(f'Average precision@(k=10) for the short playlist set: {mean_precision:0.4f}')"
      ],
      "execution_count": 0,
      "outputs": [
        {
          "output_type": "stream",
          "text": [
            "Average precision@(k=10) for the short playlist set: 0.0001\n"
          ],
          "name": "stdout"
        }
      ]
    },
    {
      "cell_type": "code",
      "metadata": {
        "id": "Rk-y7hzQOnSJ",
        "colab_type": "code",
        "outputId": "82c8354f-2797-4a23-e9da-eef2ab586804",
        "colab": {
          "base_uri": "https://localhost:8080/",
          "height": 72
        }
      },
      "source": [
        "#make sparse matrix from subset of 500k playlists that were held out at the start\n",
        "songs_500k = pd.read_csv('/content/drive/My Drive/Spotify/500k_playlists.csv', index_col=0)"
      ],
      "execution_count": 31,
      "outputs": [
        {
          "output_type": "stream",
          "text": [
            "/usr/local/lib/python3.6/dist-packages/numpy/lib/arraysetops.py:568: FutureWarning: elementwise comparison failed; returning scalar instead, but in the future will perform elementwise comparison\n",
            "  mask |= (ar1 == a)\n"
          ],
          "name": "stderr"
        }
      ]
    },
    {
      "cell_type": "code",
      "metadata": {
        "id": "nceAKjEXZ7Jo",
        "colab_type": "code",
        "colab": {}
      },
      "source": [
        "#make sparse matrix\n",
        "cols_500k = songs_500k.pidfile_name.astype('category').cat.codes # make category codes/indices for each playlist\n",
        "rows_500k = songs_500k.track_uri.astype('category').cat.codes # make category codes/indices for each song\n",
        "likes_500k = np.ones(songs_500k.shape[0]) #1s if song is in playlist"
      ],
      "execution_count": 0,
      "outputs": []
    },
    {
      "cell_type": "code",
      "metadata": {
        "id": "dlIOjrQoaLzx",
        "colab_type": "code",
        "colab": {
          "base_uri": "https://localhost:8080/",
          "height": 69
        },
        "outputId": "0a22fc4e-d956-489d-d9d1-abdc43f1838b"
      },
      "source": [
        "filtout_likes_500k = sparse.csr_matrix((likes_500k, (rows_500k, cols_500k)), dtype=np.float64) #make sparse matrix\n",
        "print(songs_500k.groupby(by=['pidfile_name', 'track_uri']).count()['track_name'].shape)\n",
        "filtout_likes_500k"
      ],
      "execution_count": 33,
      "outputs": [
        {
          "output_type": "stream",
          "text": [
            "(32703791,)\n"
          ],
          "name": "stdout"
        },
        {
          "output_type": "execute_result",
          "data": {
            "text/plain": [
              "<1607449x500000 sparse matrix of type '<class 'numpy.float64'>'\n",
              "\twith 32703791 stored elements in Compressed Sparse Row format>"
            ]
          },
          "metadata": {
            "tags": []
          },
          "execution_count": 33
        }
      ]
    },
    {
      "cell_type": "code",
      "metadata": {
        "id": "qEdL_5qeaa4q",
        "colab_type": "code",
        "colab": {}
      },
      "source": [
        "#save sparse matrix\n",
        "sparse.save_npz('500k_matrix.npz', filtout_likes_500k)"
      ],
      "execution_count": 0,
      "outputs": []
    },
    {
      "cell_type": "code",
      "metadata": {
        "id": "7Ki7i-OMdjqe",
        "colab_type": "code",
        "colab": {}
      },
      "source": [
        "k500_set = sparse.load_npz('/content/drive/My Drive/Spotify/500k_matrix.npz')"
      ],
      "execution_count": 0,
      "outputs": []
    },
    {
      "cell_type": "code",
      "metadata": {
        "id": "kf9VM-RFd3cq",
        "colab_type": "code",
        "colab": {
          "base_uri": "https://localhost:8080/",
          "height": 34
        },
        "outputId": "425ad534-430e-436d-b4e8-6d6c82c0c4fe"
      },
      "source": [
        "alpha = 50\n",
        "conf_500k_set = (k500_set*alpha).tocsr()\n",
        "conf_500k_set.dtype"
      ],
      "execution_count": 40,
      "outputs": [
        {
          "output_type": "execute_result",
          "data": {
            "text/plain": [
              "dtype('float64')"
            ]
          },
          "metadata": {
            "tags": []
          },
          "execution_count": 40
        }
      ]
    },
    {
      "cell_type": "code",
      "metadata": {
        "id": "2zS3LtRNeFBc",
        "colab_type": "code",
        "colab": {
          "base_uri": "https://localhost:8080/",
          "height": 66,
          "referenced_widgets": [
            "597f2ee784074bbcab4ce87397af5885",
            "5f4c8aa6b0f34c3eb15ddf49b5e77b01",
            "c88e8cf3a8a84cb5b5445b34d15a432f",
            "742a8cfd7abf4940803a9789523e879b",
            "502b971e91bf45c78123135b093c2d7f",
            "d7ed74f4ba334eceaed50b24f19cd9b8",
            "9250548d7222424ea7e310671c9df22d",
            "12f98787cb5c4be3b31ea8f66fcbba25"
          ]
        },
        "outputId": "f6fb484d-e4d6-46f7-f523-54e1d2a9f045"
      },
      "source": [
        "best_model.fit(conf_500k_set)"
      ],
      "execution_count": 43,
      "outputs": [
        {
          "output_type": "display_data",
          "data": {
            "application/vnd.jupyter.widget-view+json": {
              "model_id": "597f2ee784074bbcab4ce87397af5885",
              "version_minor": 0,
              "version_major": 2
            },
            "text/plain": [
              "HBox(children=(IntProgress(value=0, max=10), HTML(value='')))"
            ]
          },
          "metadata": {
            "tags": []
          }
        },
        {
          "output_type": "stream",
          "text": [
            "\n"
          ],
          "name": "stdout"
        }
      ]
    },
    {
      "cell_type": "code",
      "metadata": {
        "id": "HXiomfoDeJTo",
        "colab_type": "code",
        "colab": {
          "base_uri": "https://localhost:8080/",
          "height": 66,
          "referenced_widgets": [
            "df5d5f7f06f9477a984903f96b3a2fcc",
            "43996838d86140898c2511a72fc3eda1",
            "1334734009aa46b1a9da9ec6fff7de93",
            "c934423338974ee38637e18685ee6636",
            "948f20df818340a690360c8c53a89bba",
            "c85b19d9e37e493b95c15bea456700e2",
            "76bc4bbcbb154cd68c5c97d4d24410f7",
            "5c5a6a22394848dc8cc8f50ad04a32ea"
          ]
        },
        "outputId": "15555fb9-a81f-4d38-ceb8-180fe0c0dbd7"
      },
      "source": [
        "recs_500k = best_model.recommend_all(k500_set.T.tocsr(), filter_already_liked_items=False)"
      ],
      "execution_count": 45,
      "outputs": [
        {
          "output_type": "display_data",
          "data": {
            "application/vnd.jupyter.widget-view+json": {
              "model_id": "df5d5f7f06f9477a984903f96b3a2fcc",
              "version_minor": 0,
              "version_major": 2
            },
            "text/plain": [
              "HBox(children=(IntProgress(value=0, max=500000), HTML(value='')))"
            ]
          },
          "metadata": {
            "tags": []
          }
        },
        {
          "output_type": "stream",
          "text": [
            "\n"
          ],
          "name": "stdout"
        }
      ]
    },
    {
      "cell_type": "code",
      "metadata": {
        "id": "0eTiK2R5fTtN",
        "colab_type": "code",
        "colab": {}
      },
      "source": [
        "#make pl_index to iterate over\n",
        "# pl_index_500k = make_pl_index(k500_set)\n",
        "# pl_index_500k.shape"
      ],
      "execution_count": 0,
      "outputs": []
    },
    {
      "cell_type": "code",
      "metadata": {
        "id": "TRbd1rMDO2rm",
        "colab_type": "code",
        "colab": {}
      },
      "source": [
        "#evaluate precision@k\n",
        "mean_precision = precision_at_k(recs_500k, k500_set, 10, pl_index)\n",
        "print(f'Average precision@(k=10) for 500k playlist: {mean_precision:0.4f}')"
      ],
      "execution_count": 0,
      "outputs": []
    },
    {
      "cell_type": "markdown",
      "metadata": {
        "id": "rSuQ7s3dPObb",
        "colab_type": "text"
      },
      "source": [
        "Now let's look at some example recommendations - let's take the recommended songs for some random playlists and see how the recommended songs compare to what is already in the playlist. "
      ]
    },
    {
      "cell_type": "code",
      "metadata": {
        "id": "75JEij36PH2f",
        "colab_type": "code",
        "colab": {}
      },
      "source": [
        "#first make reference dataframes so that we know what category number corresponds to what track_uri and playlist as well\n",
        "#need variables 'rows' and 'cols' from sparse matrix 'likes' for it to work with test set predictions\n",
        "uri_index = pd.DataFrame(list(zip(rows,songs.track_uri)), columns =['row_cat', 'track_uri']).drop_duplicates()\n",
        "playlist_index = pd.DataFrame(list(zip(cols,songs.pidfile_name)), columns =['col_cat', 'pidfile_name']).drop_duplicates()"
      ],
      "execution_count": 0,
      "outputs": []
    },
    {
      "cell_type": "code",
      "metadata": {
        "id": "0DuXbHZcME8K",
        "colab_type": "code",
        "outputId": "8567b821-d805-4af9-cb61-f396267699d3",
        "colab": {
          "base_uri": "https://localhost:8080/",
          "height": 272
        }
      },
      "source": [
        "!pip install spotipy"
      ],
      "execution_count": 0,
      "outputs": [
        {
          "output_type": "stream",
          "text": [
            "Collecting spotipy\n",
            "  Downloading https://files.pythonhosted.org/packages/59/46/3c957255c96910a8a0e2d9c25db1de51a8676ebba01d7966bedc6e748822/spotipy-2.4.4.tar.gz\n",
            "Requirement already satisfied: requests>=1.0 in /usr/local/lib/python3.6/dist-packages (from spotipy) (2.21.0)\n",
            "Requirement already satisfied: urllib3<1.25,>=1.21.1 in /usr/local/lib/python3.6/dist-packages (from requests>=1.0->spotipy) (1.24.3)\n",
            "Requirement already satisfied: certifi>=2017.4.17 in /usr/local/lib/python3.6/dist-packages (from requests>=1.0->spotipy) (2019.11.28)\n",
            "Requirement already satisfied: idna<2.9,>=2.5 in /usr/local/lib/python3.6/dist-packages (from requests>=1.0->spotipy) (2.8)\n",
            "Requirement already satisfied: chardet<3.1.0,>=3.0.2 in /usr/local/lib/python3.6/dist-packages (from requests>=1.0->spotipy) (3.0.4)\n",
            "Building wheels for collected packages: spotipy\n",
            "  Building wheel for spotipy (setup.py) ... \u001b[?25l\u001b[?25hdone\n",
            "  Created wheel for spotipy: filename=spotipy-2.4.4-cp36-none-any.whl size=12336 sha256=06cb6b58259f382d9d8954b67766e66dfe61eb5424a270c6b7ee7fee8c66d9cb\n",
            "  Stored in directory: /root/.cache/pip/wheels/76/28/19/a86ca9bb0e32dbd4a4f580870250f5aeef852870578e0427e6\n",
            "Successfully built spotipy\n",
            "Installing collected packages: spotipy\n",
            "Successfully installed spotipy-2.4.4\n"
          ],
          "name": "stdout"
        }
      ]
    },
    {
      "cell_type": "code",
      "metadata": {
        "id": "1dliwAJSO6gz",
        "colab_type": "code",
        "colab": {}
      },
      "source": [
        "import spotipy\n",
        "from spotipy.oauth2 import SpotifyClientCredentials\n",
        "\n",
        "#get credentials so that you can access information from Spotify using URIs\n",
        "client_id = ''\n",
        "client_secret = ''\n",
        "client_credentials_manager = SpotifyClientCredentials(client_id=client_id, client_secret=client_secret)\n",
        "sp = spotipy.Spotify(client_credentials_manager=client_credentials_manager)\n"
      ],
      "execution_count": 0,
      "outputs": []
    },
    {
      "cell_type": "code",
      "metadata": {
        "id": "tRMgUdxKU5xl",
        "colab_type": "code",
        "colab": {}
      },
      "source": [
        "def get_rec_tracknames(recs,playlist,observed=False):\n",
        "  #this function takes in the output from the model and returns the tracks names the model recommended for a single playlist\n",
        "  #in addition to the songs already on the playlist\n",
        "\n",
        "  #recs: output of mf_model.recommend_all, such as recs_train\n",
        "  #playlist: which playlist to return tracks for. this is an index to choose which row of recs.\n",
        "  #observed: if True, it will print the song titles on the original playlist\n",
        "\n",
        "  tracks = uri_index[uri_index['row_cat'].isin(recs[playlist,])]['track_uri']\n",
        "  ind = playlist_index[playlist_index['col_cat']==playlist]['pidfile_name'].to_string(index=False).strip()\n",
        "  print('The model recommends these songs for playlist',ind+'!')\n",
        "  for num in np.arange(0,tracks.shape[0]):\n",
        "    single = sp.track(tracks.iloc[num])\n",
        "    print(single['name'], 'by', single['artists'][0]['name'])\n",
        "  if observed==True:\n",
        "    print(' ')\n",
        "    print('The other songs on this playlist were:')\n",
        "    print(songs[songs['pidfile_name']==ind]['track_name'].values)"
      ],
      "execution_count": 0,
      "outputs": []
    },
    {
      "cell_type": "code",
      "metadata": {
        "id": "mX7VjDHpXMZ0",
        "colab_type": "code",
        "outputId": "ff046060-5fde-4d67-8ab2-b4d2c9e91574",
        "colab": {
          "base_uri": "https://localhost:8080/",
          "height": 1000
        }
      },
      "source": [
        "#get track names and playlist songs from test set\n",
        "get_rec_tracknames(recs_test,21389,observed=True)\n"
      ],
      "execution_count": 0,
      "outputs": [
        {
          "output_type": "stream",
          "text": [
            "The model recommends these songs for playlist 201songs719!\n",
            "What Is Love by Haddaway\n",
            "Down Under by Men At Work\n",
            "Wake Me up Before You Go-Go by Wham!\n",
            "Africa by TOTO\n",
            "Girls Just Want to Have Fun by Cyndi Lauper\n",
            "Don't You (Forget About Me) by Simple Minds\n",
            "Summer Of '69 by Bryan Adams\n",
            "Tainted Love by Soft Cell\n",
            "Take on Me by a-ha\n",
            "Sweet Dreams (Are Made of This) - Remastered by Eurythmics\n",
            " \n",
            "The other songs on this playlist were:\n",
            "['All Star' 'Spirit In The Sky' 'Start Me Up - Remastered'\n",
            " 'Walking On Sunshine' \"Don't Stop Me Now - Remastered\" 'We Belong'\n",
            " 'Hey Ya! - Radio Mix / Club Mix' \"Jessie's Girl\" 'La Bamba (45 Version)'\n",
            " \"Stacy's Mom\" 'You Make My Dreams - Remastered' \"Baba O'Riley\"\n",
            " 'Brown Eyed Girl' \"She's so High\" 'Rich Girl'\n",
            " 'Funkytown - Single Version' \"You Can't Hurry Love - 2016 Remastered\"\n",
            " 'Low Rider' 'Build Me up Buttercup' 'Dancing Queen'\n",
            " 'You Get What You Give' 'December, 1963 (Oh What A Night!)'\n",
            " 'You Shook Me All Night Long' 'Africa' 'Dancing In The Dark' 'Down Under'\n",
            " 'The Final Countdown' \"Don't You (Forget About Me)\" 'Red Red Wine - Edit'\n",
            " 'Never Gonna Give You Up' 'Working for the Weekend' 'Mickey'\n",
            " 'Walk Like an Egyptian' '99 Luftballons' 'Tarzan Boy'\n",
            " 'Boom, Boom, Boom, Boom!!' 'All That She Wants' 'Careless Whisper'\n",
            " 'Come On Eileen' 'Barbie Girl' 'Total Eclipse of The Heart'\n",
            " 'Mambo No. 5 (A Little Bit of...)'\n",
            " \"I'd Do Anything For Love (But I Won't Do That) - Single Edit\"\n",
            " 'Wake Me up Before You Go-Go' \"U Can't Touch This\" 'Island In The Sun'\n",
            " \"We're Not Gonna Take It\" 'Blue [Da Ba Dee]' \"Livin' On A Prayer\"\n",
            " 'You Give Love A Bad Name' 'Wanted Dead Or Alive' \"It's My Life\"\n",
            " 'Mr. Jones' 'White Wedding - Pt. 1' 'Wannabe - Radio Edit'\n",
            " 'My Favourite Game' 'Every Rose Has Its Thorn - 2003 - Remaster'\n",
            " 'Believe' \"Safety Dance - From the TV Serie ''Scrubs''\" \"Summer Of '69\"\n",
            " 'Dance Hall Days' \"Don't Go Breaking My Heart\"\n",
            " 'Hungry Like The Wolf - 2009 Remastered Version' \"Livin' la Vida Loca\"\n",
            " 'When You Were Young' 'The Sign' 'Material Girl' 'Brother Louie'\n",
            " 'Sultans Of Swing' 'Walk Of Life' 'Take On Me' 'Here I Go Again'\n",
            " 'Go Your Own Way - 2004 Remastered Edition' 'On the Road Again'\n",
            " 'Break My Stride' 'Big In Japan - Original' 'Super Trouper' 'Mamma Mia'\n",
            " 'The Winner Takes It All' 'Chiquitita' 'Voulez-Vous'\n",
            " 'Gimme! Gimme! Gimme! (A Man After Midnight)' 'Lonely No More'\n",
            " 'We like to Party! (The Vengabus)'\n",
            " 'Tainted Love / Where Did Our Love Go - Extended Version'\n",
            " 'Grease - 2007 Remastered Version' 'Upside Down'\n",
            " 'Gloria - LP/Single Version' 'Heaven' 'Big Love - Remastered'\n",
            " 'La Isla Bonita' \"Nothing's Gonna Stop Us Now\" 'Little Lies - Remastered'\n",
            " 'I Just Called To Say I Love You - Single Version'\n",
            " 'Lovefool - Radio Edit' 'Take A Chance On Me'\n",
            " 'Girls Just Want to Have Fun' 'Karma Chameleon - 2002 - Remaster'\n",
            " \"I'm So Excited\" '(I Just) Died in Your Arms' 'Forever Young'\n",
            " 'Heaven Is A Place On Earth' 'Take My Breath Away' 'Eye of the Tiger'\n",
            " 'I Want To Know What Love Is - Remastered' 'What A Feeling'\n",
            " 'Relax, Take It Easy' 'Smooth' 'Disco Inferno' 'Angel'\n",
            " 'You Can Call Me Al' 'Running On Empty' \"Somebody's Baby\" 'What Is Love'\n",
            " 'Daddy Cool' \"Stayin' Alive\" 'September' 'Have You Ever Seen The Rain?'\n",
            " 'One Way Or Another - 2001 - Remaster' 'Beautiful Life'\n",
            " \"Rocket Man (I Think It's Going To Be A Long Long Time)\" 'Celebration'\n",
            " 'I Will Survive' \"You're The One That I Want - From “Grease” Soundtrack\"\n",
            " 'Kung Fu Fighting' 'Super Freak'\n",
            " 'Another One Bites The Dust - Remastered 2011' \"Don't Speak\"\n",
            " 'Rock Your Body']\n"
          ],
          "name": "stdout"
        }
      ]
    }
  ]
}